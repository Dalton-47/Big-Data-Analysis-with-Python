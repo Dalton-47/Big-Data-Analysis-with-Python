{
  "nbformat": 4,
  "nbformat_minor": 0,
  "metadata": {
    "colab": {
      "name": "Chapter 1 - Activities 2 - 8.ipynb",
      "version": "0.3.2",
      "provenance": []
    },
    "kernelspec": {
      "name": "python3",
      "display_name": "Python 3"
    }
  },
  "cells": [
    {
      "metadata": {
        "id": "CuHujo0pQit9",
        "colab_type": "text"
      },
      "cell_type": "markdown",
      "source": [
        "# Activity 2-8\n",
        "This notebook details Activites from 2 to 8."
      ]
    },
    {
      "metadata": {
        "id": "sERMh_goO6L4",
        "colab_type": "code",
        "colab": {}
      },
      "cell_type": "code",
      "source": [
        "%matplotlib inline\n",
        "\n",
        "import numpy as np\n",
        "import pandas as pd\n",
        "import matplotlib.pyplot as plt\n",
        "import seaborn as sns"
      ],
      "execution_count": 0,
      "outputs": []
    },
    {
      "metadata": {
        "id": "IHQxQr1uGX0E",
        "colab_type": "code",
        "colab": {}
      },
      "cell_type": "code",
      "source": [
        "# We will explain what's going on here on the next chapter. \n",
        "plt.rcParams[\"figure.figsize\"] = (15,10)\n",
        "plt.style.use('seaborn')"
      ],
      "execution_count": 0,
      "outputs": []
    },
    {
      "metadata": {
        "id": "cmHolWajWq8T",
        "colab_type": "text"
      },
      "cell_type": "markdown",
      "source": [
        "## Activity 2 - Reading data\n",
        "We will use the the RadNet Laboratory Analysis, from the U.S. Environmental Protection Agency, located [here](https://opendata.socrata.com/api/views/cf4r-dfwe/). This dataset describes the radioactive content collected by the USPA in different cities in the US, for different radionuclides. \n"
      ]
    },
    {
      "metadata": {
        "id": "TthUELEg-JcZ",
        "colab_type": "code",
        "colab": {}
      },
      "cell_type": "code",
      "source": [
        "url = \"https://opendata.socrata.com/api/views/cf4r-dfwe/rows.csv?accessType=DOWNLOAD\""
      ],
      "execution_count": 0,
      "outputs": []
    },
    {
      "metadata": {
        "id": "LPgZ90M8-X8Q",
        "colab_type": "code",
        "colab": {}
      },
      "cell_type": "code",
      "source": [
        "df = pd.read_csv(url)"
      ],
      "execution_count": 0,
      "outputs": []
    },
    {
      "metadata": {
        "id": "pwp_BZWiGKF1",
        "colab_type": "code",
        "colab": {
          "base_uri": "https://localhost:8080/",
          "height": 310
        },
        "outputId": "9a94e0b1-05b4-4761-cb19-0e78cc7690b2"
      },
      "cell_type": "code",
      "source": [
        "df.head()"
      ],
      "execution_count": 41,
      "outputs": [
        {
          "output_type": "execute_result",
          "data": {
            "text/html": [
              "<div>\n",
              "<style scoped>\n",
              "    .dataframe tbody tr th:only-of-type {\n",
              "        vertical-align: middle;\n",
              "    }\n",
              "\n",
              "    .dataframe tbody tr th {\n",
              "        vertical-align: top;\n",
              "    }\n",
              "\n",
              "    .dataframe thead th {\n",
              "        text-align: right;\n",
              "    }\n",
              "</style>\n",
              "<table border=\"1\" class=\"dataframe\">\n",
              "  <thead>\n",
              "    <tr style=\"text-align: right;\">\n",
              "      <th></th>\n",
              "      <th>State</th>\n",
              "      <th>Location</th>\n",
              "      <th>Date Posted</th>\n",
              "      <th>Date Collected</th>\n",
              "      <th>Sample Type</th>\n",
              "      <th>Unit</th>\n",
              "      <th>Ba-140</th>\n",
              "      <th>Co-60</th>\n",
              "      <th>Cs-134</th>\n",
              "      <th>Cs-136</th>\n",
              "      <th>Cs-137</th>\n",
              "      <th>I-131</th>\n",
              "      <th>I-132</th>\n",
              "      <th>I-133</th>\n",
              "      <th>Te-129</th>\n",
              "      <th>Te-129m</th>\n",
              "      <th>Te-132</th>\n",
              "    </tr>\n",
              "  </thead>\n",
              "  <tbody>\n",
              "    <tr>\n",
              "      <th>0</th>\n",
              "      <td>ID</td>\n",
              "      <td>Boise</td>\n",
              "      <td>03/30/2011</td>\n",
              "      <td>03/23/2011</td>\n",
              "      <td>Air Filter</td>\n",
              "      <td>pCi/m3</td>\n",
              "      <td>Non-detect</td>\n",
              "      <td>Non-detect</td>\n",
              "      <td>Non-detect</td>\n",
              "      <td>NaN</td>\n",
              "      <td>Non-detect</td>\n",
              "      <td>0.088</td>\n",
              "      <td>Non-detect</td>\n",
              "      <td>Non-detect</td>\n",
              "      <td>NaN</td>\n",
              "      <td>NaN</td>\n",
              "      <td>Non-detect</td>\n",
              "    </tr>\n",
              "    <tr>\n",
              "      <th>1</th>\n",
              "      <td>ID</td>\n",
              "      <td>Boise</td>\n",
              "      <td>03/30/2011</td>\n",
              "      <td>03/23/2011</td>\n",
              "      <td>Air Filter</td>\n",
              "      <td>pCi/m3</td>\n",
              "      <td>Non-detect</td>\n",
              "      <td>Non-detect</td>\n",
              "      <td>Non-detect</td>\n",
              "      <td>NaN</td>\n",
              "      <td>Non-detect</td>\n",
              "      <td>0.055</td>\n",
              "      <td>Non-detect</td>\n",
              "      <td>Non-detect</td>\n",
              "      <td>NaN</td>\n",
              "      <td>NaN</td>\n",
              "      <td>Non-detect</td>\n",
              "    </tr>\n",
              "    <tr>\n",
              "      <th>2</th>\n",
              "      <td>AK</td>\n",
              "      <td>Juneau</td>\n",
              "      <td>03/30/2011</td>\n",
              "      <td>03/23/2011</td>\n",
              "      <td>Air Filter</td>\n",
              "      <td>pCi/m3</td>\n",
              "      <td>Non-detect</td>\n",
              "      <td>Non-detect</td>\n",
              "      <td>0.0057</td>\n",
              "      <td>NaN</td>\n",
              "      <td>0.0074</td>\n",
              "      <td>0.067</td>\n",
              "      <td>Non-detect</td>\n",
              "      <td>Non-detect</td>\n",
              "      <td>NaN</td>\n",
              "      <td>NaN</td>\n",
              "      <td>0.0043</td>\n",
              "    </tr>\n",
              "    <tr>\n",
              "      <th>3</th>\n",
              "      <td>AK</td>\n",
              "      <td>Nome</td>\n",
              "      <td>03/30/2011</td>\n",
              "      <td>03/22/2011</td>\n",
              "      <td>Air Filter</td>\n",
              "      <td>pCi/m3</td>\n",
              "      <td>Non-detect</td>\n",
              "      <td>Non-detect</td>\n",
              "      <td>Non-detect</td>\n",
              "      <td>NaN</td>\n",
              "      <td>Non-detect</td>\n",
              "      <td>0.096</td>\n",
              "      <td>Non-detect</td>\n",
              "      <td>Non-detect</td>\n",
              "      <td>NaN</td>\n",
              "      <td>NaN</td>\n",
              "      <td>Non-detect</td>\n",
              "    </tr>\n",
              "    <tr>\n",
              "      <th>4</th>\n",
              "      <td>AK</td>\n",
              "      <td>Nome</td>\n",
              "      <td>03/30/2011</td>\n",
              "      <td>03/23/2011</td>\n",
              "      <td>Air Filter</td>\n",
              "      <td>pCi/m3</td>\n",
              "      <td>Non-detect</td>\n",
              "      <td>Non-detect</td>\n",
              "      <td>Non-detect</td>\n",
              "      <td>NaN</td>\n",
              "      <td>Non-detect</td>\n",
              "      <td>0.22</td>\n",
              "      <td>Non-detect</td>\n",
              "      <td>Non-detect</td>\n",
              "      <td>NaN</td>\n",
              "      <td>NaN</td>\n",
              "      <td>Non-detect</td>\n",
              "    </tr>\n",
              "  </tbody>\n",
              "</table>\n",
              "</div>"
            ],
            "text/plain": [
              "  State Location Date Posted Date Collected Sample Type    Unit      Ba-140  \\\n",
              "0    ID    Boise  03/30/2011     03/23/2011  Air Filter  pCi/m3  Non-detect   \n",
              "1    ID    Boise  03/30/2011     03/23/2011  Air Filter  pCi/m3  Non-detect   \n",
              "2    AK   Juneau  03/30/2011     03/23/2011  Air Filter  pCi/m3  Non-detect   \n",
              "3    AK     Nome  03/30/2011     03/22/2011  Air Filter  pCi/m3  Non-detect   \n",
              "4    AK     Nome  03/30/2011     03/23/2011  Air Filter  pCi/m3  Non-detect   \n",
              "\n",
              "        Co-60      Cs-134 Cs-136      Cs-137  I-131       I-132       I-133  \\\n",
              "0  Non-detect  Non-detect    NaN  Non-detect  0.088  Non-detect  Non-detect   \n",
              "1  Non-detect  Non-detect    NaN  Non-detect  0.055  Non-detect  Non-detect   \n",
              "2  Non-detect      0.0057    NaN      0.0074  0.067  Non-detect  Non-detect   \n",
              "3  Non-detect  Non-detect    NaN  Non-detect  0.096  Non-detect  Non-detect   \n",
              "4  Non-detect  Non-detect    NaN  Non-detect   0.22  Non-detect  Non-detect   \n",
              "\n",
              "  Te-129 Te-129m      Te-132  \n",
              "0    NaN     NaN  Non-detect  \n",
              "1    NaN     NaN  Non-detect  \n",
              "2    NaN     NaN      0.0043  \n",
              "3    NaN     NaN  Non-detect  \n",
              "4    NaN     NaN  Non-detect  "
            ]
          },
          "metadata": {
            "tags": []
          },
          "execution_count": 41
        }
      ]
    },
    {
      "metadata": {
        "id": "_OIiIXv8Lmgs",
        "colab_type": "text"
      },
      "cell_type": "markdown",
      "source": [
        "## Data manipulation with Pandas\n",
        "\n",
        "We will perform show how to perform common analysis tasks using Pandas dataframes. The operations that we will work on are:\n",
        "1. Selection and slicing\n",
        "2. Filtering\n",
        "3. Applying a function to a column\n",
        "4. Transform data types\n",
        "5. Aggregation and group by\n",
        "\n",
        "These are a common operations on any analysis and will help understanding the dataframe abstraction."
      ]
    },
    {
      "metadata": {
        "id": "itHM3bOgjGHV",
        "colab_type": "text"
      },
      "cell_type": "markdown",
      "source": [
        "### Activity 3 - Selection and filtering\n",
        "\n",
        "To select a subset of data in a dataframe, we use the same Python approach of slicing:"
      ]
    },
    {
      "metadata": {
        "id": "roni7tlKiPjv",
        "colab_type": "code",
        "colab": {
          "base_uri": "https://localhost:8080/",
          "height": 554
        },
        "outputId": "e1dd305a-d53f-48b2-84fa-f7e6dc768d28"
      },
      "cell_type": "code",
      "source": [
        "df[0:10]"
      ],
      "execution_count": 42,
      "outputs": [
        {
          "output_type": "execute_result",
          "data": {
            "text/html": [
              "<div>\n",
              "<style scoped>\n",
              "    .dataframe tbody tr th:only-of-type {\n",
              "        vertical-align: middle;\n",
              "    }\n",
              "\n",
              "    .dataframe tbody tr th {\n",
              "        vertical-align: top;\n",
              "    }\n",
              "\n",
              "    .dataframe thead th {\n",
              "        text-align: right;\n",
              "    }\n",
              "</style>\n",
              "<table border=\"1\" class=\"dataframe\">\n",
              "  <thead>\n",
              "    <tr style=\"text-align: right;\">\n",
              "      <th></th>\n",
              "      <th>State</th>\n",
              "      <th>Location</th>\n",
              "      <th>Date Posted</th>\n",
              "      <th>Date Collected</th>\n",
              "      <th>Sample Type</th>\n",
              "      <th>Unit</th>\n",
              "      <th>Ba-140</th>\n",
              "      <th>Co-60</th>\n",
              "      <th>Cs-134</th>\n",
              "      <th>Cs-136</th>\n",
              "      <th>Cs-137</th>\n",
              "      <th>I-131</th>\n",
              "      <th>I-132</th>\n",
              "      <th>I-133</th>\n",
              "      <th>Te-129</th>\n",
              "      <th>Te-129m</th>\n",
              "      <th>Te-132</th>\n",
              "    </tr>\n",
              "  </thead>\n",
              "  <tbody>\n",
              "    <tr>\n",
              "      <th>0</th>\n",
              "      <td>ID</td>\n",
              "      <td>Boise</td>\n",
              "      <td>03/30/2011</td>\n",
              "      <td>03/23/2011</td>\n",
              "      <td>Air Filter</td>\n",
              "      <td>pCi/m3</td>\n",
              "      <td>Non-detect</td>\n",
              "      <td>Non-detect</td>\n",
              "      <td>Non-detect</td>\n",
              "      <td>NaN</td>\n",
              "      <td>Non-detect</td>\n",
              "      <td>0.088</td>\n",
              "      <td>Non-detect</td>\n",
              "      <td>Non-detect</td>\n",
              "      <td>NaN</td>\n",
              "      <td>NaN</td>\n",
              "      <td>Non-detect</td>\n",
              "    </tr>\n",
              "    <tr>\n",
              "      <th>1</th>\n",
              "      <td>ID</td>\n",
              "      <td>Boise</td>\n",
              "      <td>03/30/2011</td>\n",
              "      <td>03/23/2011</td>\n",
              "      <td>Air Filter</td>\n",
              "      <td>pCi/m3</td>\n",
              "      <td>Non-detect</td>\n",
              "      <td>Non-detect</td>\n",
              "      <td>Non-detect</td>\n",
              "      <td>NaN</td>\n",
              "      <td>Non-detect</td>\n",
              "      <td>0.055</td>\n",
              "      <td>Non-detect</td>\n",
              "      <td>Non-detect</td>\n",
              "      <td>NaN</td>\n",
              "      <td>NaN</td>\n",
              "      <td>Non-detect</td>\n",
              "    </tr>\n",
              "    <tr>\n",
              "      <th>2</th>\n",
              "      <td>AK</td>\n",
              "      <td>Juneau</td>\n",
              "      <td>03/30/2011</td>\n",
              "      <td>03/23/2011</td>\n",
              "      <td>Air Filter</td>\n",
              "      <td>pCi/m3</td>\n",
              "      <td>Non-detect</td>\n",
              "      <td>Non-detect</td>\n",
              "      <td>0.0057</td>\n",
              "      <td>NaN</td>\n",
              "      <td>0.0074</td>\n",
              "      <td>0.067</td>\n",
              "      <td>Non-detect</td>\n",
              "      <td>Non-detect</td>\n",
              "      <td>NaN</td>\n",
              "      <td>NaN</td>\n",
              "      <td>0.0043</td>\n",
              "    </tr>\n",
              "    <tr>\n",
              "      <th>3</th>\n",
              "      <td>AK</td>\n",
              "      <td>Nome</td>\n",
              "      <td>03/30/2011</td>\n",
              "      <td>03/22/2011</td>\n",
              "      <td>Air Filter</td>\n",
              "      <td>pCi/m3</td>\n",
              "      <td>Non-detect</td>\n",
              "      <td>Non-detect</td>\n",
              "      <td>Non-detect</td>\n",
              "      <td>NaN</td>\n",
              "      <td>Non-detect</td>\n",
              "      <td>0.096</td>\n",
              "      <td>Non-detect</td>\n",
              "      <td>Non-detect</td>\n",
              "      <td>NaN</td>\n",
              "      <td>NaN</td>\n",
              "      <td>Non-detect</td>\n",
              "    </tr>\n",
              "    <tr>\n",
              "      <th>4</th>\n",
              "      <td>AK</td>\n",
              "      <td>Nome</td>\n",
              "      <td>03/30/2011</td>\n",
              "      <td>03/23/2011</td>\n",
              "      <td>Air Filter</td>\n",
              "      <td>pCi/m3</td>\n",
              "      <td>Non-detect</td>\n",
              "      <td>Non-detect</td>\n",
              "      <td>Non-detect</td>\n",
              "      <td>NaN</td>\n",
              "      <td>Non-detect</td>\n",
              "      <td>0.22</td>\n",
              "      <td>Non-detect</td>\n",
              "      <td>Non-detect</td>\n",
              "      <td>NaN</td>\n",
              "      <td>NaN</td>\n",
              "      <td>Non-detect</td>\n",
              "    </tr>\n",
              "    <tr>\n",
              "      <th>5</th>\n",
              "      <td>AK</td>\n",
              "      <td>Nome</td>\n",
              "      <td>03/30/2011</td>\n",
              "      <td>03/23/2011</td>\n",
              "      <td>Air Filter</td>\n",
              "      <td>pCi/m3</td>\n",
              "      <td>Non-detect</td>\n",
              "      <td>Non-detect</td>\n",
              "      <td>0.016</td>\n",
              "      <td>NaN</td>\n",
              "      <td>0.023</td>\n",
              "      <td>0.2</td>\n",
              "      <td>0.019</td>\n",
              "      <td>Non-detect</td>\n",
              "      <td>NaN</td>\n",
              "      <td>NaN</td>\n",
              "      <td>0.027</td>\n",
              "    </tr>\n",
              "    <tr>\n",
              "      <th>6</th>\n",
              "      <td>AK</td>\n",
              "      <td>Nome</td>\n",
              "      <td>04/04/2011</td>\n",
              "      <td>03/24/2011</td>\n",
              "      <td>Air Filter</td>\n",
              "      <td>pCi/m3</td>\n",
              "      <td>Non-detect</td>\n",
              "      <td>Non-detect</td>\n",
              "      <td>0.14</td>\n",
              "      <td>Non-detect</td>\n",
              "      <td>0.12</td>\n",
              "      <td>0.43</td>\n",
              "      <td>0.094</td>\n",
              "      <td>Non-detect</td>\n",
              "      <td>Non-detect</td>\n",
              "      <td>Non-detect</td>\n",
              "      <td>0.14</td>\n",
              "    </tr>\n",
              "    <tr>\n",
              "      <th>7</th>\n",
              "      <td>AK</td>\n",
              "      <td>Nome</td>\n",
              "      <td>04/04/2011</td>\n",
              "      <td>03/24/2011</td>\n",
              "      <td>Air Filter</td>\n",
              "      <td>pCi/m3</td>\n",
              "      <td>Non-detect</td>\n",
              "      <td>Non-detect</td>\n",
              "      <td>0.1</td>\n",
              "      <td>0.012</td>\n",
              "      <td>0.13</td>\n",
              "      <td>0.39</td>\n",
              "      <td>0.076</td>\n",
              "      <td>Non-detect</td>\n",
              "      <td>0.12</td>\n",
              "      <td>0.061</td>\n",
              "      <td>0.12</td>\n",
              "    </tr>\n",
              "    <tr>\n",
              "      <th>8</th>\n",
              "      <td>HI</td>\n",
              "      <td>Oahu</td>\n",
              "      <td>03/30/2011</td>\n",
              "      <td>03/20/2011</td>\n",
              "      <td>Air Filter</td>\n",
              "      <td>pCi/m3</td>\n",
              "      <td>Non-detect</td>\n",
              "      <td>Non-detect</td>\n",
              "      <td>0.034</td>\n",
              "      <td>NaN</td>\n",
              "      <td>0.021</td>\n",
              "      <td>0.2</td>\n",
              "      <td>Non-detect</td>\n",
              "      <td>Non-detect</td>\n",
              "      <td>NaN</td>\n",
              "      <td>NaN</td>\n",
              "      <td>Non-detect</td>\n",
              "    </tr>\n",
              "    <tr>\n",
              "      <th>9</th>\n",
              "      <td>HI</td>\n",
              "      <td>Oahu</td>\n",
              "      <td>03/30/2011</td>\n",
              "      <td>03/20/2011</td>\n",
              "      <td>Air Filter</td>\n",
              "      <td>pCi/m3</td>\n",
              "      <td>Non-detect</td>\n",
              "      <td>Non-detect</td>\n",
              "      <td>0.028</td>\n",
              "      <td>NaN</td>\n",
              "      <td>0.036</td>\n",
              "      <td>0.14</td>\n",
              "      <td>0.02</td>\n",
              "      <td>Non-detect</td>\n",
              "      <td>NaN</td>\n",
              "      <td>NaN</td>\n",
              "      <td>0.029</td>\n",
              "    </tr>\n",
              "  </tbody>\n",
              "</table>\n",
              "</div>"
            ],
            "text/plain": [
              "  State Location Date Posted Date Collected Sample Type    Unit      Ba-140  \\\n",
              "0    ID    Boise  03/30/2011     03/23/2011  Air Filter  pCi/m3  Non-detect   \n",
              "1    ID    Boise  03/30/2011     03/23/2011  Air Filter  pCi/m3  Non-detect   \n",
              "2    AK   Juneau  03/30/2011     03/23/2011  Air Filter  pCi/m3  Non-detect   \n",
              "3    AK     Nome  03/30/2011     03/22/2011  Air Filter  pCi/m3  Non-detect   \n",
              "4    AK     Nome  03/30/2011     03/23/2011  Air Filter  pCi/m3  Non-detect   \n",
              "5    AK     Nome  03/30/2011     03/23/2011  Air Filter  pCi/m3  Non-detect   \n",
              "6    AK     Nome  04/04/2011     03/24/2011  Air Filter  pCi/m3  Non-detect   \n",
              "7    AK     Nome  04/04/2011     03/24/2011  Air Filter  pCi/m3  Non-detect   \n",
              "8    HI     Oahu  03/30/2011     03/20/2011  Air Filter  pCi/m3  Non-detect   \n",
              "9    HI     Oahu  03/30/2011     03/20/2011  Air Filter  pCi/m3  Non-detect   \n",
              "\n",
              "        Co-60      Cs-134      Cs-136      Cs-137  I-131       I-132  \\\n",
              "0  Non-detect  Non-detect         NaN  Non-detect  0.088  Non-detect   \n",
              "1  Non-detect  Non-detect         NaN  Non-detect  0.055  Non-detect   \n",
              "2  Non-detect      0.0057         NaN      0.0074  0.067  Non-detect   \n",
              "3  Non-detect  Non-detect         NaN  Non-detect  0.096  Non-detect   \n",
              "4  Non-detect  Non-detect         NaN  Non-detect   0.22  Non-detect   \n",
              "5  Non-detect       0.016         NaN       0.023    0.2       0.019   \n",
              "6  Non-detect        0.14  Non-detect        0.12   0.43       0.094   \n",
              "7  Non-detect         0.1       0.012        0.13   0.39       0.076   \n",
              "8  Non-detect       0.034         NaN       0.021    0.2  Non-detect   \n",
              "9  Non-detect       0.028         NaN       0.036   0.14        0.02   \n",
              "\n",
              "        I-133      Te-129     Te-129m      Te-132  \n",
              "0  Non-detect         NaN         NaN  Non-detect  \n",
              "1  Non-detect         NaN         NaN  Non-detect  \n",
              "2  Non-detect         NaN         NaN      0.0043  \n",
              "3  Non-detect         NaN         NaN  Non-detect  \n",
              "4  Non-detect         NaN         NaN  Non-detect  \n",
              "5  Non-detect         NaN         NaN       0.027  \n",
              "6  Non-detect  Non-detect  Non-detect        0.14  \n",
              "7  Non-detect        0.12       0.061        0.12  \n",
              "8  Non-detect         NaN         NaN  Non-detect  \n",
              "9  Non-detect         NaN         NaN       0.029  "
            ]
          },
          "metadata": {
            "tags": []
          },
          "execution_count": 42
        }
      ]
    },
    {
      "metadata": {
        "id": "wBgeboBdjg3a",
        "colab_type": "text"
      },
      "cell_type": "markdown",
      "source": [
        "### Activity 4 - Column selection and filter\n",
        "To select a column, use the name of the column:"
      ]
    },
    {
      "metadata": {
        "id": "8TpV4hl9jgjj",
        "colab_type": "code",
        "colab": {
          "base_uri": "https://localhost:8080/",
          "height": 124
        },
        "outputId": "0db08da9-ea67-4361-c54d-7adeaf6b077b"
      },
      "cell_type": "code",
      "source": [
        "df['State'].head()"
      ],
      "execution_count": 43,
      "outputs": [
        {
          "output_type": "execute_result",
          "data": {
            "text/plain": [
              "0    ID\n",
              "1    ID\n",
              "2    AK\n",
              "3    AK\n",
              "4    AK\n",
              "Name: State, dtype: object"
            ]
          },
          "metadata": {
            "tags": []
          },
          "execution_count": 43
        }
      ]
    },
    {
      "metadata": {
        "id": "wn9K8TpilOCt",
        "colab_type": "text"
      },
      "cell_type": "markdown",
      "source": [
        "To filter based on the value of the data, use the comparison:"
      ]
    },
    {
      "metadata": {
        "id": "PYQ7WJUplV0x",
        "colab_type": "code",
        "colab": {
          "base_uri": "https://localhost:8080/",
          "height": 330
        },
        "outputId": "6b215d32-836c-425f-87a9-6fb78d34d845"
      },
      "cell_type": "code",
      "source": [
        "df[df.State == 'MN'].head()"
      ],
      "execution_count": 44,
      "outputs": [
        {
          "output_type": "execute_result",
          "data": {
            "text/html": [
              "<div>\n",
              "<style scoped>\n",
              "    .dataframe tbody tr th:only-of-type {\n",
              "        vertical-align: middle;\n",
              "    }\n",
              "\n",
              "    .dataframe tbody tr th {\n",
              "        vertical-align: top;\n",
              "    }\n",
              "\n",
              "    .dataframe thead th {\n",
              "        text-align: right;\n",
              "    }\n",
              "</style>\n",
              "<table border=\"1\" class=\"dataframe\">\n",
              "  <thead>\n",
              "    <tr style=\"text-align: right;\">\n",
              "      <th></th>\n",
              "      <th>State</th>\n",
              "      <th>Location</th>\n",
              "      <th>Date Posted</th>\n",
              "      <th>Date Collected</th>\n",
              "      <th>Sample Type</th>\n",
              "      <th>Unit</th>\n",
              "      <th>Ba-140</th>\n",
              "      <th>Co-60</th>\n",
              "      <th>Cs-134</th>\n",
              "      <th>Cs-136</th>\n",
              "      <th>Cs-137</th>\n",
              "      <th>I-131</th>\n",
              "      <th>I-132</th>\n",
              "      <th>I-133</th>\n",
              "      <th>Te-129</th>\n",
              "      <th>Te-129m</th>\n",
              "      <th>Te-132</th>\n",
              "    </tr>\n",
              "  </thead>\n",
              "  <tbody>\n",
              "    <tr>\n",
              "      <th>367</th>\n",
              "      <td>MN</td>\n",
              "      <td>St. Paul</td>\n",
              "      <td>04/08/2011</td>\n",
              "      <td>03/28/2011</td>\n",
              "      <td>Drinking Water</td>\n",
              "      <td>pCi/l</td>\n",
              "      <td>Non-detect</td>\n",
              "      <td>Non-detect</td>\n",
              "      <td>Non-detect</td>\n",
              "      <td>Non-detect</td>\n",
              "      <td>Non-detect</td>\n",
              "      <td>Non-detect</td>\n",
              "      <td>Non-detect</td>\n",
              "      <td>Non-detect</td>\n",
              "      <td>Non-detect</td>\n",
              "      <td>Non-detect</td>\n",
              "      <td>Non-detect</td>\n",
              "    </tr>\n",
              "    <tr>\n",
              "      <th>368</th>\n",
              "      <td>MN</td>\n",
              "      <td>St. Paul</td>\n",
              "      <td>04/22/2011</td>\n",
              "      <td>04/13/2011</td>\n",
              "      <td>Drinking Water</td>\n",
              "      <td>pCi/l</td>\n",
              "      <td>Non-detect</td>\n",
              "      <td>Non-detect</td>\n",
              "      <td>Non-detect</td>\n",
              "      <td>Non-detect</td>\n",
              "      <td>Non-detect</td>\n",
              "      <td>0.16</td>\n",
              "      <td>Non-detect</td>\n",
              "      <td>Non-detect</td>\n",
              "      <td>Non-detect</td>\n",
              "      <td>Non-detect</td>\n",
              "      <td>Non-detect</td>\n",
              "    </tr>\n",
              "    <tr>\n",
              "      <th>380</th>\n",
              "      <td>MN</td>\n",
              "      <td>Welch</td>\n",
              "      <td>04/08/2011</td>\n",
              "      <td>03/29/2011</td>\n",
              "      <td>Drinking Water</td>\n",
              "      <td>pCi/l</td>\n",
              "      <td>Non-detect</td>\n",
              "      <td>Non-detect</td>\n",
              "      <td>Non-detect</td>\n",
              "      <td>Non-detect</td>\n",
              "      <td>Non-detect</td>\n",
              "      <td>Non-detect</td>\n",
              "      <td>Non-detect</td>\n",
              "      <td>Non-detect</td>\n",
              "      <td>Non-detect</td>\n",
              "      <td>Non-detect</td>\n",
              "      <td>Non-detect</td>\n",
              "    </tr>\n",
              "    <tr>\n",
              "      <th>381</th>\n",
              "      <td>MN</td>\n",
              "      <td>Welch</td>\n",
              "      <td>06/01/2011</td>\n",
              "      <td>04/14/2011</td>\n",
              "      <td>Drinking Water</td>\n",
              "      <td>pCi/l</td>\n",
              "      <td>Non-detect</td>\n",
              "      <td>Non-detect</td>\n",
              "      <td>Non-detect</td>\n",
              "      <td>Non-detect</td>\n",
              "      <td>Non-detect</td>\n",
              "      <td>Non-detect</td>\n",
              "      <td>Non-detect</td>\n",
              "      <td>Non-detect</td>\n",
              "      <td>Non-detect</td>\n",
              "      <td>Non-detect</td>\n",
              "      <td>Non-detect</td>\n",
              "    </tr>\n",
              "    <tr>\n",
              "      <th>555</th>\n",
              "      <td>MN</td>\n",
              "      <td>St. Paul</td>\n",
              "      <td>04/04/2011</td>\n",
              "      <td>03/22/2011</td>\n",
              "      <td>Precipitation</td>\n",
              "      <td>pCi/l</td>\n",
              "      <td>Non-detect</td>\n",
              "      <td>Non-detect</td>\n",
              "      <td>Non-detect</td>\n",
              "      <td>NaN</td>\n",
              "      <td>Non-detect</td>\n",
              "      <td>32.3</td>\n",
              "      <td>Non-detect</td>\n",
              "      <td>Non-detect</td>\n",
              "      <td>NaN</td>\n",
              "      <td>NaN</td>\n",
              "      <td>Non-detect</td>\n",
              "    </tr>\n",
              "  </tbody>\n",
              "</table>\n",
              "</div>"
            ],
            "text/plain": [
              "    State  Location Date Posted Date Collected     Sample Type   Unit  \\\n",
              "367    MN  St. Paul  04/08/2011     03/28/2011  Drinking Water  pCi/l   \n",
              "368    MN  St. Paul  04/22/2011     04/13/2011  Drinking Water  pCi/l   \n",
              "380    MN     Welch  04/08/2011     03/29/2011  Drinking Water  pCi/l   \n",
              "381    MN     Welch  06/01/2011     04/14/2011  Drinking Water  pCi/l   \n",
              "555    MN  St. Paul  04/04/2011     03/22/2011   Precipitation  pCi/l   \n",
              "\n",
              "         Ba-140       Co-60      Cs-134      Cs-136      Cs-137       I-131  \\\n",
              "367  Non-detect  Non-detect  Non-detect  Non-detect  Non-detect  Non-detect   \n",
              "368  Non-detect  Non-detect  Non-detect  Non-detect  Non-detect        0.16   \n",
              "380  Non-detect  Non-detect  Non-detect  Non-detect  Non-detect  Non-detect   \n",
              "381  Non-detect  Non-detect  Non-detect  Non-detect  Non-detect  Non-detect   \n",
              "555  Non-detect  Non-detect  Non-detect         NaN  Non-detect        32.3   \n",
              "\n",
              "          I-132       I-133      Te-129     Te-129m      Te-132  \n",
              "367  Non-detect  Non-detect  Non-detect  Non-detect  Non-detect  \n",
              "368  Non-detect  Non-detect  Non-detect  Non-detect  Non-detect  \n",
              "380  Non-detect  Non-detect  Non-detect  Non-detect  Non-detect  \n",
              "381  Non-detect  Non-detect  Non-detect  Non-detect  Non-detect  \n",
              "555  Non-detect  Non-detect         NaN         NaN  Non-detect  "
            ]
          },
          "metadata": {
            "tags": []
          },
          "execution_count": 44
        }
      ]
    },
    {
      "metadata": {
        "id": "gtkCTyETlhph",
        "colab_type": "text"
      },
      "cell_type": "markdown",
      "source": [
        "More than one condition can be applied at the same time:"
      ]
    },
    {
      "metadata": {
        "id": "ADe7hE2OmsrQ",
        "colab_type": "code",
        "colab": {
          "base_uri": "https://localhost:8080/",
          "height": 262
        },
        "outputId": "3facf2f2-a216-4be5-d581-cc291d8ba7d8"
      },
      "cell_type": "code",
      "source": [
        "df[(df.State == 'CA') & (df['Sample Type'] == 'Drinking Water')]"
      ],
      "execution_count": 45,
      "outputs": [
        {
          "output_type": "execute_result",
          "data": {
            "text/html": [
              "<div>\n",
              "<style scoped>\n",
              "    .dataframe tbody tr th:only-of-type {\n",
              "        vertical-align: middle;\n",
              "    }\n",
              "\n",
              "    .dataframe tbody tr th {\n",
              "        vertical-align: top;\n",
              "    }\n",
              "\n",
              "    .dataframe thead th {\n",
              "        text-align: right;\n",
              "    }\n",
              "</style>\n",
              "<table border=\"1\" class=\"dataframe\">\n",
              "  <thead>\n",
              "    <tr style=\"text-align: right;\">\n",
              "      <th></th>\n",
              "      <th>State</th>\n",
              "      <th>Location</th>\n",
              "      <th>Date Posted</th>\n",
              "      <th>Date Collected</th>\n",
              "      <th>Sample Type</th>\n",
              "      <th>Unit</th>\n",
              "      <th>Ba-140</th>\n",
              "      <th>Co-60</th>\n",
              "      <th>Cs-134</th>\n",
              "      <th>Cs-136</th>\n",
              "      <th>Cs-137</th>\n",
              "      <th>I-131</th>\n",
              "      <th>I-132</th>\n",
              "      <th>I-133</th>\n",
              "      <th>Te-129</th>\n",
              "      <th>Te-129m</th>\n",
              "      <th>Te-132</th>\n",
              "    </tr>\n",
              "  </thead>\n",
              "  <tbody>\n",
              "    <tr>\n",
              "      <th>305</th>\n",
              "      <td>CA</td>\n",
              "      <td>Los Angeles</td>\n",
              "      <td>04/10/2011</td>\n",
              "      <td>04/04/2011</td>\n",
              "      <td>Drinking Water</td>\n",
              "      <td>pCi/l</td>\n",
              "      <td>Non-detect</td>\n",
              "      <td>Non-detect</td>\n",
              "      <td>Non-detect</td>\n",
              "      <td>Non-detect</td>\n",
              "      <td>Non-detect</td>\n",
              "      <td>0.39</td>\n",
              "      <td>Non-detect</td>\n",
              "      <td>Non-detect</td>\n",
              "      <td>Non-detect</td>\n",
              "      <td>Non-detect</td>\n",
              "      <td>Non-detect</td>\n",
              "    </tr>\n",
              "    <tr>\n",
              "      <th>306</th>\n",
              "      <td>CA</td>\n",
              "      <td>Los Angeles</td>\n",
              "      <td>06/01/2011</td>\n",
              "      <td>04/12/2011</td>\n",
              "      <td>Drinking Water</td>\n",
              "      <td>pCi/l</td>\n",
              "      <td>Non-detect</td>\n",
              "      <td>Non-detect</td>\n",
              "      <td>Non-detect</td>\n",
              "      <td>Non-detect</td>\n",
              "      <td>Non-detect</td>\n",
              "      <td>0.18</td>\n",
              "      <td>Non-detect</td>\n",
              "      <td>Non-detect</td>\n",
              "      <td>Non-detect</td>\n",
              "      <td>Non-detect</td>\n",
              "      <td>Non-detect</td>\n",
              "    </tr>\n",
              "    <tr>\n",
              "      <th>356</th>\n",
              "      <td>CA</td>\n",
              "      <td>Richmond</td>\n",
              "      <td>04/09/2011</td>\n",
              "      <td>03/29/2011</td>\n",
              "      <td>Drinking Water</td>\n",
              "      <td>pCi/l</td>\n",
              "      <td>Non-detect</td>\n",
              "      <td>Non-detect</td>\n",
              "      <td>Non-detect</td>\n",
              "      <td>Non-detect</td>\n",
              "      <td>Non-detect</td>\n",
              "      <td>Non-detect</td>\n",
              "      <td>Non-detect</td>\n",
              "      <td>Non-detect</td>\n",
              "      <td>Non-detect</td>\n",
              "      <td>Non-detect</td>\n",
              "      <td>Non-detect</td>\n",
              "    </tr>\n",
              "    <tr>\n",
              "      <th>357</th>\n",
              "      <td>CA</td>\n",
              "      <td>Richmond</td>\n",
              "      <td>06/01/2011</td>\n",
              "      <td>04/13/2011</td>\n",
              "      <td>Drinking Water</td>\n",
              "      <td>pCi/l</td>\n",
              "      <td>Non-detect</td>\n",
              "      <td>Non-detect</td>\n",
              "      <td>Non-detect</td>\n",
              "      <td>Non-detect</td>\n",
              "      <td>Non-detect</td>\n",
              "      <td>Non-detect</td>\n",
              "      <td>Non-detect</td>\n",
              "      <td>Non-detect</td>\n",
              "      <td>Non-detect</td>\n",
              "      <td>Non-detect</td>\n",
              "      <td>Non-detect</td>\n",
              "    </tr>\n",
              "  </tbody>\n",
              "</table>\n",
              "</div>"
            ],
            "text/plain": [
              "    State      Location Date Posted Date Collected     Sample Type   Unit  \\\n",
              "305    CA   Los Angeles  04/10/2011     04/04/2011  Drinking Water  pCi/l   \n",
              "306    CA  Los Angeles   06/01/2011     04/12/2011  Drinking Water  pCi/l   \n",
              "356    CA      Richmond  04/09/2011     03/29/2011  Drinking Water  pCi/l   \n",
              "357    CA      Richmond  06/01/2011     04/13/2011  Drinking Water  pCi/l   \n",
              "\n",
              "         Ba-140       Co-60      Cs-134      Cs-136      Cs-137       I-131  \\\n",
              "305  Non-detect  Non-detect  Non-detect  Non-detect  Non-detect        0.39   \n",
              "306  Non-detect  Non-detect  Non-detect  Non-detect  Non-detect        0.18   \n",
              "356  Non-detect  Non-detect  Non-detect  Non-detect  Non-detect  Non-detect   \n",
              "357  Non-detect  Non-detect  Non-detect  Non-detect  Non-detect  Non-detect   \n",
              "\n",
              "          I-132       I-133      Te-129     Te-129m      Te-132  \n",
              "305  Non-detect  Non-detect  Non-detect  Non-detect  Non-detect  \n",
              "306  Non-detect  Non-detect  Non-detect  Non-detect  Non-detect  \n",
              "356  Non-detect  Non-detect  Non-detect  Non-detect  Non-detect  \n",
              "357  Non-detect  Non-detect  Non-detect  Non-detect  Non-detect  "
            ]
          },
          "metadata": {
            "tags": []
          },
          "execution_count": 45
        }
      ]
    },
    {
      "metadata": {
        "id": "s6PQZjyojXLN",
        "colab_type": "text"
      },
      "cell_type": "markdown",
      "source": [
        "Another common approach is the use of the method `.loc`:\n",
        "\n",
        "```\n",
        "df.loc[<row selection>, <column selection>]\n",
        "```"
      ]
    },
    {
      "metadata": {
        "id": "Fb8aq633ksIs",
        "colab_type": "text"
      },
      "cell_type": "markdown",
      "source": [
        "To select a subset of the dataframe based on a "
      ]
    },
    {
      "metadata": {
        "id": "iDMCEqMZjQOt",
        "colab_type": "code",
        "colab": {
          "base_uri": "https://localhost:8080/",
          "height": 124
        },
        "outputId": "a7b0a1cb-f755-4de2-cb6c-a847aba52b2c"
      },
      "cell_type": "code",
      "source": [
        "df.loc[df.State == 'AK', 'Sample Type'].head()"
      ],
      "execution_count": 46,
      "outputs": [
        {
          "output_type": "execute_result",
          "data": {
            "text/plain": [
              "2    Air Filter\n",
              "3    Air Filter\n",
              "4    Air Filter\n",
              "5    Air Filter\n",
              "6    Air Filter\n",
              "Name: Sample Type, dtype: object"
            ]
          },
          "metadata": {
            "tags": []
          },
          "execution_count": 46
        }
      ]
    },
    {
      "metadata": {
        "id": "421h9obXnh-Q",
        "colab_type": "text"
      },
      "cell_type": "markdown",
      "source": [
        "Note that, differently from the results above, the result of the loc filter is a Series and not a DataFrame. This depends on the operation and selection done on the DataFrame and not is caused only by loc: as the DataFrame can be understood as a 2D combination of Series, a selection of one column will return a Series."
      ]
    },
    {
      "metadata": {
        "id": "TMVdv5PkkYS0",
        "colab_type": "code",
        "colab": {
          "base_uri": "https://localhost:8080/",
          "height": 35
        },
        "outputId": "292d024b-7e10-4450-afae-a9a499148b5d"
      },
      "cell_type": "code",
      "source": [
        "type(df['Cs-134'])"
      ],
      "execution_count": 47,
      "outputs": [
        {
          "output_type": "execute_result",
          "data": {
            "text/plain": [
              "pandas.core.series.Series"
            ]
          },
          "metadata": {
            "tags": []
          },
          "execution_count": 47
        }
      ]
    },
    {
      "metadata": {
        "id": "b_F1FTxEyOpb",
        "colab_type": "text"
      },
      "cell_type": "markdown",
      "source": [
        "To do a selection and still return a dataframe, use double brackets:"
      ]
    },
    {
      "metadata": {
        "id": "qX-6MpOxnu_7",
        "colab_type": "code",
        "colab": {
          "base_uri": "https://localhost:8080/",
          "height": 206
        },
        "outputId": "279ae104-060d-44d9-bedb-dd7d83fedc61"
      },
      "cell_type": "code",
      "source": [
        "df[['I-132']].head()"
      ],
      "execution_count": 48,
      "outputs": [
        {
          "output_type": "execute_result",
          "data": {
            "text/html": [
              "<div>\n",
              "<style scoped>\n",
              "    .dataframe tbody tr th:only-of-type {\n",
              "        vertical-align: middle;\n",
              "    }\n",
              "\n",
              "    .dataframe tbody tr th {\n",
              "        vertical-align: top;\n",
              "    }\n",
              "\n",
              "    .dataframe thead th {\n",
              "        text-align: right;\n",
              "    }\n",
              "</style>\n",
              "<table border=\"1\" class=\"dataframe\">\n",
              "  <thead>\n",
              "    <tr style=\"text-align: right;\">\n",
              "      <th></th>\n",
              "      <th>I-132</th>\n",
              "    </tr>\n",
              "  </thead>\n",
              "  <tbody>\n",
              "    <tr>\n",
              "      <th>0</th>\n",
              "      <td>Non-detect</td>\n",
              "    </tr>\n",
              "    <tr>\n",
              "      <th>1</th>\n",
              "      <td>Non-detect</td>\n",
              "    </tr>\n",
              "    <tr>\n",
              "      <th>2</th>\n",
              "      <td>Non-detect</td>\n",
              "    </tr>\n",
              "    <tr>\n",
              "      <th>3</th>\n",
              "      <td>Non-detect</td>\n",
              "    </tr>\n",
              "    <tr>\n",
              "      <th>4</th>\n",
              "      <td>Non-detect</td>\n",
              "    </tr>\n",
              "  </tbody>\n",
              "</table>\n",
              "</div>"
            ],
            "text/plain": [
              "        I-132\n",
              "0  Non-detect\n",
              "1  Non-detect\n",
              "2  Non-detect\n",
              "3  Non-detect\n",
              "4  Non-detect"
            ]
          },
          "metadata": {
            "tags": []
          },
          "execution_count": 48
        }
      ]
    },
    {
      "metadata": {
        "id": "GbGz5FALycqK",
        "colab_type": "text"
      },
      "cell_type": "markdown",
      "source": [
        "More than one column can be selected at the same time:"
      ]
    },
    {
      "metadata": {
        "id": "x1wSexhFyYDT",
        "colab_type": "code",
        "colab": {
          "base_uri": "https://localhost:8080/",
          "height": 206
        },
        "outputId": "f060d9a0-c9e6-45df-a42b-04c586e5536d"
      },
      "cell_type": "code",
      "source": [
        "df[['State', 'Te-129', 'Cs-134']].head()"
      ],
      "execution_count": 49,
      "outputs": [
        {
          "output_type": "execute_result",
          "data": {
            "text/html": [
              "<div>\n",
              "<style scoped>\n",
              "    .dataframe tbody tr th:only-of-type {\n",
              "        vertical-align: middle;\n",
              "    }\n",
              "\n",
              "    .dataframe tbody tr th {\n",
              "        vertical-align: top;\n",
              "    }\n",
              "\n",
              "    .dataframe thead th {\n",
              "        text-align: right;\n",
              "    }\n",
              "</style>\n",
              "<table border=\"1\" class=\"dataframe\">\n",
              "  <thead>\n",
              "    <tr style=\"text-align: right;\">\n",
              "      <th></th>\n",
              "      <th>State</th>\n",
              "      <th>Te-129</th>\n",
              "      <th>Cs-134</th>\n",
              "    </tr>\n",
              "  </thead>\n",
              "  <tbody>\n",
              "    <tr>\n",
              "      <th>0</th>\n",
              "      <td>ID</td>\n",
              "      <td>NaN</td>\n",
              "      <td>Non-detect</td>\n",
              "    </tr>\n",
              "    <tr>\n",
              "      <th>1</th>\n",
              "      <td>ID</td>\n",
              "      <td>NaN</td>\n",
              "      <td>Non-detect</td>\n",
              "    </tr>\n",
              "    <tr>\n",
              "      <th>2</th>\n",
              "      <td>AK</td>\n",
              "      <td>NaN</td>\n",
              "      <td>0.0057</td>\n",
              "    </tr>\n",
              "    <tr>\n",
              "      <th>3</th>\n",
              "      <td>AK</td>\n",
              "      <td>NaN</td>\n",
              "      <td>Non-detect</td>\n",
              "    </tr>\n",
              "    <tr>\n",
              "      <th>4</th>\n",
              "      <td>AK</td>\n",
              "      <td>NaN</td>\n",
              "      <td>Non-detect</td>\n",
              "    </tr>\n",
              "  </tbody>\n",
              "</table>\n",
              "</div>"
            ],
            "text/plain": [
              "  State Te-129      Cs-134\n",
              "0    ID    NaN  Non-detect\n",
              "1    ID    NaN  Non-detect\n",
              "2    AK    NaN      0.0057\n",
              "3    AK    NaN  Non-detect\n",
              "4    AK    NaN  Non-detect"
            ]
          },
          "metadata": {
            "tags": []
          },
          "execution_count": 49
        }
      ]
    },
    {
      "metadata": {
        "id": "ja4SNNRu0kCu",
        "colab_type": "text"
      },
      "cell_type": "markdown",
      "source": [
        "### Activity 5 - Applying a function to a column\n",
        "\n",
        "To transform a column with a function we can use the `apply` method. Let's transform the values from text to a valid numpy value:"
      ]
    },
    {
      "metadata": {
        "id": "cGQ2onN41yAu",
        "colab_type": "code",
        "colab": {
          "base_uri": "https://localhost:8080/",
          "height": 214
        },
        "outputId": "8e48b7d2-7480-4df5-9b63-ad60d75c4430"
      },
      "cell_type": "code",
      "source": [
        "columns = df.columns\n",
        "id_cols = ['State', 'Location', \"Date Posted\", 'Date Collected', 'Sample Type', 'Unit']\n",
        "columns = list(set(columns) - set(id_cols))\n",
        "columns"
      ],
      "execution_count": 88,
      "outputs": [
        {
          "output_type": "execute_result",
          "data": {
            "text/plain": [
              "['I-132',\n",
              " 'Te-129m',\n",
              " 'I-133',\n",
              " 'Te-129',\n",
              " 'Cs-134',\n",
              " 'Cs-136',\n",
              " 'Co-60',\n",
              " 'Ba-140',\n",
              " 'I-131',\n",
              " 'Te-132',\n",
              " 'Cs-137']"
            ]
          },
          "metadata": {
            "tags": []
          },
          "execution_count": 88
        }
      ]
    },
    {
      "metadata": {
        "id": "VxOCX3oNMDLz",
        "colab_type": "code",
        "colab": {}
      },
      "cell_type": "code",
      "source": [
        "df['Cs-134'] = df['Cs-134'].apply(lambda x: np.nan if x == \"Non-detect\" else x)"
      ],
      "execution_count": 0,
      "outputs": []
    },
    {
      "metadata": {
        "id": "FSnplTAgMRZA",
        "colab_type": "code",
        "colab": {
          "base_uri": "https://localhost:8080/",
          "height": 310
        },
        "outputId": "d25df4fe-bf03-425d-9f05-c30a4619dccf"
      },
      "cell_type": "code",
      "source": [
        "df.head()"
      ],
      "execution_count": 57,
      "outputs": [
        {
          "output_type": "execute_result",
          "data": {
            "text/html": [
              "<div>\n",
              "<style scoped>\n",
              "    .dataframe tbody tr th:only-of-type {\n",
              "        vertical-align: middle;\n",
              "    }\n",
              "\n",
              "    .dataframe tbody tr th {\n",
              "        vertical-align: top;\n",
              "    }\n",
              "\n",
              "    .dataframe thead th {\n",
              "        text-align: right;\n",
              "    }\n",
              "</style>\n",
              "<table border=\"1\" class=\"dataframe\">\n",
              "  <thead>\n",
              "    <tr style=\"text-align: right;\">\n",
              "      <th></th>\n",
              "      <th>State</th>\n",
              "      <th>Location</th>\n",
              "      <th>Date Posted</th>\n",
              "      <th>Date Collected</th>\n",
              "      <th>Sample Type</th>\n",
              "      <th>Unit</th>\n",
              "      <th>Ba-140</th>\n",
              "      <th>Co-60</th>\n",
              "      <th>Cs-134</th>\n",
              "      <th>Cs-136</th>\n",
              "      <th>Cs-137</th>\n",
              "      <th>I-131</th>\n",
              "      <th>I-132</th>\n",
              "      <th>I-133</th>\n",
              "      <th>Te-129</th>\n",
              "      <th>Te-129m</th>\n",
              "      <th>Te-132</th>\n",
              "    </tr>\n",
              "  </thead>\n",
              "  <tbody>\n",
              "    <tr>\n",
              "      <th>0</th>\n",
              "      <td>ID</td>\n",
              "      <td>Boise</td>\n",
              "      <td>03/30/2011</td>\n",
              "      <td>03/23/2011</td>\n",
              "      <td>Air Filter</td>\n",
              "      <td>pCi/m3</td>\n",
              "      <td>Non-detect</td>\n",
              "      <td>Non-detect</td>\n",
              "      <td>NaN</td>\n",
              "      <td>NaN</td>\n",
              "      <td>Non-detect</td>\n",
              "      <td>0.088</td>\n",
              "      <td>Non-detect</td>\n",
              "      <td>Non-detect</td>\n",
              "      <td>NaN</td>\n",
              "      <td>NaN</td>\n",
              "      <td>Non-detect</td>\n",
              "    </tr>\n",
              "    <tr>\n",
              "      <th>1</th>\n",
              "      <td>ID</td>\n",
              "      <td>Boise</td>\n",
              "      <td>03/30/2011</td>\n",
              "      <td>03/23/2011</td>\n",
              "      <td>Air Filter</td>\n",
              "      <td>pCi/m3</td>\n",
              "      <td>Non-detect</td>\n",
              "      <td>Non-detect</td>\n",
              "      <td>NaN</td>\n",
              "      <td>NaN</td>\n",
              "      <td>Non-detect</td>\n",
              "      <td>0.055</td>\n",
              "      <td>Non-detect</td>\n",
              "      <td>Non-detect</td>\n",
              "      <td>NaN</td>\n",
              "      <td>NaN</td>\n",
              "      <td>Non-detect</td>\n",
              "    </tr>\n",
              "    <tr>\n",
              "      <th>2</th>\n",
              "      <td>AK</td>\n",
              "      <td>Juneau</td>\n",
              "      <td>03/30/2011</td>\n",
              "      <td>03/23/2011</td>\n",
              "      <td>Air Filter</td>\n",
              "      <td>pCi/m3</td>\n",
              "      <td>Non-detect</td>\n",
              "      <td>Non-detect</td>\n",
              "      <td>0.0057</td>\n",
              "      <td>NaN</td>\n",
              "      <td>0.0074</td>\n",
              "      <td>0.067</td>\n",
              "      <td>Non-detect</td>\n",
              "      <td>Non-detect</td>\n",
              "      <td>NaN</td>\n",
              "      <td>NaN</td>\n",
              "      <td>0.0043</td>\n",
              "    </tr>\n",
              "    <tr>\n",
              "      <th>3</th>\n",
              "      <td>AK</td>\n",
              "      <td>Nome</td>\n",
              "      <td>03/30/2011</td>\n",
              "      <td>03/22/2011</td>\n",
              "      <td>Air Filter</td>\n",
              "      <td>pCi/m3</td>\n",
              "      <td>Non-detect</td>\n",
              "      <td>Non-detect</td>\n",
              "      <td>NaN</td>\n",
              "      <td>NaN</td>\n",
              "      <td>Non-detect</td>\n",
              "      <td>0.096</td>\n",
              "      <td>Non-detect</td>\n",
              "      <td>Non-detect</td>\n",
              "      <td>NaN</td>\n",
              "      <td>NaN</td>\n",
              "      <td>Non-detect</td>\n",
              "    </tr>\n",
              "    <tr>\n",
              "      <th>4</th>\n",
              "      <td>AK</td>\n",
              "      <td>Nome</td>\n",
              "      <td>03/30/2011</td>\n",
              "      <td>03/23/2011</td>\n",
              "      <td>Air Filter</td>\n",
              "      <td>pCi/m3</td>\n",
              "      <td>Non-detect</td>\n",
              "      <td>Non-detect</td>\n",
              "      <td>NaN</td>\n",
              "      <td>NaN</td>\n",
              "      <td>Non-detect</td>\n",
              "      <td>0.22</td>\n",
              "      <td>Non-detect</td>\n",
              "      <td>Non-detect</td>\n",
              "      <td>NaN</td>\n",
              "      <td>NaN</td>\n",
              "      <td>Non-detect</td>\n",
              "    </tr>\n",
              "  </tbody>\n",
              "</table>\n",
              "</div>"
            ],
            "text/plain": [
              "  State Location Date Posted Date Collected Sample Type    Unit      Ba-140  \\\n",
              "0    ID    Boise  03/30/2011     03/23/2011  Air Filter  pCi/m3  Non-detect   \n",
              "1    ID    Boise  03/30/2011     03/23/2011  Air Filter  pCi/m3  Non-detect   \n",
              "2    AK   Juneau  03/30/2011     03/23/2011  Air Filter  pCi/m3  Non-detect   \n",
              "3    AK     Nome  03/30/2011     03/22/2011  Air Filter  pCi/m3  Non-detect   \n",
              "4    AK     Nome  03/30/2011     03/23/2011  Air Filter  pCi/m3  Non-detect   \n",
              "\n",
              "        Co-60  Cs-134 Cs-136      Cs-137  I-131       I-132       I-133  \\\n",
              "0  Non-detect     NaN    NaN  Non-detect  0.088  Non-detect  Non-detect   \n",
              "1  Non-detect     NaN    NaN  Non-detect  0.055  Non-detect  Non-detect   \n",
              "2  Non-detect  0.0057    NaN      0.0074  0.067  Non-detect  Non-detect   \n",
              "3  Non-detect     NaN    NaN  Non-detect  0.096  Non-detect  Non-detect   \n",
              "4  Non-detect     NaN    NaN  Non-detect   0.22  Non-detect  Non-detect   \n",
              "\n",
              "  Te-129 Te-129m      Te-132  \n",
              "0    NaN     NaN  Non-detect  \n",
              "1    NaN     NaN  Non-detect  \n",
              "2    NaN     NaN      0.0043  \n",
              "3    NaN     NaN  Non-detect  \n",
              "4    NaN     NaN  Non-detect  "
            ]
          },
          "metadata": {
            "tags": []
          },
          "execution_count": 57
        }
      ]
    },
    {
      "metadata": {
        "id": "S7bQe3dgMemt",
        "colab_type": "text"
      },
      "cell_type": "markdown",
      "source": [
        "The function that we want to apply can be any Python function that would manipulate each row. We can also apply a function to several columns using the `applymap` function:"
      ]
    },
    {
      "metadata": {
        "id": "LHNmh0EI1Qf0",
        "colab_type": "code",
        "colab": {}
      },
      "cell_type": "code",
      "source": [
        "df.loc[:, columns] = df.loc[:, columns].applymap(lambda x: np.nan if x == 'Non-detect' else x)\n",
        "df.loc[:, columns] = df.loc[:, columns].applymap(lambda x: np.nan if x == 'ND' else x)"
      ],
      "execution_count": 0,
      "outputs": []
    },
    {
      "metadata": {
        "id": "asP5pWbR5Lq9",
        "colab_type": "code",
        "colab": {
          "base_uri": "https://localhost:8080/",
          "height": 310
        },
        "outputId": "ab643e15-63a0-4019-8f19-414fae3a338c"
      },
      "cell_type": "code",
      "source": [
        "df.head()"
      ],
      "execution_count": 59,
      "outputs": [
        {
          "output_type": "execute_result",
          "data": {
            "text/html": [
              "<div>\n",
              "<style scoped>\n",
              "    .dataframe tbody tr th:only-of-type {\n",
              "        vertical-align: middle;\n",
              "    }\n",
              "\n",
              "    .dataframe tbody tr th {\n",
              "        vertical-align: top;\n",
              "    }\n",
              "\n",
              "    .dataframe thead th {\n",
              "        text-align: right;\n",
              "    }\n",
              "</style>\n",
              "<table border=\"1\" class=\"dataframe\">\n",
              "  <thead>\n",
              "    <tr style=\"text-align: right;\">\n",
              "      <th></th>\n",
              "      <th>State</th>\n",
              "      <th>Location</th>\n",
              "      <th>Date Posted</th>\n",
              "      <th>Date Collected</th>\n",
              "      <th>Sample Type</th>\n",
              "      <th>Unit</th>\n",
              "      <th>Ba-140</th>\n",
              "      <th>Co-60</th>\n",
              "      <th>Cs-134</th>\n",
              "      <th>Cs-136</th>\n",
              "      <th>Cs-137</th>\n",
              "      <th>I-131</th>\n",
              "      <th>I-132</th>\n",
              "      <th>I-133</th>\n",
              "      <th>Te-129</th>\n",
              "      <th>Te-129m</th>\n",
              "      <th>Te-132</th>\n",
              "    </tr>\n",
              "  </thead>\n",
              "  <tbody>\n",
              "    <tr>\n",
              "      <th>0</th>\n",
              "      <td>ID</td>\n",
              "      <td>Boise</td>\n",
              "      <td>03/30/2011</td>\n",
              "      <td>03/23/2011</td>\n",
              "      <td>Air Filter</td>\n",
              "      <td>pCi/m3</td>\n",
              "      <td>NaN</td>\n",
              "      <td>NaN</td>\n",
              "      <td>NaN</td>\n",
              "      <td>NaN</td>\n",
              "      <td>NaN</td>\n",
              "      <td>0.088</td>\n",
              "      <td>NaN</td>\n",
              "      <td>NaN</td>\n",
              "      <td>NaN</td>\n",
              "      <td>NaN</td>\n",
              "      <td>NaN</td>\n",
              "    </tr>\n",
              "    <tr>\n",
              "      <th>1</th>\n",
              "      <td>ID</td>\n",
              "      <td>Boise</td>\n",
              "      <td>03/30/2011</td>\n",
              "      <td>03/23/2011</td>\n",
              "      <td>Air Filter</td>\n",
              "      <td>pCi/m3</td>\n",
              "      <td>NaN</td>\n",
              "      <td>NaN</td>\n",
              "      <td>NaN</td>\n",
              "      <td>NaN</td>\n",
              "      <td>NaN</td>\n",
              "      <td>0.055</td>\n",
              "      <td>NaN</td>\n",
              "      <td>NaN</td>\n",
              "      <td>NaN</td>\n",
              "      <td>NaN</td>\n",
              "      <td>NaN</td>\n",
              "    </tr>\n",
              "    <tr>\n",
              "      <th>2</th>\n",
              "      <td>AK</td>\n",
              "      <td>Juneau</td>\n",
              "      <td>03/30/2011</td>\n",
              "      <td>03/23/2011</td>\n",
              "      <td>Air Filter</td>\n",
              "      <td>pCi/m3</td>\n",
              "      <td>NaN</td>\n",
              "      <td>NaN</td>\n",
              "      <td>0.0057</td>\n",
              "      <td>NaN</td>\n",
              "      <td>0.0074</td>\n",
              "      <td>0.067</td>\n",
              "      <td>NaN</td>\n",
              "      <td>NaN</td>\n",
              "      <td>NaN</td>\n",
              "      <td>NaN</td>\n",
              "      <td>0.0043</td>\n",
              "    </tr>\n",
              "    <tr>\n",
              "      <th>3</th>\n",
              "      <td>AK</td>\n",
              "      <td>Nome</td>\n",
              "      <td>03/30/2011</td>\n",
              "      <td>03/22/2011</td>\n",
              "      <td>Air Filter</td>\n",
              "      <td>pCi/m3</td>\n",
              "      <td>NaN</td>\n",
              "      <td>NaN</td>\n",
              "      <td>NaN</td>\n",
              "      <td>NaN</td>\n",
              "      <td>NaN</td>\n",
              "      <td>0.096</td>\n",
              "      <td>NaN</td>\n",
              "      <td>NaN</td>\n",
              "      <td>NaN</td>\n",
              "      <td>NaN</td>\n",
              "      <td>NaN</td>\n",
              "    </tr>\n",
              "    <tr>\n",
              "      <th>4</th>\n",
              "      <td>AK</td>\n",
              "      <td>Nome</td>\n",
              "      <td>03/30/2011</td>\n",
              "      <td>03/23/2011</td>\n",
              "      <td>Air Filter</td>\n",
              "      <td>pCi/m3</td>\n",
              "      <td>NaN</td>\n",
              "      <td>NaN</td>\n",
              "      <td>NaN</td>\n",
              "      <td>NaN</td>\n",
              "      <td>NaN</td>\n",
              "      <td>0.22</td>\n",
              "      <td>NaN</td>\n",
              "      <td>NaN</td>\n",
              "      <td>NaN</td>\n",
              "      <td>NaN</td>\n",
              "      <td>NaN</td>\n",
              "    </tr>\n",
              "  </tbody>\n",
              "</table>\n",
              "</div>"
            ],
            "text/plain": [
              "  State Location Date Posted Date Collected Sample Type    Unit Ba-140 Co-60  \\\n",
              "0    ID    Boise  03/30/2011     03/23/2011  Air Filter  pCi/m3    NaN   NaN   \n",
              "1    ID    Boise  03/30/2011     03/23/2011  Air Filter  pCi/m3    NaN   NaN   \n",
              "2    AK   Juneau  03/30/2011     03/23/2011  Air Filter  pCi/m3    NaN   NaN   \n",
              "3    AK     Nome  03/30/2011     03/22/2011  Air Filter  pCi/m3    NaN   NaN   \n",
              "4    AK     Nome  03/30/2011     03/23/2011  Air Filter  pCi/m3    NaN   NaN   \n",
              "\n",
              "   Cs-134 Cs-136  Cs-137  I-131 I-132 I-133 Te-129 Te-129m  Te-132  \n",
              "0     NaN    NaN     NaN  0.088   NaN   NaN    NaN     NaN     NaN  \n",
              "1     NaN    NaN     NaN  0.055   NaN   NaN    NaN     NaN     NaN  \n",
              "2  0.0057    NaN  0.0074  0.067   NaN   NaN    NaN     NaN  0.0043  \n",
              "3     NaN    NaN     NaN  0.096   NaN   NaN    NaN     NaN     NaN  \n",
              "4     NaN    NaN     NaN   0.22   NaN   NaN    NaN     NaN     NaN  "
            ]
          },
          "metadata": {
            "tags": []
          },
          "execution_count": 59
        }
      ]
    },
    {
      "metadata": {
        "id": "8vd9UiSFSyFE",
        "colab_type": "code",
        "colab": {}
      },
      "cell_type": "code",
      "source": [
        "df.loc[:, ['State', 'Location', 'Sample Type', 'Unit']] = df.loc[:, ['State', 'Location', 'Sample Type', 'Unit']].applymap(lambda x: x.strip())"
      ],
      "execution_count": 0,
      "outputs": []
    },
    {
      "metadata": {
        "id": "dI9CeCPuMuzm",
        "colab_type": "text"
      },
      "cell_type": "markdown",
      "source": [
        "### Activity 6 - Data types\n",
        "\n",
        "Let's manipulate the data types."
      ]
    },
    {
      "metadata": {
        "id": "TvpmLpHuLOa-",
        "colab_type": "code",
        "colab": {
          "base_uri": "https://localhost:8080/",
          "height": 339
        },
        "outputId": "e0048423-de21-4161-cb04-d7829a4e7f7e"
      },
      "cell_type": "code",
      "source": [
        "df.dtypes"
      ],
      "execution_count": 61,
      "outputs": [
        {
          "output_type": "execute_result",
          "data": {
            "text/plain": [
              "State             object\n",
              "Location          object\n",
              "Date Posted       object\n",
              "Date Collected    object\n",
              "Sample Type       object\n",
              "Unit              object\n",
              "Ba-140            object\n",
              "Co-60             object\n",
              "Cs-134            object\n",
              "Cs-136            object\n",
              "Cs-137            object\n",
              "I-131             object\n",
              "I-132             object\n",
              "I-133             object\n",
              "Te-129            object\n",
              "Te-129m           object\n",
              "Te-132            object\n",
              "dtype: object"
            ]
          },
          "metadata": {
            "tags": []
          },
          "execution_count": 61
        }
      ]
    },
    {
      "metadata": {
        "id": "KdBjbCLLM1B2",
        "colab_type": "code",
        "colab": {}
      },
      "cell_type": "code",
      "source": [
        "df['Date Posted'] = pd.to_datetime(df['Date Posted'])\n",
        "df['Date Collected'] = pd.to_datetime(df['Date Collected'])"
      ],
      "execution_count": 0,
      "outputs": []
    },
    {
      "metadata": {
        "id": "s4jEIPtvNtH1",
        "colab_type": "code",
        "colab": {}
      },
      "cell_type": "code",
      "source": [
        "for col in columns:\n",
        "    df[col] = pd.to_numeric(df[col])"
      ],
      "execution_count": 0,
      "outputs": []
    },
    {
      "metadata": {
        "id": "9sOJDsyQPkLH",
        "colab_type": "code",
        "colab": {
          "base_uri": "https://localhost:8080/",
          "height": 339
        },
        "outputId": "ffcbf720-2da0-47e7-b8d3-c4f230ea00da"
      },
      "cell_type": "code",
      "source": [
        "df.dtypes"
      ],
      "execution_count": 64,
      "outputs": [
        {
          "output_type": "execute_result",
          "data": {
            "text/plain": [
              "State                     object\n",
              "Location                  object\n",
              "Date Posted       datetime64[ns]\n",
              "Date Collected    datetime64[ns]\n",
              "Sample Type               object\n",
              "Unit                      object\n",
              "Ba-140                   float64\n",
              "Co-60                    float64\n",
              "Cs-134                   float64\n",
              "Cs-136                   float64\n",
              "Cs-137                   float64\n",
              "I-131                    float64\n",
              "I-132                    float64\n",
              "I-133                    float64\n",
              "Te-129                   float64\n",
              "Te-129m                  float64\n",
              "Te-132                   float64\n",
              "dtype: object"
            ]
          },
          "metadata": {
            "tags": []
          },
          "execution_count": 64
        }
      ]
    },
    {
      "metadata": {
        "id": "65WLiuDkNoce",
        "colab_type": "code",
        "colab": {}
      },
      "cell_type": "code",
      "source": [
        "df['State'] = df['State'].astype('category')\n",
        "df['Location'] = df['Location'].astype('category')\n",
        "df['Unit'] = df['Unit'].astype('category')\n",
        "df['Sample Type'] = df['Sample Type'].astype('category')"
      ],
      "execution_count": 0,
      "outputs": []
    },
    {
      "metadata": {
        "id": "_xDZwVcJQzp7",
        "colab_type": "code",
        "colab": {
          "base_uri": "https://localhost:8080/",
          "height": 339
        },
        "outputId": "a578efc1-195c-40ef-a3ef-b4525c345f0f"
      },
      "cell_type": "code",
      "source": [
        "df.dtypes"
      ],
      "execution_count": 66,
      "outputs": [
        {
          "output_type": "execute_result",
          "data": {
            "text/plain": [
              "State                   category\n",
              "Location                category\n",
              "Date Posted       datetime64[ns]\n",
              "Date Collected    datetime64[ns]\n",
              "Sample Type             category\n",
              "Unit                    category\n",
              "Ba-140                   float64\n",
              "Co-60                    float64\n",
              "Cs-134                   float64\n",
              "Cs-136                   float64\n",
              "Cs-137                   float64\n",
              "I-131                    float64\n",
              "I-132                    float64\n",
              "I-133                    float64\n",
              "Te-129                   float64\n",
              "Te-129m                  float64\n",
              "Te-132                   float64\n",
              "dtype: object"
            ]
          },
          "metadata": {
            "tags": []
          },
          "execution_count": 66
        }
      ]
    },
    {
      "metadata": {
        "id": "9HV9XG8uRLku",
        "colab_type": "text"
      },
      "cell_type": "markdown",
      "source": [
        "### Activity 7- Aggregation and Grouping"
      ]
    },
    {
      "metadata": {
        "id": "PVBtxRfiRZMk",
        "colab_type": "code",
        "colab": {
          "base_uri": "https://localhost:8080/",
          "height": 142
        },
        "outputId": "5737b738-2359-4d11-bd8c-916e65d9c039"
      },
      "cell_type": "code",
      "source": [
        "df.groupby('State')['Cs-134'].mean().head()"
      ],
      "execution_count": 67,
      "outputs": [
        {
          "output_type": "execute_result",
          "data": {
            "text/plain": [
              "State\n",
              "AK    0.046191\n",
              "AL    5.600000\n",
              "AR         NaN\n",
              "AZ         NaN\n",
              "CA    1.791289\n",
              "Name: Cs-134, dtype: float64"
            ]
          },
          "metadata": {
            "tags": []
          },
          "execution_count": 67
        }
      ]
    },
    {
      "metadata": {
        "id": "4-JMkKRURFxb",
        "colab_type": "code",
        "colab": {
          "base_uri": "https://localhost:8080/",
          "height": 238
        },
        "outputId": "4e7be151-2de7-4bb4-e7f4-3ceb10ec5702"
      },
      "cell_type": "code",
      "source": [
        "df.groupby('State').mean().head()"
      ],
      "execution_count": 68,
      "outputs": [
        {
          "output_type": "execute_result",
          "data": {
            "text/html": [
              "<div>\n",
              "<style scoped>\n",
              "    .dataframe tbody tr th:only-of-type {\n",
              "        vertical-align: middle;\n",
              "    }\n",
              "\n",
              "    .dataframe tbody tr th {\n",
              "        vertical-align: top;\n",
              "    }\n",
              "\n",
              "    .dataframe thead th {\n",
              "        text-align: right;\n",
              "    }\n",
              "</style>\n",
              "<table border=\"1\" class=\"dataframe\">\n",
              "  <thead>\n",
              "    <tr style=\"text-align: right;\">\n",
              "      <th></th>\n",
              "      <th>Ba-140</th>\n",
              "      <th>Co-60</th>\n",
              "      <th>Cs-134</th>\n",
              "      <th>Cs-136</th>\n",
              "      <th>Cs-137</th>\n",
              "      <th>I-131</th>\n",
              "      <th>I-132</th>\n",
              "      <th>I-133</th>\n",
              "      <th>Te-129</th>\n",
              "      <th>Te-129m</th>\n",
              "      <th>Te-132</th>\n",
              "    </tr>\n",
              "    <tr>\n",
              "      <th>State</th>\n",
              "      <th></th>\n",
              "      <th></th>\n",
              "      <th></th>\n",
              "      <th></th>\n",
              "      <th></th>\n",
              "      <th></th>\n",
              "      <th></th>\n",
              "      <th></th>\n",
              "      <th></th>\n",
              "      <th></th>\n",
              "      <th></th>\n",
              "    </tr>\n",
              "  </thead>\n",
              "  <tbody>\n",
              "    <tr>\n",
              "      <th>AK</th>\n",
              "      <td>NaN</td>\n",
              "      <td>NaN</td>\n",
              "      <td>0.046191</td>\n",
              "      <td>0.012</td>\n",
              "      <td>0.048533</td>\n",
              "      <td>0.310825</td>\n",
              "      <td>0.096625</td>\n",
              "      <td>NaN</td>\n",
              "      <td>0.12</td>\n",
              "      <td>0.061</td>\n",
              "      <td>0.104636</td>\n",
              "    </tr>\n",
              "    <tr>\n",
              "      <th>AL</th>\n",
              "      <td>NaN</td>\n",
              "      <td>NaN</td>\n",
              "      <td>5.600000</td>\n",
              "      <td>NaN</td>\n",
              "      <td>0.001800</td>\n",
              "      <td>2.333000</td>\n",
              "      <td>NaN</td>\n",
              "      <td>NaN</td>\n",
              "      <td>NaN</td>\n",
              "      <td>NaN</td>\n",
              "      <td>0.009400</td>\n",
              "    </tr>\n",
              "    <tr>\n",
              "      <th>AR</th>\n",
              "      <td>NaN</td>\n",
              "      <td>NaN</td>\n",
              "      <td>NaN</td>\n",
              "      <td>NaN</td>\n",
              "      <td>NaN</td>\n",
              "      <td>19.766667</td>\n",
              "      <td>NaN</td>\n",
              "      <td>NaN</td>\n",
              "      <td>NaN</td>\n",
              "      <td>NaN</td>\n",
              "      <td>NaN</td>\n",
              "    </tr>\n",
              "    <tr>\n",
              "      <th>AZ</th>\n",
              "      <td>NaN</td>\n",
              "      <td>NaN</td>\n",
              "      <td>NaN</td>\n",
              "      <td>NaN</td>\n",
              "      <td>NaN</td>\n",
              "      <td>3.200000</td>\n",
              "      <td>NaN</td>\n",
              "      <td>NaN</td>\n",
              "      <td>NaN</td>\n",
              "      <td>NaN</td>\n",
              "      <td>NaN</td>\n",
              "    </tr>\n",
              "    <tr>\n",
              "      <th>CA</th>\n",
              "      <td>NaN</td>\n",
              "      <td>NaN</td>\n",
              "      <td>1.791289</td>\n",
              "      <td>NaN</td>\n",
              "      <td>1.380839</td>\n",
              "      <td>9.700774</td>\n",
              "      <td>0.015275</td>\n",
              "      <td>0.002</td>\n",
              "      <td>NaN</td>\n",
              "      <td>NaN</td>\n",
              "      <td>0.934762</td>\n",
              "    </tr>\n",
              "  </tbody>\n",
              "</table>\n",
              "</div>"
            ],
            "text/plain": [
              "       Ba-140  Co-60    Cs-134  Cs-136    Cs-137      I-131     I-132  I-133  \\\n",
              "State                                                                          \n",
              "AK        NaN    NaN  0.046191   0.012  0.048533   0.310825  0.096625    NaN   \n",
              "AL        NaN    NaN  5.600000     NaN  0.001800   2.333000       NaN    NaN   \n",
              "AR        NaN    NaN       NaN     NaN       NaN  19.766667       NaN    NaN   \n",
              "AZ        NaN    NaN       NaN     NaN       NaN   3.200000       NaN    NaN   \n",
              "CA        NaN    NaN  1.791289     NaN  1.380839   9.700774  0.015275  0.002   \n",
              "\n",
              "       Te-129  Te-129m    Te-132  \n",
              "State                             \n",
              "AK       0.12    0.061  0.104636  \n",
              "AL        NaN      NaN  0.009400  \n",
              "AR        NaN      NaN       NaN  \n",
              "AZ        NaN      NaN       NaN  \n",
              "CA        NaN      NaN  0.934762  "
            ]
          },
          "metadata": {
            "tags": []
          },
          "execution_count": 68
        }
      ]
    },
    {
      "metadata": {
        "id": "1U-9i0yaSUjl",
        "colab_type": "code",
        "colab": {
          "base_uri": "https://localhost:8080/",
          "height": 2055
        },
        "outputId": "b20f0157-6683-414f-84d8-f702cdf54453"
      },
      "cell_type": "code",
      "source": [
        "df.groupby(['State', 'Location']).agg({'Cs-134':['mean', 'std'], 'Te-129':['min', 'max']})"
      ],
      "execution_count": 69,
      "outputs": [
        {
          "output_type": "execute_result",
          "data": {
            "text/html": [
              "<div>\n",
              "<style scoped>\n",
              "    .dataframe tbody tr th:only-of-type {\n",
              "        vertical-align: middle;\n",
              "    }\n",
              "\n",
              "    .dataframe tbody tr th {\n",
              "        vertical-align: top;\n",
              "    }\n",
              "\n",
              "    .dataframe thead tr th {\n",
              "        text-align: left;\n",
              "    }\n",
              "\n",
              "    .dataframe thead tr:last-of-type th {\n",
              "        text-align: right;\n",
              "    }\n",
              "</style>\n",
              "<table border=\"1\" class=\"dataframe\">\n",
              "  <thead>\n",
              "    <tr>\n",
              "      <th></th>\n",
              "      <th></th>\n",
              "      <th colspan=\"2\" halign=\"left\">Cs-134</th>\n",
              "      <th colspan=\"2\" halign=\"left\">Te-129</th>\n",
              "    </tr>\n",
              "    <tr>\n",
              "      <th></th>\n",
              "      <th></th>\n",
              "      <th>mean</th>\n",
              "      <th>std</th>\n",
              "      <th>min</th>\n",
              "      <th>max</th>\n",
              "    </tr>\n",
              "    <tr>\n",
              "      <th>State</th>\n",
              "      <th>Location</th>\n",
              "      <th></th>\n",
              "      <th></th>\n",
              "      <th></th>\n",
              "      <th></th>\n",
              "    </tr>\n",
              "  </thead>\n",
              "  <tbody>\n",
              "    <tr>\n",
              "      <th rowspan=\"4\" valign=\"top\">AK</th>\n",
              "      <th>Dutch Harbor</th>\n",
              "      <td>0.040467</td>\n",
              "      <td>0.026750</td>\n",
              "      <td>NaN</td>\n",
              "      <td>NaN</td>\n",
              "    </tr>\n",
              "    <tr>\n",
              "      <th>Fairbanks</th>\n",
              "      <td>NaN</td>\n",
              "      <td>NaN</td>\n",
              "      <td>NaN</td>\n",
              "      <td>NaN</td>\n",
              "    </tr>\n",
              "    <tr>\n",
              "      <th>Juneau</th>\n",
              "      <td>0.004650</td>\n",
              "      <td>0.001485</td>\n",
              "      <td>NaN</td>\n",
              "      <td>NaN</td>\n",
              "    </tr>\n",
              "    <tr>\n",
              "      <th>Nome</th>\n",
              "      <td>0.085333</td>\n",
              "      <td>0.063288</td>\n",
              "      <td>0.12</td>\n",
              "      <td>0.12</td>\n",
              "    </tr>\n",
              "    <tr>\n",
              "      <th rowspan=\"5\" valign=\"top\">AL</th>\n",
              "      <th>Dothan</th>\n",
              "      <td>NaN</td>\n",
              "      <td>NaN</td>\n",
              "      <td>NaN</td>\n",
              "      <td>NaN</td>\n",
              "    </tr>\n",
              "    <tr>\n",
              "      <th>Montgomery</th>\n",
              "      <td>NaN</td>\n",
              "      <td>NaN</td>\n",
              "      <td>NaN</td>\n",
              "      <td>NaN</td>\n",
              "    </tr>\n",
              "    <tr>\n",
              "      <th>Montgomery/408</th>\n",
              "      <td>NaN</td>\n",
              "      <td>NaN</td>\n",
              "      <td>NaN</td>\n",
              "      <td>NaN</td>\n",
              "    </tr>\n",
              "    <tr>\n",
              "      <th>Muscle Shoals</th>\n",
              "      <td>NaN</td>\n",
              "      <td>NaN</td>\n",
              "      <td>NaN</td>\n",
              "      <td>NaN</td>\n",
              "    </tr>\n",
              "    <tr>\n",
              "      <th>Scottsboro</th>\n",
              "      <td>5.600000</td>\n",
              "      <td>NaN</td>\n",
              "      <td>NaN</td>\n",
              "      <td>NaN</td>\n",
              "    </tr>\n",
              "    <tr>\n",
              "      <th>AR</th>\n",
              "      <th>Little Rock</th>\n",
              "      <td>NaN</td>\n",
              "      <td>NaN</td>\n",
              "      <td>NaN</td>\n",
              "      <td>NaN</td>\n",
              "    </tr>\n",
              "    <tr>\n",
              "      <th>AZ</th>\n",
              "      <th>Phoenix</th>\n",
              "      <td>NaN</td>\n",
              "      <td>NaN</td>\n",
              "      <td>NaN</td>\n",
              "      <td>NaN</td>\n",
              "    </tr>\n",
              "    <tr>\n",
              "      <th rowspan=\"7\" valign=\"top\">CA</th>\n",
              "      <th>Anaheim</th>\n",
              "      <td>0.012950</td>\n",
              "      <td>0.010853</td>\n",
              "      <td>NaN</td>\n",
              "      <td>NaN</td>\n",
              "    </tr>\n",
              "    <tr>\n",
              "      <th>Los Angeles</th>\n",
              "      <td>NaN</td>\n",
              "      <td>NaN</td>\n",
              "      <td>NaN</td>\n",
              "      <td>NaN</td>\n",
              "    </tr>\n",
              "    <tr>\n",
              "      <th>Oakland</th>\n",
              "      <td>2.500000</td>\n",
              "      <td>NaN</td>\n",
              "      <td>NaN</td>\n",
              "      <td>NaN</td>\n",
              "    </tr>\n",
              "    <tr>\n",
              "      <th>Richmond</th>\n",
              "      <td>6.900000</td>\n",
              "      <td>1.868154</td>\n",
              "      <td>NaN</td>\n",
              "      <td>NaN</td>\n",
              "    </tr>\n",
              "    <tr>\n",
              "      <th>Riverside</th>\n",
              "      <td>0.000240</td>\n",
              "      <td>NaN</td>\n",
              "      <td>NaN</td>\n",
              "      <td>NaN</td>\n",
              "    </tr>\n",
              "    <tr>\n",
              "      <th>San Bernardino</th>\n",
              "      <td>0.011267</td>\n",
              "      <td>0.002194</td>\n",
              "      <td>NaN</td>\n",
              "      <td>NaN</td>\n",
              "    </tr>\n",
              "    <tr>\n",
              "      <th>San Francisco</th>\n",
              "      <td>0.000920</td>\n",
              "      <td>NaN</td>\n",
              "      <td>NaN</td>\n",
              "      <td>NaN</td>\n",
              "    </tr>\n",
              "    <tr>\n",
              "      <th>CNMI</th>\n",
              "      <th>Saipan</th>\n",
              "      <td>0.035600</td>\n",
              "      <td>0.031181</td>\n",
              "      <td>NaN</td>\n",
              "      <td>NaN</td>\n",
              "    </tr>\n",
              "    <tr>\n",
              "      <th>CO</th>\n",
              "      <th>Denver</th>\n",
              "      <td>NaN</td>\n",
              "      <td>NaN</td>\n",
              "      <td>NaN</td>\n",
              "      <td>NaN</td>\n",
              "    </tr>\n",
              "    <tr>\n",
              "      <th>CT</th>\n",
              "      <th>Hartford</th>\n",
              "      <td>NaN</td>\n",
              "      <td>NaN</td>\n",
              "      <td>NaN</td>\n",
              "      <td>NaN</td>\n",
              "    </tr>\n",
              "    <tr>\n",
              "      <th rowspan=\"2\" valign=\"top\">DE</th>\n",
              "      <th>Dover</th>\n",
              "      <td>NaN</td>\n",
              "      <td>NaN</td>\n",
              "      <td>NaN</td>\n",
              "      <td>NaN</td>\n",
              "    </tr>\n",
              "    <tr>\n",
              "      <th>Wilmington</th>\n",
              "      <td>NaN</td>\n",
              "      <td>NaN</td>\n",
              "      <td>NaN</td>\n",
              "      <td>NaN</td>\n",
              "    </tr>\n",
              "    <tr>\n",
              "      <th rowspan=\"5\" valign=\"top\">FL</th>\n",
              "      <th>Jacksonville</th>\n",
              "      <td>0.703650</td>\n",
              "      <td>0.984788</td>\n",
              "      <td>NaN</td>\n",
              "      <td>NaN</td>\n",
              "    </tr>\n",
              "    <tr>\n",
              "      <th>Miami</th>\n",
              "      <td>NaN</td>\n",
              "      <td>NaN</td>\n",
              "      <td>NaN</td>\n",
              "      <td>NaN</td>\n",
              "    </tr>\n",
              "    <tr>\n",
              "      <th>Orlando</th>\n",
              "      <td>0.015000</td>\n",
              "      <td>NaN</td>\n",
              "      <td>NaN</td>\n",
              "      <td>NaN</td>\n",
              "    </tr>\n",
              "    <tr>\n",
              "      <th>Plant City</th>\n",
              "      <td>NaN</td>\n",
              "      <td>NaN</td>\n",
              "      <td>NaN</td>\n",
              "      <td>NaN</td>\n",
              "    </tr>\n",
              "    <tr>\n",
              "      <th>Tampa</th>\n",
              "      <td>NaN</td>\n",
              "      <td>NaN</td>\n",
              "      <td>NaN</td>\n",
              "      <td>NaN</td>\n",
              "    </tr>\n",
              "    <tr>\n",
              "      <th rowspan=\"2\" valign=\"top\">GA</th>\n",
              "      <th>Atlanta</th>\n",
              "      <td>NaN</td>\n",
              "      <td>NaN</td>\n",
              "      <td>NaN</td>\n",
              "      <td>NaN</td>\n",
              "    </tr>\n",
              "    <tr>\n",
              "      <th>Baxley</th>\n",
              "      <td>NaN</td>\n",
              "      <td>NaN</td>\n",
              "      <td>NaN</td>\n",
              "      <td>NaN</td>\n",
              "    </tr>\n",
              "    <tr>\n",
              "      <th>...</th>\n",
              "      <th>...</th>\n",
              "      <td>...</td>\n",
              "      <td>...</td>\n",
              "      <td>...</td>\n",
              "      <td>...</td>\n",
              "    </tr>\n",
              "    <tr>\n",
              "      <th rowspan=\"16\" valign=\"top\">TN</th>\n",
              "      <th>Chattanooga</th>\n",
              "      <td>NaN</td>\n",
              "      <td>NaN</td>\n",
              "      <td>NaN</td>\n",
              "      <td>NaN</td>\n",
              "    </tr>\n",
              "    <tr>\n",
              "      <th>Knoxville</th>\n",
              "      <td>NaN</td>\n",
              "      <td>NaN</td>\n",
              "      <td>NaN</td>\n",
              "      <td>NaN</td>\n",
              "    </tr>\n",
              "    <tr>\n",
              "      <th>Memphis</th>\n",
              "      <td>NaN</td>\n",
              "      <td>NaN</td>\n",
              "      <td>NaN</td>\n",
              "      <td>NaN</td>\n",
              "    </tr>\n",
              "    <tr>\n",
              "      <th>Nashville</th>\n",
              "      <td>NaN</td>\n",
              "      <td>NaN</td>\n",
              "      <td>NaN</td>\n",
              "      <td>NaN</td>\n",
              "    </tr>\n",
              "    <tr>\n",
              "      <th>Oak Ridge/360</th>\n",
              "      <td>NaN</td>\n",
              "      <td>NaN</td>\n",
              "      <td>NaN</td>\n",
              "      <td>NaN</td>\n",
              "    </tr>\n",
              "    <tr>\n",
              "      <th>Oak Ridge/371</th>\n",
              "      <td>NaN</td>\n",
              "      <td>NaN</td>\n",
              "      <td>NaN</td>\n",
              "      <td>NaN</td>\n",
              "    </tr>\n",
              "    <tr>\n",
              "      <th>Oak Ridge/4442</th>\n",
              "      <td>NaN</td>\n",
              "      <td>NaN</td>\n",
              "      <td>NaN</td>\n",
              "      <td>NaN</td>\n",
              "    </tr>\n",
              "    <tr>\n",
              "      <th>Oak Ridge/768</th>\n",
              "      <td>NaN</td>\n",
              "      <td>NaN</td>\n",
              "      <td>NaN</td>\n",
              "      <td>NaN</td>\n",
              "    </tr>\n",
              "    <tr>\n",
              "      <th>Oak Ridge/772</th>\n",
              "      <td>NaN</td>\n",
              "      <td>NaN</td>\n",
              "      <td>NaN</td>\n",
              "      <td>NaN</td>\n",
              "    </tr>\n",
              "    <tr>\n",
              "      <th>Oak Ridge/K-12</th>\n",
              "      <td>NaN</td>\n",
              "      <td>NaN</td>\n",
              "      <td>NaN</td>\n",
              "      <td>NaN</td>\n",
              "    </tr>\n",
              "    <tr>\n",
              "      <th>Oak Ridge/K-25</th>\n",
              "      <td>NaN</td>\n",
              "      <td>NaN</td>\n",
              "      <td>NaN</td>\n",
              "      <td>NaN</td>\n",
              "    </tr>\n",
              "    <tr>\n",
              "      <th>Oak Ridge/K25</th>\n",
              "      <td>NaN</td>\n",
              "      <td>NaN</td>\n",
              "      <td>NaN</td>\n",
              "      <td>NaN</td>\n",
              "    </tr>\n",
              "    <tr>\n",
              "      <th>Oak Ridge/Melton</th>\n",
              "      <td>1.300000</td>\n",
              "      <td>NaN</td>\n",
              "      <td>NaN</td>\n",
              "      <td>NaN</td>\n",
              "    </tr>\n",
              "    <tr>\n",
              "      <th>Oak Ridge/Y-12</th>\n",
              "      <td>1.300000</td>\n",
              "      <td>NaN</td>\n",
              "      <td>NaN</td>\n",
              "      <td>NaN</td>\n",
              "    </tr>\n",
              "    <tr>\n",
              "      <th>Oak Ridge/Y-12E</th>\n",
              "      <td>NaN</td>\n",
              "      <td>NaN</td>\n",
              "      <td>NaN</td>\n",
              "      <td>NaN</td>\n",
              "    </tr>\n",
              "    <tr>\n",
              "      <th>Oak Ridge/Y12E</th>\n",
              "      <td>NaN</td>\n",
              "      <td>NaN</td>\n",
              "      <td>NaN</td>\n",
              "      <td>NaN</td>\n",
              "    </tr>\n",
              "    <tr>\n",
              "      <th rowspan=\"3\" valign=\"top\">TX</th>\n",
              "      <th>Austin</th>\n",
              "      <td>NaN</td>\n",
              "      <td>NaN</td>\n",
              "      <td>NaN</td>\n",
              "      <td>NaN</td>\n",
              "    </tr>\n",
              "    <tr>\n",
              "      <th>Dallas</th>\n",
              "      <td>NaN</td>\n",
              "      <td>NaN</td>\n",
              "      <td>NaN</td>\n",
              "      <td>NaN</td>\n",
              "    </tr>\n",
              "    <tr>\n",
              "      <th>San Antonio</th>\n",
              "      <td>NaN</td>\n",
              "      <td>NaN</td>\n",
              "      <td>NaN</td>\n",
              "      <td>NaN</td>\n",
              "    </tr>\n",
              "    <tr>\n",
              "      <th>UT</th>\n",
              "      <th>Salt Lake City</th>\n",
              "      <td>0.707000</td>\n",
              "      <td>0.980050</td>\n",
              "      <td>NaN</td>\n",
              "      <td>NaN</td>\n",
              "    </tr>\n",
              "    <tr>\n",
              "      <th rowspan=\"2\" valign=\"top\">VA</th>\n",
              "      <th>Ashland</th>\n",
              "      <td>NaN</td>\n",
              "      <td>NaN</td>\n",
              "      <td>NaN</td>\n",
              "      <td>NaN</td>\n",
              "    </tr>\n",
              "    <tr>\n",
              "      <th>Lynchburg</th>\n",
              "      <td>NaN</td>\n",
              "      <td>NaN</td>\n",
              "      <td>NaN</td>\n",
              "      <td>NaN</td>\n",
              "    </tr>\n",
              "    <tr>\n",
              "      <th>VT</th>\n",
              "      <th>Montpelier</th>\n",
              "      <td>NaN</td>\n",
              "      <td>NaN</td>\n",
              "      <td>NaN</td>\n",
              "      <td>NaN</td>\n",
              "    </tr>\n",
              "    <tr>\n",
              "      <th rowspan=\"5\" valign=\"top\">WA</th>\n",
              "      <th>Olympia</th>\n",
              "      <td>NaN</td>\n",
              "      <td>NaN</td>\n",
              "      <td>NaN</td>\n",
              "      <td>NaN</td>\n",
              "    </tr>\n",
              "    <tr>\n",
              "      <th>Richland</th>\n",
              "      <td>NaN</td>\n",
              "      <td>NaN</td>\n",
              "      <td>NaN</td>\n",
              "      <td>NaN</td>\n",
              "    </tr>\n",
              "    <tr>\n",
              "      <th>Seattle</th>\n",
              "      <td>0.000520</td>\n",
              "      <td>NaN</td>\n",
              "      <td>NaN</td>\n",
              "      <td>NaN</td>\n",
              "    </tr>\n",
              "    <tr>\n",
              "      <th>Spokane</th>\n",
              "      <td>NaN</td>\n",
              "      <td>NaN</td>\n",
              "      <td>NaN</td>\n",
              "      <td>NaN</td>\n",
              "    </tr>\n",
              "    <tr>\n",
              "      <th>Tacoma</th>\n",
              "      <td>NaN</td>\n",
              "      <td>NaN</td>\n",
              "      <td>NaN</td>\n",
              "      <td>NaN</td>\n",
              "    </tr>\n",
              "    <tr>\n",
              "      <th>WI</th>\n",
              "      <th>Madison</th>\n",
              "      <td>NaN</td>\n",
              "      <td>NaN</td>\n",
              "      <td>NaN</td>\n",
              "      <td>NaN</td>\n",
              "    </tr>\n",
              "    <tr>\n",
              "      <th>WV</th>\n",
              "      <th>Charleston</th>\n",
              "      <td>NaN</td>\n",
              "      <td>NaN</td>\n",
              "      <td>NaN</td>\n",
              "      <td>NaN</td>\n",
              "    </tr>\n",
              "  </tbody>\n",
              "</table>\n",
              "<p>130 rows × 4 columns</p>\n",
              "</div>"
            ],
            "text/plain": [
              "                          Cs-134           Te-129      \n",
              "                            mean       std    min   max\n",
              "State Location                                         \n",
              "AK    Dutch Harbor      0.040467  0.026750    NaN   NaN\n",
              "      Fairbanks              NaN       NaN    NaN   NaN\n",
              "      Juneau            0.004650  0.001485    NaN   NaN\n",
              "      Nome              0.085333  0.063288   0.12  0.12\n",
              "AL    Dothan                 NaN       NaN    NaN   NaN\n",
              "      Montgomery             NaN       NaN    NaN   NaN\n",
              "      Montgomery/408         NaN       NaN    NaN   NaN\n",
              "      Muscle Shoals          NaN       NaN    NaN   NaN\n",
              "      Scottsboro        5.600000       NaN    NaN   NaN\n",
              "AR    Little Rock            NaN       NaN    NaN   NaN\n",
              "AZ    Phoenix                NaN       NaN    NaN   NaN\n",
              "CA    Anaheim           0.012950  0.010853    NaN   NaN\n",
              "      Los Angeles            NaN       NaN    NaN   NaN\n",
              "      Oakland           2.500000       NaN    NaN   NaN\n",
              "      Richmond          6.900000  1.868154    NaN   NaN\n",
              "      Riverside         0.000240       NaN    NaN   NaN\n",
              "      San Bernardino    0.011267  0.002194    NaN   NaN\n",
              "      San Francisco     0.000920       NaN    NaN   NaN\n",
              "CNMI  Saipan            0.035600  0.031181    NaN   NaN\n",
              "CO    Denver                 NaN       NaN    NaN   NaN\n",
              "CT    Hartford               NaN       NaN    NaN   NaN\n",
              "DE    Dover                  NaN       NaN    NaN   NaN\n",
              "      Wilmington             NaN       NaN    NaN   NaN\n",
              "FL    Jacksonville      0.703650  0.984788    NaN   NaN\n",
              "      Miami                  NaN       NaN    NaN   NaN\n",
              "      Orlando           0.015000       NaN    NaN   NaN\n",
              "      Plant City             NaN       NaN    NaN   NaN\n",
              "      Tampa                  NaN       NaN    NaN   NaN\n",
              "GA    Atlanta                NaN       NaN    NaN   NaN\n",
              "      Baxley                 NaN       NaN    NaN   NaN\n",
              "...                          ...       ...    ...   ...\n",
              "TN    Chattanooga            NaN       NaN    NaN   NaN\n",
              "      Knoxville              NaN       NaN    NaN   NaN\n",
              "      Memphis                NaN       NaN    NaN   NaN\n",
              "      Nashville              NaN       NaN    NaN   NaN\n",
              "      Oak Ridge/360          NaN       NaN    NaN   NaN\n",
              "      Oak Ridge/371          NaN       NaN    NaN   NaN\n",
              "      Oak Ridge/4442         NaN       NaN    NaN   NaN\n",
              "      Oak Ridge/768          NaN       NaN    NaN   NaN\n",
              "      Oak Ridge/772          NaN       NaN    NaN   NaN\n",
              "      Oak Ridge/K-12         NaN       NaN    NaN   NaN\n",
              "      Oak Ridge/K-25         NaN       NaN    NaN   NaN\n",
              "      Oak Ridge/K25          NaN       NaN    NaN   NaN\n",
              "      Oak Ridge/Melton  1.300000       NaN    NaN   NaN\n",
              "      Oak Ridge/Y-12    1.300000       NaN    NaN   NaN\n",
              "      Oak Ridge/Y-12E        NaN       NaN    NaN   NaN\n",
              "      Oak Ridge/Y12E         NaN       NaN    NaN   NaN\n",
              "TX    Austin                 NaN       NaN    NaN   NaN\n",
              "      Dallas                 NaN       NaN    NaN   NaN\n",
              "      San Antonio            NaN       NaN    NaN   NaN\n",
              "UT    Salt Lake City    0.707000  0.980050    NaN   NaN\n",
              "VA    Ashland                NaN       NaN    NaN   NaN\n",
              "      Lynchburg              NaN       NaN    NaN   NaN\n",
              "VT    Montpelier             NaN       NaN    NaN   NaN\n",
              "WA    Olympia                NaN       NaN    NaN   NaN\n",
              "      Richland               NaN       NaN    NaN   NaN\n",
              "      Seattle           0.000520       NaN    NaN   NaN\n",
              "      Spokane                NaN       NaN    NaN   NaN\n",
              "      Tacoma                 NaN       NaN    NaN   NaN\n",
              "WI    Madison                NaN       NaN    NaN   NaN\n",
              "WV    Charleston             NaN       NaN    NaN   NaN\n",
              "\n",
              "[130 rows x 4 columns]"
            ]
          },
          "metadata": {
            "tags": []
          },
          "execution_count": 69
        }
      ]
    },
    {
      "metadata": {
        "id": "mQlhydSa1XEz",
        "colab_type": "text"
      },
      "cell_type": "markdown",
      "source": [
        "### Activity 8 -Exporting dataframes"
      ]
    },
    {
      "metadata": {
        "id": "gNc_wkp51aFN",
        "colab_type": "code",
        "colab": {}
      },
      "cell_type": "code",
      "source": [
        "df.to_csv('radiation_clean.csv', index=False, sep=';', encoding='utf-8')"
      ],
      "execution_count": 0,
      "outputs": []
    },
    {
      "metadata": {
        "id": "FN2rOJ071hUB",
        "colab_type": "code",
        "colab": {}
      },
      "cell_type": "code",
      "source": [
        "# Careful with type conversion: datetime to string!\n",
        "df.to_parquet('radiation_clean.prq', index=False)"
      ],
      "execution_count": 0,
      "outputs": []
    },
    {
      "metadata": {
        "id": "TXGiPJVPepEX",
        "colab_type": "text"
      },
      "cell_type": "markdown",
      "source": [
        "### Activity 9 - Plotting"
      ]
    },
    {
      "metadata": {
        "id": "1Pz52qdzeMRg",
        "colab_type": "code",
        "colab": {
          "base_uri": "https://localhost:8080/",
          "height": 588
        },
        "outputId": "a200011d-404b-470c-e241-a36ff5677462"
      },
      "cell_type": "code",
      "source": [
        "df.loc[df.Location == 'San Bernardino'].plot(x='Date Collected', y='I-131')"
      ],
      "execution_count": 77,
      "outputs": [
        {
          "output_type": "execute_result",
          "data": {
            "text/plain": [
              "<matplotlib.axes._subplots.AxesSubplot at 0x7f7dcb3edba8>"
            ]
          },
          "metadata": {
            "tags": []
          },
          "execution_count": 77
        },
        {
          "output_type": "display_data",
          "data": {
            "image/png": "[encoded data removed]",
            "text/plain": [
              "<matplotlib.figure.Figure at 0x7f7dcb406e48>"
            ]
          },
          "metadata": {
            "tags": []
          }
        }
      ]
    },
    {
      "metadata": {
        "id": "VrN8DN0_e9qK",
        "colab_type": "code",
        "colab": {
          "base_uri": "https://localhost:8080/",
          "height": 310
        },
        "outputId": "011f3e91-bafd-491d-a7cb-0ef77333cef7"
      },
      "cell_type": "code",
      "source": [
        "df.head()"
      ],
      "execution_count": 78,
      "outputs": [
        {
          "output_type": "execute_result",
          "data": {
            "text/html": [
              "<div>\n",
              "<style scoped>\n",
              "    .dataframe tbody tr th:only-of-type {\n",
              "        vertical-align: middle;\n",
              "    }\n",
              "\n",
              "    .dataframe tbody tr th {\n",
              "        vertical-align: top;\n",
              "    }\n",
              "\n",
              "    .dataframe thead th {\n",
              "        text-align: right;\n",
              "    }\n",
              "</style>\n",
              "<table border=\"1\" class=\"dataframe\">\n",
              "  <thead>\n",
              "    <tr style=\"text-align: right;\">\n",
              "      <th></th>\n",
              "      <th>State</th>\n",
              "      <th>Location</th>\n",
              "      <th>Date Posted</th>\n",
              "      <th>Date Collected</th>\n",
              "      <th>Sample Type</th>\n",
              "      <th>Unit</th>\n",
              "      <th>Ba-140</th>\n",
              "      <th>Co-60</th>\n",
              "      <th>Cs-134</th>\n",
              "      <th>Cs-136</th>\n",
              "      <th>Cs-137</th>\n",
              "      <th>I-131</th>\n",
              "      <th>I-132</th>\n",
              "      <th>I-133</th>\n",
              "      <th>Te-129</th>\n",
              "      <th>Te-129m</th>\n",
              "      <th>Te-132</th>\n",
              "    </tr>\n",
              "  </thead>\n",
              "  <tbody>\n",
              "    <tr>\n",
              "      <th>0</th>\n",
              "      <td>ID</td>\n",
              "      <td>Boise</td>\n",
              "      <td>2011-03-30</td>\n",
              "      <td>2011-03-23</td>\n",
              "      <td>Air Filter</td>\n",
              "      <td>pCi/m3</td>\n",
              "      <td>NaN</td>\n",
              "      <td>NaN</td>\n",
              "      <td>NaN</td>\n",
              "      <td>NaN</td>\n",
              "      <td>NaN</td>\n",
              "      <td>0.088</td>\n",
              "      <td>NaN</td>\n",
              "      <td>NaN</td>\n",
              "      <td>NaN</td>\n",
              "      <td>NaN</td>\n",
              "      <td>NaN</td>\n",
              "    </tr>\n",
              "    <tr>\n",
              "      <th>1</th>\n",
              "      <td>ID</td>\n",
              "      <td>Boise</td>\n",
              "      <td>2011-03-30</td>\n",
              "      <td>2011-03-23</td>\n",
              "      <td>Air Filter</td>\n",
              "      <td>pCi/m3</td>\n",
              "      <td>NaN</td>\n",
              "      <td>NaN</td>\n",
              "      <td>NaN</td>\n",
              "      <td>NaN</td>\n",
              "      <td>NaN</td>\n",
              "      <td>0.055</td>\n",
              "      <td>NaN</td>\n",
              "      <td>NaN</td>\n",
              "      <td>NaN</td>\n",
              "      <td>NaN</td>\n",
              "      <td>NaN</td>\n",
              "    </tr>\n",
              "    <tr>\n",
              "      <th>2</th>\n",
              "      <td>AK</td>\n",
              "      <td>Juneau</td>\n",
              "      <td>2011-03-30</td>\n",
              "      <td>2011-03-23</td>\n",
              "      <td>Air Filter</td>\n",
              "      <td>pCi/m3</td>\n",
              "      <td>NaN</td>\n",
              "      <td>NaN</td>\n",
              "      <td>0.0057</td>\n",
              "      <td>NaN</td>\n",
              "      <td>0.0074</td>\n",
              "      <td>0.067</td>\n",
              "      <td>NaN</td>\n",
              "      <td>NaN</td>\n",
              "      <td>NaN</td>\n",
              "      <td>NaN</td>\n",
              "      <td>0.0043</td>\n",
              "    </tr>\n",
              "    <tr>\n",
              "      <th>3</th>\n",
              "      <td>AK</td>\n",
              "      <td>Nome</td>\n",
              "      <td>2011-03-30</td>\n",
              "      <td>2011-03-22</td>\n",
              "      <td>Air Filter</td>\n",
              "      <td>pCi/m3</td>\n",
              "      <td>NaN</td>\n",
              "      <td>NaN</td>\n",
              "      <td>NaN</td>\n",
              "      <td>NaN</td>\n",
              "      <td>NaN</td>\n",
              "      <td>0.096</td>\n",
              "      <td>NaN</td>\n",
              "      <td>NaN</td>\n",
              "      <td>NaN</td>\n",
              "      <td>NaN</td>\n",
              "      <td>NaN</td>\n",
              "    </tr>\n",
              "    <tr>\n",
              "      <th>4</th>\n",
              "      <td>AK</td>\n",
              "      <td>Nome</td>\n",
              "      <td>2011-03-30</td>\n",
              "      <td>2011-03-23</td>\n",
              "      <td>Air Filter</td>\n",
              "      <td>pCi/m3</td>\n",
              "      <td>NaN</td>\n",
              "      <td>NaN</td>\n",
              "      <td>NaN</td>\n",
              "      <td>NaN</td>\n",
              "      <td>NaN</td>\n",
              "      <td>0.220</td>\n",
              "      <td>NaN</td>\n",
              "      <td>NaN</td>\n",
              "      <td>NaN</td>\n",
              "      <td>NaN</td>\n",
              "      <td>NaN</td>\n",
              "    </tr>\n",
              "  </tbody>\n",
              "</table>\n",
              "</div>"
            ],
            "text/plain": [
              "  State Location Date Posted Date Collected Sample Type    Unit  Ba-140  \\\n",
              "0    ID    Boise  2011-03-30     2011-03-23  Air Filter  pCi/m3     NaN   \n",
              "1    ID    Boise  2011-03-30     2011-03-23  Air Filter  pCi/m3     NaN   \n",
              "2    AK   Juneau  2011-03-30     2011-03-23  Air Filter  pCi/m3     NaN   \n",
              "3    AK     Nome  2011-03-30     2011-03-22  Air Filter  pCi/m3     NaN   \n",
              "4    AK     Nome  2011-03-30     2011-03-23  Air Filter  pCi/m3     NaN   \n",
              "\n",
              "   Co-60  Cs-134  Cs-136  Cs-137  I-131  I-132  I-133  Te-129  Te-129m  Te-132  \n",
              "0    NaN     NaN     NaN     NaN  0.088    NaN    NaN     NaN      NaN     NaN  \n",
              "1    NaN     NaN     NaN     NaN  0.055    NaN    NaN     NaN      NaN     NaN  \n",
              "2    NaN  0.0057     NaN  0.0074  0.067    NaN    NaN     NaN      NaN  0.0043  \n",
              "3    NaN     NaN     NaN     NaN  0.096    NaN    NaN     NaN      NaN     NaN  \n",
              "4    NaN     NaN     NaN     NaN  0.220    NaN    NaN     NaN      NaN     NaN  "
            ]
          },
          "metadata": {
            "tags": []
          },
          "execution_count": 78
        }
      ]
    },
    {
      "metadata": {
        "id": "kuZt6Q_8eQiS",
        "colab_type": "code",
        "colab": {
          "base_uri": "https://localhost:8080/",
          "height": 620
        },
        "outputId": "c01b246c-ac92-430c-df21-39d558351e11"
      },
      "cell_type": "code",
      "source": [
        "fig, ax = plt.subplots()\n",
        "ax.scatter(x=df['I-131'], y=df['I-132'])\n",
        "_ = ax.set(\n",
        "    xlabel='I-131',\n",
        "    ylabel='I-132',\n",
        "    title='Comparison between concentrations of I-131 and I-132'\n",
        ")"
      ],
      "execution_count": 82,
      "outputs": [
        {
          "output_type": "display_data",
          "data": {
            "image/png": "[encoded data removed]",
            "text/plain": [
              "<matplotlib.figure.Figure at 0x7f7dcb2d3630>"
            ]
          },
          "metadata": {
            "tags": []
          }
        }
      ]
    },
    {
      "metadata": {
        "id": "znLswQFClYRK",
        "colab_type": "text"
      },
      "cell_type": "markdown",
      "source": [
        "## EXTRA - Tidy data\n",
        "\n",
        "To better plot the data, we will transform the dataset into a Tidy dataset. To accomplish that, we will use the `melt` operation. "
      ]
    },
    {
      "metadata": {
        "id": "EN6HlQ0LkLZe",
        "colab_type": "code",
        "colab": {}
      },
      "cell_type": "code",
      "source": [
        "df_m = pd.melt(df, id_vars=id_cols, value_vars=columns, value_name='concentration')"
      ],
      "execution_count": 0,
      "outputs": []
    },
    {
      "metadata": {
        "id": "fj6Ff3H4luPg",
        "colab_type": "code",
        "colab": {
          "base_uri": "https://localhost:8080/",
          "height": 206
        },
        "outputId": "a74f423f-80ec-4163-aa3c-62c7847a8ec2"
      },
      "cell_type": "code",
      "source": [
        "df_m.head()"
      ],
      "execution_count": 100,
      "outputs": [
        {
          "output_type": "execute_result",
          "data": {
            "text/html": [
              "<div>\n",
              "<style scoped>\n",
              "    .dataframe tbody tr th:only-of-type {\n",
              "        vertical-align: middle;\n",
              "    }\n",
              "\n",
              "    .dataframe tbody tr th {\n",
              "        vertical-align: top;\n",
              "    }\n",
              "\n",
              "    .dataframe thead th {\n",
              "        text-align: right;\n",
              "    }\n",
              "</style>\n",
              "<table border=\"1\" class=\"dataframe\">\n",
              "  <thead>\n",
              "    <tr style=\"text-align: right;\">\n",
              "      <th></th>\n",
              "      <th>State</th>\n",
              "      <th>Location</th>\n",
              "      <th>Date Posted</th>\n",
              "      <th>Date Collected</th>\n",
              "      <th>Sample Type</th>\n",
              "      <th>Unit</th>\n",
              "      <th>variable</th>\n",
              "      <th>concentration</th>\n",
              "    </tr>\n",
              "  </thead>\n",
              "  <tbody>\n",
              "    <tr>\n",
              "      <th>0</th>\n",
              "      <td>ID</td>\n",
              "      <td>Boise</td>\n",
              "      <td>2011-03-30</td>\n",
              "      <td>2011-03-23</td>\n",
              "      <td>Air Filter</td>\n",
              "      <td>pCi/m3</td>\n",
              "      <td>I-132</td>\n",
              "      <td>NaN</td>\n",
              "    </tr>\n",
              "    <tr>\n",
              "      <th>1</th>\n",
              "      <td>ID</td>\n",
              "      <td>Boise</td>\n",
              "      <td>2011-03-30</td>\n",
              "      <td>2011-03-23</td>\n",
              "      <td>Air Filter</td>\n",
              "      <td>pCi/m3</td>\n",
              "      <td>I-132</td>\n",
              "      <td>NaN</td>\n",
              "    </tr>\n",
              "    <tr>\n",
              "      <th>2</th>\n",
              "      <td>AK</td>\n",
              "      <td>Juneau</td>\n",
              "      <td>2011-03-30</td>\n",
              "      <td>2011-03-23</td>\n",
              "      <td>Air Filter</td>\n",
              "      <td>pCi/m3</td>\n",
              "      <td>I-132</td>\n",
              "      <td>NaN</td>\n",
              "    </tr>\n",
              "    <tr>\n",
              "      <th>3</th>\n",
              "      <td>AK</td>\n",
              "      <td>Nome</td>\n",
              "      <td>2011-03-30</td>\n",
              "      <td>2011-03-22</td>\n",
              "      <td>Air Filter</td>\n",
              "      <td>pCi/m3</td>\n",
              "      <td>I-132</td>\n",
              "      <td>NaN</td>\n",
              "    </tr>\n",
              "    <tr>\n",
              "      <th>4</th>\n",
              "      <td>AK</td>\n",
              "      <td>Nome</td>\n",
              "      <td>2011-03-30</td>\n",
              "      <td>2011-03-23</td>\n",
              "      <td>Air Filter</td>\n",
              "      <td>pCi/m3</td>\n",
              "      <td>I-132</td>\n",
              "      <td>NaN</td>\n",
              "    </tr>\n",
              "  </tbody>\n",
              "</table>\n",
              "</div>"
            ],
            "text/plain": [
              "  State Location Date Posted Date Collected Sample Type    Unit variable  \\\n",
              "0    ID    Boise  2011-03-30     2011-03-23  Air Filter  pCi/m3    I-132   \n",
              "1    ID    Boise  2011-03-30     2011-03-23  Air Filter  pCi/m3    I-132   \n",
              "2    AK   Juneau  2011-03-30     2011-03-23  Air Filter  pCi/m3    I-132   \n",
              "3    AK     Nome  2011-03-30     2011-03-22  Air Filter  pCi/m3    I-132   \n",
              "4    AK     Nome  2011-03-30     2011-03-23  Air Filter  pCi/m3    I-132   \n",
              "\n",
              "   concentration  \n",
              "0            NaN  \n",
              "1            NaN  \n",
              "2            NaN  \n",
              "3            NaN  \n",
              "4            NaN  "
            ]
          },
          "metadata": {
            "tags": []
          },
          "execution_count": 100
        }
      ]
    },
    {
      "metadata": {
        "id": "pd2OVgn3mOvi",
        "colab_type": "code",
        "colab": {
          "base_uri": "https://localhost:8080/",
          "height": 143
        },
        "outputId": "3698319e-2365-46d0-92f3-121297e185a2"
      },
      "cell_type": "code",
      "source": [
        "df_m.groupby('Unit').mean()"
      ],
      "execution_count": 103,
      "outputs": [
        {
          "output_type": "execute_result",
          "data": {
            "text/html": [
              "<div>\n",
              "<style scoped>\n",
              "    .dataframe tbody tr th:only-of-type {\n",
              "        vertical-align: middle;\n",
              "    }\n",
              "\n",
              "    .dataframe tbody tr th {\n",
              "        vertical-align: top;\n",
              "    }\n",
              "\n",
              "    .dataframe thead th {\n",
              "        text-align: right;\n",
              "    }\n",
              "</style>\n",
              "<table border=\"1\" class=\"dataframe\">\n",
              "  <thead>\n",
              "    <tr style=\"text-align: right;\">\n",
              "      <th></th>\n",
              "      <th>concentration</th>\n",
              "    </tr>\n",
              "    <tr>\n",
              "      <th>Unit</th>\n",
              "      <th></th>\n",
              "    </tr>\n",
              "  </thead>\n",
              "  <tbody>\n",
              "    <tr>\n",
              "      <th>pCi/l</th>\n",
              "      <td>21.930000</td>\n",
              "    </tr>\n",
              "    <tr>\n",
              "      <th>pCi/m3</th>\n",
              "      <td>0.173123</td>\n",
              "    </tr>\n",
              "  </tbody>\n",
              "</table>\n",
              "</div>"
            ],
            "text/plain": [
              "        concentration\n",
              "Unit                 \n",
              "pCi/l       21.930000\n",
              "pCi/m3       0.173123"
            ]
          },
          "metadata": {
            "tags": []
          },
          "execution_count": 103
        }
      ]
    },
    {
      "metadata": {
        "id": "tAVQjMgTnNs-",
        "colab_type": "code",
        "colab": {
          "base_uri": "https://localhost:8080/",
          "height": 409
        },
        "outputId": "f739871a-dce3-465c-ffff-5fa15525b864"
      },
      "cell_type": "code",
      "source": [
        "fig, ax = plt.subplots()\n",
        "ax.set_yscale('log')\n",
        "df_m.boxplot(by=['Sample Type', 'Unit'], column=['concentration'], ax=ax)"
      ],
      "execution_count": 136,
      "outputs": [
        {
          "output_type": "execute_result",
          "data": {
            "text/plain": [
              "<matplotlib.axes._subplots.AxesSubplot at 0x7f7dca5e49e8>"
            ]
          },
          "metadata": {
            "tags": []
          },
          "execution_count": 136
        },
        {
          "output_type": "display_data",
          "data": {
            "image/png": "[encoded data removed]",
            "text/plain": [
              "<matplotlib.figure.Figure at 0x7f7dc591acc0>"
            ]
          },
          "metadata": {
            "tags": []
          }
        }
      ]
    },
    {
      "metadata": {
        "id": "sQnxKTzSnvEG",
        "colab_type": "code",
        "colab": {
          "base_uri": "https://localhost:8080/",
          "height": 439
        },
        "outputId": "55b8d538-2f3a-4371-cf12-6ea70a34de9b"
      },
      "cell_type": "code",
      "source": [
        "fig, ax = plt.subplots()\n",
        "ax.set_yscale('log')\n",
        "sns.boxplot(x='Sample Type', y='concentration', hue='Unit', data=df_m)"
      ],
      "execution_count": 143,
      "outputs": [
        {
          "output_type": "stream",
          "text": [
            "/usr/local/lib/python3.6/dist-packages/seaborn/categorical.py:482: FutureWarning: remove_na is deprecated and is a private function. Do not use.\n",
            "  box_data = remove_na(group_data[hue_mask])\n"
          ],
          "name": "stderr"
        },
        {
          "output_type": "display_data",
          "data": {
            "image/png": "[encoded data removed]",
            "text/plain": [
              "<matplotlib.figure.Figure at 0x7f7dc9e56c88>"
            ]
          },
          "metadata": {
            "tags": []
          }
        }
      ]
    },
    {
      "metadata": {
        "id": "ef7-xLX8qIvj",
        "colab_type": "code",
        "colab": {}
      },
      "cell_type": "code",
      "source": [
        ""
      ],
      "execution_count": 0,
      "outputs": []
    }
  ]
}