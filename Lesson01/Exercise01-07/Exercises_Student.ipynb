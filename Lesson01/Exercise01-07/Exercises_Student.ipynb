{
 "cells": [
  {
   "cell_type": "markdown",
   "metadata": {
    "colab_type": "text",
    "id": "Yo84El62RTNc"
   },
   "source": [
    "# Exercises  - Student\n"
   ]
  },
  {
   "cell_type": "code",
   "execution_count": null,
   "metadata": {
    "colab": {},
    "colab_type": "code",
    "id": "ZPcBaKC3RPNy"
   },
   "outputs": [],
   "source": [
    "import pandas as pd"
   ]
  },
  {
   "cell_type": "markdown",
   "metadata": {
    "colab_type": "text",
    "id": "K_eajNXnt7Sy"
   },
   "source": [
    "## Exercise 1\n",
    "\n",
    "Import the following libraries:\n",
    "- numpy\n",
    "- matplotlib"
   ]
  },
  {
   "cell_type": "markdown",
   "metadata": {
    "colab_type": "text",
    "id": "QDyE4i4QtoyU"
   },
   "source": [
    "## Exercise 2\n",
    "Given the column names and the CSV URL, read into a dataframe using read_csv."
   ]
  },
  {
   "cell_type": "markdown",
   "metadata": {
    "colab_type": "text",
    "id": "7fzncC1ft206"
   },
   "source": [
    "## Exercise 4 \n",
    "\n",
    "Fix the data type for \n",
    "- length, \n",
    "- width, \n",
    "- height, \n",
    "- curb-weight,\n",
    "- engine-size, \n",
    "- bore, \n",
    "- stroke, \n",
    "- compression-ratio, \n",
    "- horsepower, \n",
    "- peak-rpm, \n",
    "- city-mpg, \n",
    "- highway-mpg and \n",
    "- price\n",
    "\n",
    "Replace any invalid value applying a function over the dataframe.\n"
   ]
  },
  {
   "cell_type": "markdown",
   "metadata": {
    "colab_type": "text",
    "id": "97TPGeOKwzP6"
   },
   "source": [
    "## Exercise 5\n",
    "\n",
    "Calculate the average horsepower for sedans."
   ]
  },
  {
   "cell_type": "markdown",
   "metadata": {
    "colab_type": "text",
    "id": "Kn4vpPjMwxSJ"
   },
   "source": [
    "## Exercise 6\n",
    "\n",
    "Group by body-style and calculate the min, the max and the average of city-mpg and highway-mpg."
   ]
  },
  {
   "cell_type": "markdown",
   "metadata": {
    "colab_type": "text",
    "id": "1hQPK6hhxiJH"
   },
   "source": [
    "## Exercise 7\n",
    "\n",
    "Plot a scatter plot of engine-size versus price."
   ]
  }
 ],
 "metadata": {
  "colab": {
   "name": "Exercises - Instructor.ipynb",
   "provenance": [],
   "version": "0.3.2"
  },
  "kernelspec": {
   "display_name": "Python 3",
   "language": "python",
   "name": "python3"
  },
  "language_info": {
   "codemirror_mode": {
    "name": "ipython",
    "version": 3
   },
   "file_extension": ".py",
   "mimetype": "text/x-python",
   "name": "python",
   "nbconvert_exporter": "python",
   "pygments_lexer": "ipython3",
   "version": "3.6.6"
  }
 },
 "nbformat": 4,
 "nbformat_minor": 2
}
