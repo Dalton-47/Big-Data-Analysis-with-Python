{
  "nbformat": 4,
  "nbformat_minor": 0,
  "metadata": {
    "colab": {
      "name": "Exercise 1-7.ipynb",
      "version": "0.3.2",
      "provenance": []
    },
    "language_info": {
      "codemirror_mode": {
        "name": "ipython",
        "version": 3
      },
      "file_extension": ".py",
      "mimetype": "text/x-python",
      "name": "python",
      "nbconvert_exporter": "python",
      "pygments_lexer": "ipython3",
      "version": "3.7.0"
    },
    "kernelspec": {
      "display_name": "Python 3",
      "language": "python",
      "name": "python3"
    }
  },
  "cells": [
    {
      "cell_type": "code",
      "metadata": {
        "id": "RITTl1yKRMQu",
        "colab_type": "code",
        "colab": {},
        "outputId": "bf291b72-6983-466e-a956-03516fe43133"
      },
      "source": [
        "import numpy as np\n",
        "vec = np.random.randint(0, 100, size=5)\n",
        "print(vec)\n"
      ],
      "execution_count": 0,
      "outputs": [
        {
          "output_type": "stream",
          "text": [
            "C:\\Users\\steffim\\AppData\\Local\\Continuum\\anaconda3\\lib\\site-packages\\ipykernel\\parentpoller.py:116: UserWarning: Parent poll failed.  If the frontend dies,\n",
            "                the kernel may be left running.  Please let us know\n",
            "                about your system (bitness, Python, etc.) at\n",
            "                ipython-dev@scipy.org\n",
            "  ipython-dev@scipy.org\"\"\")\n"
          ],
          "name": "stderr"
        },
        {
          "output_type": "stream",
          "text": [
            "[82 64 87 96 53]\n"
          ],
          "name": "stdout"
        }
      ]
    },
    {
      "cell_type": "code",
      "metadata": {
        "id": "omHChmR5RMQ0",
        "colab_type": "code",
        "colab": {}
      },
      "source": [
        "for j in np.arange(1, vec.size):\n",
        "    v = vec[j]\n",
        "    i = j\n",
        "    while i > 0 and vec[i-1] > v:\n",
        "        vec[i] = vec[i-1]\n",
        "        i = i - 1\n",
        "    vec[i] = v\n"
      ],
      "execution_count": 0,
      "outputs": []
    },
    {
      "cell_type": "markdown",
      "metadata": {
        "id": "-0E0Ad67RMQ2",
        "colab_type": "text"
      },
      "source": [
        "Exercise 2"
      ]
    },
    {
      "cell_type": "code",
      "metadata": {
        "id": "APdnuBdsRMQ3",
        "colab_type": "code",
        "colab": {},
        "outputId": "66956626-c957-4ab2-ac6b-cb190fab9144"
      },
      "source": [
        "x = 2\n",
        "print(x*2)\n"
      ],
      "execution_count": 0,
      "outputs": [
        {
          "output_type": "stream",
          "text": [
            "4\n"
          ],
          "name": "stdout"
        }
      ]
    },
    {
      "cell_type": "code",
      "metadata": {
        "id": "dccIz_V2RMQ7",
        "colab_type": "code",
        "colab": {}
      },
      "source": [
        "def mean(a,b):\n",
        "       return (a+b)/2\n"
      ],
      "execution_count": 0,
      "outputs": []
    },
    {
      "cell_type": "code",
      "metadata": {
        "id": "We_aG-JYRMQ9",
        "colab_type": "code",
        "colab": {},
        "outputId": "42f70bec-8d3b-4adf-ceba-0d1e177b721e"
      },
      "source": [
        "mean(10,20)"
      ],
      "execution_count": 0,
      "outputs": [
        {
          "output_type": "execute_result",
          "data": {
            "text/plain": [
              "15.0"
            ]
          },
          "metadata": {
            "tags": []
          },
          "execution_count": 9
        }
      ]
    },
    {
      "cell_type": "code",
      "metadata": {
        "id": "RjUT4T_ARMRB",
        "colab_type": "code",
        "colab": {},
        "outputId": "22891d14-c908-41ee-fb6b-916fe694c5ea"
      },
      "source": [
        "import pandas as pd\n",
        "df = pd.read_csv(\"imports-85.csv\")\n",
        "df.head()\n"
      ],
      "execution_count": 0,
      "outputs": [
        {
          "output_type": "execute_result",
          "data": {
            "text/html": [
              "<div>\n",
              "<style scoped>\n",
              "    .dataframe tbody tr th:only-of-type {\n",
              "        vertical-align: middle;\n",
              "    }\n",
              "\n",
              "    .dataframe tbody tr th {\n",
              "        vertical-align: top;\n",
              "    }\n",
              "\n",
              "    .dataframe thead th {\n",
              "        text-align: right;\n",
              "    }\n",
              "</style>\n",
              "<table border=\"1\" class=\"dataframe\">\n",
              "  <thead>\n",
              "    <tr style=\"text-align: right;\">\n",
              "      <th></th>\n",
              "      <th>3</th>\n",
              "      <th>?</th>\n",
              "      <th>alfa-romero</th>\n",
              "      <th>gas</th>\n",
              "      <th>std</th>\n",
              "      <th>two</th>\n",
              "      <th>convertible</th>\n",
              "      <th>rwd</th>\n",
              "      <th>front</th>\n",
              "      <th>88.60</th>\n",
              "      <th>...</th>\n",
              "      <th>130</th>\n",
              "      <th>mpfi</th>\n",
              "      <th>3.47</th>\n",
              "      <th>2.68</th>\n",
              "      <th>9.00</th>\n",
              "      <th>111</th>\n",
              "      <th>5000</th>\n",
              "      <th>21</th>\n",
              "      <th>27</th>\n",
              "      <th>13495</th>\n",
              "    </tr>\n",
              "  </thead>\n",
              "  <tbody>\n",
              "    <tr>\n",
              "      <th>0</th>\n",
              "      <td>3</td>\n",
              "      <td>?</td>\n",
              "      <td>alfa-romero</td>\n",
              "      <td>gas</td>\n",
              "      <td>std</td>\n",
              "      <td>two</td>\n",
              "      <td>convertible</td>\n",
              "      <td>rwd</td>\n",
              "      <td>front</td>\n",
              "      <td>88.6</td>\n",
              "      <td>...</td>\n",
              "      <td>130</td>\n",
              "      <td>mpfi</td>\n",
              "      <td>3.47</td>\n",
              "      <td>2.68</td>\n",
              "      <td>9.0</td>\n",
              "      <td>111</td>\n",
              "      <td>5000</td>\n",
              "      <td>21</td>\n",
              "      <td>27</td>\n",
              "      <td>16500</td>\n",
              "    </tr>\n",
              "    <tr>\n",
              "      <th>1</th>\n",
              "      <td>1</td>\n",
              "      <td>?</td>\n",
              "      <td>alfa-romero</td>\n",
              "      <td>gas</td>\n",
              "      <td>std</td>\n",
              "      <td>two</td>\n",
              "      <td>hatchback</td>\n",
              "      <td>rwd</td>\n",
              "      <td>front</td>\n",
              "      <td>94.5</td>\n",
              "      <td>...</td>\n",
              "      <td>152</td>\n",
              "      <td>mpfi</td>\n",
              "      <td>2.68</td>\n",
              "      <td>3.47</td>\n",
              "      <td>9.0</td>\n",
              "      <td>154</td>\n",
              "      <td>5000</td>\n",
              "      <td>19</td>\n",
              "      <td>26</td>\n",
              "      <td>16500</td>\n",
              "    </tr>\n",
              "    <tr>\n",
              "      <th>2</th>\n",
              "      <td>2</td>\n",
              "      <td>164</td>\n",
              "      <td>audi</td>\n",
              "      <td>gas</td>\n",
              "      <td>std</td>\n",
              "      <td>four</td>\n",
              "      <td>sedan</td>\n",
              "      <td>fwd</td>\n",
              "      <td>front</td>\n",
              "      <td>99.8</td>\n",
              "      <td>...</td>\n",
              "      <td>109</td>\n",
              "      <td>mpfi</td>\n",
              "      <td>3.19</td>\n",
              "      <td>3.40</td>\n",
              "      <td>10.0</td>\n",
              "      <td>102</td>\n",
              "      <td>5500</td>\n",
              "      <td>24</td>\n",
              "      <td>30</td>\n",
              "      <td>13950</td>\n",
              "    </tr>\n",
              "    <tr>\n",
              "      <th>3</th>\n",
              "      <td>2</td>\n",
              "      <td>164</td>\n",
              "      <td>audi</td>\n",
              "      <td>gas</td>\n",
              "      <td>std</td>\n",
              "      <td>four</td>\n",
              "      <td>sedan</td>\n",
              "      <td>4wd</td>\n",
              "      <td>front</td>\n",
              "      <td>99.4</td>\n",
              "      <td>...</td>\n",
              "      <td>136</td>\n",
              "      <td>mpfi</td>\n",
              "      <td>3.19</td>\n",
              "      <td>3.40</td>\n",
              "      <td>8.0</td>\n",
              "      <td>115</td>\n",
              "      <td>5500</td>\n",
              "      <td>18</td>\n",
              "      <td>22</td>\n",
              "      <td>17450</td>\n",
              "    </tr>\n",
              "    <tr>\n",
              "      <th>4</th>\n",
              "      <td>2</td>\n",
              "      <td>?</td>\n",
              "      <td>audi</td>\n",
              "      <td>gas</td>\n",
              "      <td>std</td>\n",
              "      <td>two</td>\n",
              "      <td>sedan</td>\n",
              "      <td>fwd</td>\n",
              "      <td>front</td>\n",
              "      <td>99.8</td>\n",
              "      <td>...</td>\n",
              "      <td>136</td>\n",
              "      <td>mpfi</td>\n",
              "      <td>3.19</td>\n",
              "      <td>3.40</td>\n",
              "      <td>8.5</td>\n",
              "      <td>110</td>\n",
              "      <td>5500</td>\n",
              "      <td>19</td>\n",
              "      <td>25</td>\n",
              "      <td>15250</td>\n",
              "    </tr>\n",
              "  </tbody>\n",
              "</table>\n",
              "<p>5 rows × 26 columns</p>\n",
              "</div>"
            ],
            "text/plain": [
              "   3    ?  alfa-romero  gas  std   two  convertible  rwd  front  88.60  ...  \\\n",
              "0  3    ?  alfa-romero  gas  std   two  convertible  rwd  front   88.6  ...   \n",
              "1  1    ?  alfa-romero  gas  std   two    hatchback  rwd  front   94.5  ...   \n",
              "2  2  164         audi  gas  std  four        sedan  fwd  front   99.8  ...   \n",
              "3  2  164         audi  gas  std  four        sedan  4wd  front   99.4  ...   \n",
              "4  2    ?         audi  gas  std   two        sedan  fwd  front   99.8  ...   \n",
              "\n",
              "   130  mpfi  3.47  2.68  9.00  111  5000  21  27  13495  \n",
              "0  130  mpfi  3.47  2.68   9.0  111  5000  21  27  16500  \n",
              "1  152  mpfi  2.68  3.47   9.0  154  5000  19  26  16500  \n",
              "2  109  mpfi  3.19  3.40  10.0  102  5500  24  30  13950  \n",
              "3  136  mpfi  3.19  3.40   8.0  115  5500  18  22  17450  \n",
              "4  136  mpfi  3.19  3.40   8.5  110  5500  19  25  15250  \n",
              "\n",
              "[5 rows x 26 columns]"
            ]
          },
          "metadata": {
            "tags": []
          },
          "execution_count": 10
        }
      ]
    },
    {
      "cell_type": "markdown",
      "metadata": {
        "id": "er4qtAK3RMRE",
        "colab_type": "text"
      },
      "source": [
        "Exercise 5"
      ]
    },
    {
      "cell_type": "code",
      "metadata": {
        "id": "gtqVFzNORMRE",
        "colab_type": "code",
        "colab": {}
      },
      "source": [
        "import numpy as np\n",
        "import pandas as pd\n"
      ],
      "execution_count": 0,
      "outputs": []
    },
    {
      "cell_type": "code",
      "metadata": {
        "id": "fQCICJLuRMRH",
        "colab_type": "code",
        "colab": {}
      },
      "source": [
        "url = \"https://raw.githubusercontent.com/TrainingByPackt/Big-Data-Analysis-with-Python/master/Lesson01/RadNet_Laboratory_Analysis.csv\"\n",
        "df = pd.read_csv(url)\n"
      ],
      "execution_count": 0,
      "outputs": []
    },
    {
      "cell_type": "code",
      "metadata": {
        "id": "gZ7eqz4ORMRJ",
        "colab_type": "code",
        "colab": {},
        "outputId": "b8566992-96a2-4902-c17b-6feef4e9c30a"
      },
      "source": [
        "df['State'].head()"
      ],
      "execution_count": 0,
      "outputs": [
        {
          "output_type": "execute_result",
          "data": {
            "text/plain": [
              "0    ID\n",
              "1    ID\n",
              "2    AK\n",
              "3    AK\n",
              "4    AK\n",
              "Name: State, dtype: object"
            ]
          },
          "metadata": {
            "tags": []
          },
          "execution_count": 13
        }
      ]
    },
    {
      "cell_type": "code",
      "metadata": {
        "id": "pGLmBRi5RMRN",
        "colab_type": "code",
        "colab": {},
        "outputId": "a246b1e9-936c-41be-ce9c-694a3a8c9091"
      },
      "source": [
        "df[df.State == \"MN\"]"
      ],
      "execution_count": 0,
      "outputs": [
        {
          "output_type": "execute_result",
          "data": {
            "text/html": [
              "<div>\n",
              "<style scoped>\n",
              "    .dataframe tbody tr th:only-of-type {\n",
              "        vertical-align: middle;\n",
              "    }\n",
              "\n",
              "    .dataframe tbody tr th {\n",
              "        vertical-align: top;\n",
              "    }\n",
              "\n",
              "    .dataframe thead th {\n",
              "        text-align: right;\n",
              "    }\n",
              "</style>\n",
              "<table border=\"1\" class=\"dataframe\">\n",
              "  <thead>\n",
              "    <tr style=\"text-align: right;\">\n",
              "      <th></th>\n",
              "      <th>State</th>\n",
              "      <th>Location</th>\n",
              "      <th>Date Posted</th>\n",
              "      <th>Date Collected</th>\n",
              "      <th>Sample Type</th>\n",
              "      <th>Unit</th>\n",
              "      <th>Ba-140</th>\n",
              "      <th>Co-60</th>\n",
              "      <th>Cs-134</th>\n",
              "      <th>Cs-136</th>\n",
              "      <th>Cs-137</th>\n",
              "      <th>I-131</th>\n",
              "      <th>I-132</th>\n",
              "      <th>I-133</th>\n",
              "      <th>Te-129</th>\n",
              "      <th>Te-129m</th>\n",
              "      <th>Te-132</th>\n",
              "    </tr>\n",
              "  </thead>\n",
              "  <tbody>\n",
              "    <tr>\n",
              "      <th>367</th>\n",
              "      <td>MN</td>\n",
              "      <td>St. Paul</td>\n",
              "      <td>04/08/2011</td>\n",
              "      <td>03/28/2011</td>\n",
              "      <td>Drinking Water</td>\n",
              "      <td>pCi/l</td>\n",
              "      <td>Non-detect</td>\n",
              "      <td>Non-detect</td>\n",
              "      <td>Non-detect</td>\n",
              "      <td>Non-detect</td>\n",
              "      <td>Non-detect</td>\n",
              "      <td>Non-detect</td>\n",
              "      <td>Non-detect</td>\n",
              "      <td>Non-detect</td>\n",
              "      <td>Non-detect</td>\n",
              "      <td>Non-detect</td>\n",
              "      <td>Non-detect</td>\n",
              "    </tr>\n",
              "    <tr>\n",
              "      <th>368</th>\n",
              "      <td>MN</td>\n",
              "      <td>St. Paul</td>\n",
              "      <td>04/22/2011</td>\n",
              "      <td>04/13/2011</td>\n",
              "      <td>Drinking Water</td>\n",
              "      <td>pCi/l</td>\n",
              "      <td>Non-detect</td>\n",
              "      <td>Non-detect</td>\n",
              "      <td>Non-detect</td>\n",
              "      <td>Non-detect</td>\n",
              "      <td>Non-detect</td>\n",
              "      <td>0.16</td>\n",
              "      <td>Non-detect</td>\n",
              "      <td>Non-detect</td>\n",
              "      <td>Non-detect</td>\n",
              "      <td>Non-detect</td>\n",
              "      <td>Non-detect</td>\n",
              "    </tr>\n",
              "    <tr>\n",
              "      <th>380</th>\n",
              "      <td>MN</td>\n",
              "      <td>Welch</td>\n",
              "      <td>04/08/2011</td>\n",
              "      <td>03/29/2011</td>\n",
              "      <td>Drinking Water</td>\n",
              "      <td>pCi/l</td>\n",
              "      <td>Non-detect</td>\n",
              "      <td>Non-detect</td>\n",
              "      <td>Non-detect</td>\n",
              "      <td>Non-detect</td>\n",
              "      <td>Non-detect</td>\n",
              "      <td>Non-detect</td>\n",
              "      <td>Non-detect</td>\n",
              "      <td>Non-detect</td>\n",
              "      <td>Non-detect</td>\n",
              "      <td>Non-detect</td>\n",
              "      <td>Non-detect</td>\n",
              "    </tr>\n",
              "    <tr>\n",
              "      <th>381</th>\n",
              "      <td>MN</td>\n",
              "      <td>Welch</td>\n",
              "      <td>06/01/2011</td>\n",
              "      <td>04/14/2011</td>\n",
              "      <td>Drinking Water</td>\n",
              "      <td>pCi/l</td>\n",
              "      <td>Non-detect</td>\n",
              "      <td>Non-detect</td>\n",
              "      <td>Non-detect</td>\n",
              "      <td>Non-detect</td>\n",
              "      <td>Non-detect</td>\n",
              "      <td>Non-detect</td>\n",
              "      <td>Non-detect</td>\n",
              "      <td>Non-detect</td>\n",
              "      <td>Non-detect</td>\n",
              "      <td>Non-detect</td>\n",
              "      <td>Non-detect</td>\n",
              "    </tr>\n",
              "    <tr>\n",
              "      <th>555</th>\n",
              "      <td>MN</td>\n",
              "      <td>St. Paul</td>\n",
              "      <td>04/04/2011</td>\n",
              "      <td>03/22/2011</td>\n",
              "      <td>Precipitation</td>\n",
              "      <td>pCi/l</td>\n",
              "      <td>Non-detect</td>\n",
              "      <td>Non-detect</td>\n",
              "      <td>Non-detect</td>\n",
              "      <td>NaN</td>\n",
              "      <td>Non-detect</td>\n",
              "      <td>32.3</td>\n",
              "      <td>Non-detect</td>\n",
              "      <td>Non-detect</td>\n",
              "      <td>NaN</td>\n",
              "      <td>NaN</td>\n",
              "      <td>Non-detect</td>\n",
              "    </tr>\n",
              "    <tr>\n",
              "      <th>556</th>\n",
              "      <td>MN</td>\n",
              "      <td>St. Paul</td>\n",
              "      <td>04/10/2011</td>\n",
              "      <td>03/29/2011</td>\n",
              "      <td>Precipitation</td>\n",
              "      <td>pCi/l</td>\n",
              "      <td>Non-detect</td>\n",
              "      <td>Non-detect</td>\n",
              "      <td>Non-detect</td>\n",
              "      <td>Non-detect</td>\n",
              "      <td>Non-detect</td>\n",
              "      <td>16</td>\n",
              "      <td>Non-detect</td>\n",
              "      <td>Non-detect</td>\n",
              "      <td>Non-detect</td>\n",
              "      <td>Non-detect</td>\n",
              "      <td>Non-detect</td>\n",
              "    </tr>\n",
              "    <tr>\n",
              "      <th>557</th>\n",
              "      <td>MN</td>\n",
              "      <td>Welch</td>\n",
              "      <td>04/04/2011</td>\n",
              "      <td>03/17/2011</td>\n",
              "      <td>Precipitation</td>\n",
              "      <td>pCi/l</td>\n",
              "      <td>Non-detect</td>\n",
              "      <td>Non-detect</td>\n",
              "      <td>Non-detect</td>\n",
              "      <td>NaN</td>\n",
              "      <td>Non-detect</td>\n",
              "      <td>Non-detect</td>\n",
              "      <td>Non-detect</td>\n",
              "      <td>Non-detect</td>\n",
              "      <td>NaN</td>\n",
              "      <td>NaN</td>\n",
              "      <td>Non-detect</td>\n",
              "    </tr>\n",
              "    <tr>\n",
              "      <th>558</th>\n",
              "      <td>MN</td>\n",
              "      <td>Welch/510</td>\n",
              "      <td>04/13/2011</td>\n",
              "      <td>04/04/2011</td>\n",
              "      <td>Precipitation</td>\n",
              "      <td>pCi/l</td>\n",
              "      <td>Non-detect</td>\n",
              "      <td>Non-detect</td>\n",
              "      <td>Non-detect</td>\n",
              "      <td>Non-detect</td>\n",
              "      <td>Non-detect</td>\n",
              "      <td>9.1</td>\n",
              "      <td>Non-detect</td>\n",
              "      <td>Non-detect</td>\n",
              "      <td>Non-detect</td>\n",
              "      <td>Non-detect</td>\n",
              "      <td>Non-detect</td>\n",
              "    </tr>\n",
              "  </tbody>\n",
              "</table>\n",
              "</div>"
            ],
            "text/plain": [
              "    State   Location Date Posted Date Collected     Sample Type   Unit  \\\n",
              "367    MN   St. Paul  04/08/2011     03/28/2011  Drinking Water  pCi/l   \n",
              "368    MN   St. Paul  04/22/2011     04/13/2011  Drinking Water  pCi/l   \n",
              "380    MN      Welch  04/08/2011     03/29/2011  Drinking Water  pCi/l   \n",
              "381    MN      Welch  06/01/2011     04/14/2011  Drinking Water  pCi/l   \n",
              "555    MN   St. Paul  04/04/2011     03/22/2011   Precipitation  pCi/l   \n",
              "556    MN   St. Paul  04/10/2011     03/29/2011   Precipitation  pCi/l   \n",
              "557    MN      Welch  04/04/2011     03/17/2011   Precipitation  pCi/l   \n",
              "558    MN  Welch/510  04/13/2011     04/04/2011   Precipitation  pCi/l   \n",
              "\n",
              "         Ba-140       Co-60      Cs-134      Cs-136      Cs-137       I-131  \\\n",
              "367  Non-detect  Non-detect  Non-detect  Non-detect  Non-detect  Non-detect   \n",
              "368  Non-detect  Non-detect  Non-detect  Non-detect  Non-detect        0.16   \n",
              "380  Non-detect  Non-detect  Non-detect  Non-detect  Non-detect  Non-detect   \n",
              "381  Non-detect  Non-detect  Non-detect  Non-detect  Non-detect  Non-detect   \n",
              "555  Non-detect  Non-detect  Non-detect         NaN  Non-detect        32.3   \n",
              "556  Non-detect  Non-detect  Non-detect  Non-detect  Non-detect          16   \n",
              "557  Non-detect  Non-detect  Non-detect         NaN  Non-detect  Non-detect   \n",
              "558  Non-detect  Non-detect  Non-detect  Non-detect  Non-detect         9.1   \n",
              "\n",
              "          I-132       I-133      Te-129     Te-129m      Te-132  \n",
              "367  Non-detect  Non-detect  Non-detect  Non-detect  Non-detect  \n",
              "368  Non-detect  Non-detect  Non-detect  Non-detect  Non-detect  \n",
              "380  Non-detect  Non-detect  Non-detect  Non-detect  Non-detect  \n",
              "381  Non-detect  Non-detect  Non-detect  Non-detect  Non-detect  \n",
              "555  Non-detect  Non-detect         NaN         NaN  Non-detect  \n",
              "556  Non-detect  Non-detect  Non-detect  Non-detect  Non-detect  \n",
              "557  Non-detect  Non-detect         NaN         NaN  Non-detect  \n",
              "558  Non-detect  Non-detect  Non-detect  Non-detect  Non-detect  "
            ]
          },
          "metadata": {
            "tags": []
          },
          "execution_count": 14
        }
      ]
    },
    {
      "cell_type": "code",
      "metadata": {
        "id": "f43sIPd8RMRQ",
        "colab_type": "code",
        "colab": {},
        "outputId": "45b45044-0a2c-4186-c7e9-af661044b0fb"
      },
      "source": [
        "df[(df.State == 'CA') & (df['Sample Type'] == 'Drinking Water')]"
      ],
      "execution_count": 0,
      "outputs": [
        {
          "output_type": "execute_result",
          "data": {
            "text/html": [
              "<div>\n",
              "<style scoped>\n",
              "    .dataframe tbody tr th:only-of-type {\n",
              "        vertical-align: middle;\n",
              "    }\n",
              "\n",
              "    .dataframe tbody tr th {\n",
              "        vertical-align: top;\n",
              "    }\n",
              "\n",
              "    .dataframe thead th {\n",
              "        text-align: right;\n",
              "    }\n",
              "</style>\n",
              "<table border=\"1\" class=\"dataframe\">\n",
              "  <thead>\n",
              "    <tr style=\"text-align: right;\">\n",
              "      <th></th>\n",
              "      <th>State</th>\n",
              "      <th>Location</th>\n",
              "      <th>Date Posted</th>\n",
              "      <th>Date Collected</th>\n",
              "      <th>Sample Type</th>\n",
              "      <th>Unit</th>\n",
              "      <th>Ba-140</th>\n",
              "      <th>Co-60</th>\n",
              "      <th>Cs-134</th>\n",
              "      <th>Cs-136</th>\n",
              "      <th>Cs-137</th>\n",
              "      <th>I-131</th>\n",
              "      <th>I-132</th>\n",
              "      <th>I-133</th>\n",
              "      <th>Te-129</th>\n",
              "      <th>Te-129m</th>\n",
              "      <th>Te-132</th>\n",
              "    </tr>\n",
              "  </thead>\n",
              "  <tbody>\n",
              "    <tr>\n",
              "      <th>305</th>\n",
              "      <td>CA</td>\n",
              "      <td>Los Angeles</td>\n",
              "      <td>04/10/2011</td>\n",
              "      <td>04/04/2011</td>\n",
              "      <td>Drinking Water</td>\n",
              "      <td>pCi/l</td>\n",
              "      <td>Non-detect</td>\n",
              "      <td>Non-detect</td>\n",
              "      <td>Non-detect</td>\n",
              "      <td>Non-detect</td>\n",
              "      <td>Non-detect</td>\n",
              "      <td>0.39</td>\n",
              "      <td>Non-detect</td>\n",
              "      <td>Non-detect</td>\n",
              "      <td>Non-detect</td>\n",
              "      <td>Non-detect</td>\n",
              "      <td>Non-detect</td>\n",
              "    </tr>\n",
              "    <tr>\n",
              "      <th>306</th>\n",
              "      <td>CA</td>\n",
              "      <td>Los Angeles</td>\n",
              "      <td>06/01/2011</td>\n",
              "      <td>04/12/2011</td>\n",
              "      <td>Drinking Water</td>\n",
              "      <td>pCi/l</td>\n",
              "      <td>Non-detect</td>\n",
              "      <td>Non-detect</td>\n",
              "      <td>Non-detect</td>\n",
              "      <td>Non-detect</td>\n",
              "      <td>Non-detect</td>\n",
              "      <td>0.18</td>\n",
              "      <td>Non-detect</td>\n",
              "      <td>Non-detect</td>\n",
              "      <td>Non-detect</td>\n",
              "      <td>Non-detect</td>\n",
              "      <td>Non-detect</td>\n",
              "    </tr>\n",
              "    <tr>\n",
              "      <th>356</th>\n",
              "      <td>CA</td>\n",
              "      <td>Richmond</td>\n",
              "      <td>04/09/2011</td>\n",
              "      <td>03/29/2011</td>\n",
              "      <td>Drinking Water</td>\n",
              "      <td>pCi/l</td>\n",
              "      <td>Non-detect</td>\n",
              "      <td>Non-detect</td>\n",
              "      <td>Non-detect</td>\n",
              "      <td>Non-detect</td>\n",
              "      <td>Non-detect</td>\n",
              "      <td>Non-detect</td>\n",
              "      <td>Non-detect</td>\n",
              "      <td>Non-detect</td>\n",
              "      <td>Non-detect</td>\n",
              "      <td>Non-detect</td>\n",
              "      <td>Non-detect</td>\n",
              "    </tr>\n",
              "    <tr>\n",
              "      <th>357</th>\n",
              "      <td>CA</td>\n",
              "      <td>Richmond</td>\n",
              "      <td>06/01/2011</td>\n",
              "      <td>04/13/2011</td>\n",
              "      <td>Drinking Water</td>\n",
              "      <td>pCi/l</td>\n",
              "      <td>Non-detect</td>\n",
              "      <td>Non-detect</td>\n",
              "      <td>Non-detect</td>\n",
              "      <td>Non-detect</td>\n",
              "      <td>Non-detect</td>\n",
              "      <td>Non-detect</td>\n",
              "      <td>Non-detect</td>\n",
              "      <td>Non-detect</td>\n",
              "      <td>Non-detect</td>\n",
              "      <td>Non-detect</td>\n",
              "      <td>Non-detect</td>\n",
              "    </tr>\n",
              "  </tbody>\n",
              "</table>\n",
              "</div>"
            ],
            "text/plain": [
              "    State      Location Date Posted Date Collected     Sample Type   Unit  \\\n",
              "305    CA   Los Angeles  04/10/2011     04/04/2011  Drinking Water  pCi/l   \n",
              "306    CA  Los Angeles   06/01/2011     04/12/2011  Drinking Water  pCi/l   \n",
              "356    CA      Richmond  04/09/2011     03/29/2011  Drinking Water  pCi/l   \n",
              "357    CA      Richmond  06/01/2011     04/13/2011  Drinking Water  pCi/l   \n",
              "\n",
              "         Ba-140       Co-60      Cs-134      Cs-136      Cs-137       I-131  \\\n",
              "305  Non-detect  Non-detect  Non-detect  Non-detect  Non-detect        0.39   \n",
              "306  Non-detect  Non-detect  Non-detect  Non-detect  Non-detect        0.18   \n",
              "356  Non-detect  Non-detect  Non-detect  Non-detect  Non-detect  Non-detect   \n",
              "357  Non-detect  Non-detect  Non-detect  Non-detect  Non-detect  Non-detect   \n",
              "\n",
              "          I-132       I-133      Te-129     Te-129m      Te-132  \n",
              "305  Non-detect  Non-detect  Non-detect  Non-detect  Non-detect  \n",
              "306  Non-detect  Non-detect  Non-detect  Non-detect  Non-detect  \n",
              "356  Non-detect  Non-detect  Non-detect  Non-detect  Non-detect  \n",
              "357  Non-detect  Non-detect  Non-detect  Non-detect  Non-detect  "
            ]
          },
          "metadata": {
            "tags": []
          },
          "execution_count": 15
        }
      ]
    },
    {
      "cell_type": "code",
      "metadata": {
        "id": "2SCFISQ7RMRT",
        "colab_type": "code",
        "colab": {},
        "outputId": "f5d9a960-8e23-4610-b35f-907f1c929dad"
      },
      "source": [
        "df[(df.State == \"MN\") ][\"I-131\"]"
      ],
      "execution_count": 0,
      "outputs": [
        {
          "output_type": "execute_result",
          "data": {
            "text/plain": [
              "367    Non-detect\n",
              "368          0.16\n",
              "380    Non-detect\n",
              "381    Non-detect\n",
              "555          32.3\n",
              "556            16\n",
              "557    Non-detect\n",
              "558           9.1\n",
              "Name: I-131, dtype: object"
            ]
          },
          "metadata": {
            "tags": []
          },
          "execution_count": 16
        }
      ]
    },
    {
      "cell_type": "code",
      "metadata": {
        "id": "NyLbvGT9RMRV",
        "colab_type": "code",
        "colab": {},
        "outputId": "b1fbf013-2161-441b-dd81-b34d93cf47d5"
      },
      "source": [
        "df.loc[df.State == \"MN\", \"I-131\"]\n",
        "df[['I-132']].head()\n"
      ],
      "execution_count": 0,
      "outputs": [
        {
          "output_type": "execute_result",
          "data": {
            "text/html": [
              "<div>\n",
              "<style scoped>\n",
              "    .dataframe tbody tr th:only-of-type {\n",
              "        vertical-align: middle;\n",
              "    }\n",
              "\n",
              "    .dataframe tbody tr th {\n",
              "        vertical-align: top;\n",
              "    }\n",
              "\n",
              "    .dataframe thead th {\n",
              "        text-align: right;\n",
              "    }\n",
              "</style>\n",
              "<table border=\"1\" class=\"dataframe\">\n",
              "  <thead>\n",
              "    <tr style=\"text-align: right;\">\n",
              "      <th></th>\n",
              "      <th>I-132</th>\n",
              "    </tr>\n",
              "  </thead>\n",
              "  <tbody>\n",
              "    <tr>\n",
              "      <th>0</th>\n",
              "      <td>Non-detect</td>\n",
              "    </tr>\n",
              "    <tr>\n",
              "      <th>1</th>\n",
              "      <td>Non-detect</td>\n",
              "    </tr>\n",
              "    <tr>\n",
              "      <th>2</th>\n",
              "      <td>Non-detect</td>\n",
              "    </tr>\n",
              "    <tr>\n",
              "      <th>3</th>\n",
              "      <td>Non-detect</td>\n",
              "    </tr>\n",
              "    <tr>\n",
              "      <th>4</th>\n",
              "      <td>Non-detect</td>\n",
              "    </tr>\n",
              "  </tbody>\n",
              "</table>\n",
              "</div>"
            ],
            "text/plain": [
              "        I-132\n",
              "0  Non-detect\n",
              "1  Non-detect\n",
              "2  Non-detect\n",
              "3  Non-detect\n",
              "4  Non-detect"
            ]
          },
          "metadata": {
            "tags": []
          },
          "execution_count": 17
        }
      ]
    },
    {
      "cell_type": "markdown",
      "metadata": {
        "id": "asGzh2piRMRZ",
        "colab_type": "text"
      },
      "source": [
        "Exercise 6"
      ]
    },
    {
      "cell_type": "code",
      "metadata": {
        "id": "UVeJW4q1RMRa",
        "colab_type": "code",
        "colab": {}
      },
      "source": [
        "import numpy as np\n",
        "import pandas as pd\n",
        "import matplotlib.pyplot as plt\n",
        "import seaborn as sns\n"
      ],
      "execution_count": 0,
      "outputs": []
    },
    {
      "cell_type": "code",
      "metadata": {
        "id": "2CN5CSH5RMRd",
        "colab_type": "code",
        "colab": {}
      },
      "source": [
        "url = \"https://raw.githubusercontent.com/TrainingByPackt/Big-Data-Analysis-with-Python/master/Lesson01/RadNet_Laboratory_Analysis.csv\"\n",
        "df = pd.read_csv(url)\n"
      ],
      "execution_count": 0,
      "outputs": []
    },
    {
      "cell_type": "code",
      "metadata": {
        "id": "2mnQfvF5RMRg",
        "colab_type": "code",
        "colab": {},
        "outputId": "074d8def-e0d3-45a8-8934-332dd9739018"
      },
      "source": [
        "df.dtypes"
      ],
      "execution_count": 0,
      "outputs": [
        {
          "output_type": "execute_result",
          "data": {
            "text/plain": [
              "State             object\n",
              "Location          object\n",
              "Date Posted       object\n",
              "Date Collected    object\n",
              "Sample Type       object\n",
              "Unit              object\n",
              "Ba-140            object\n",
              "Co-60             object\n",
              "Cs-134            object\n",
              "Cs-136            object\n",
              "Cs-137            object\n",
              "I-131             object\n",
              "I-132             object\n",
              "I-133             object\n",
              "Te-129            object\n",
              "Te-129m           object\n",
              "Te-132            object\n",
              "dtype: object"
            ]
          },
          "metadata": {
            "tags": []
          },
          "execution_count": 20
        }
      ]
    },
    {
      "cell_type": "code",
      "metadata": {
        "id": "x8spXbSTRMRj",
        "colab_type": "code",
        "colab": {}
      },
      "source": [
        "df['Date Posted'] = pd.to_datetime(df['Date Posted'])\n",
        "df['Date Collected'] = pd.to_datetime(df['Date Collected'])\n"
      ],
      "execution_count": 0,
      "outputs": []
    },
    {
      "cell_type": "code",
      "metadata": {
        "id": "PiUDyfkfRMRm",
        "colab_type": "code",
        "colab": {},
        "outputId": "ed445f32-8770-4044-9d4f-30ac95ccba1a"
      },
      "source": [
        "columns = df.columns\n",
        "id_cols = ['State', 'Location', \"Date Posted\", 'Date Collected', 'Sample Type', 'Unit']\n",
        "columns = list(set(columns) - set(id_cols))\n",
        "columns\n"
      ],
      "execution_count": 0,
      "outputs": [
        {
          "output_type": "execute_result",
          "data": {
            "text/plain": [
              "['I-132',\n",
              " 'Cs-136',\n",
              " 'Cs-137',\n",
              " 'Te-129',\n",
              " 'Co-60',\n",
              " 'Cs-134',\n",
              " 'Ba-140',\n",
              " 'Te-129m',\n",
              " 'I-133',\n",
              " 'I-131',\n",
              " 'Te-132']"
            ]
          },
          "metadata": {
            "tags": []
          },
          "execution_count": 22
        }
      ]
    },
    {
      "cell_type": "code",
      "metadata": {
        "id": "w1lGm6ElRMRp",
        "colab_type": "code",
        "colab": {}
      },
      "source": [
        "df['Cs-134'] = df['Cs-134'].apply(lambda x: np.nan if x == \"Non-detect\" else x)\n",
        "df.loc[:, columns] = df.loc[:, columns].applymap(lambda x: np.nan if x == 'Non-detect' else x)\n",
        "df.loc[:, columns] = df.loc[:, columns].applymap(lambda x: np.nan if x == 'ND' else x)\n",
        "\n"
      ],
      "execution_count": 0,
      "outputs": []
    },
    {
      "cell_type": "code",
      "metadata": {
        "id": "sYPD58qqRMRs",
        "colab_type": "code",
        "colab": {}
      },
      "source": [
        "for col in columns:\n",
        "    df[col] = pd.to_numeric(df[col])\n"
      ],
      "execution_count": 0,
      "outputs": []
    },
    {
      "cell_type": "code",
      "metadata": {
        "id": "RPZo8FLiRMRu",
        "colab_type": "code",
        "colab": {},
        "outputId": "ef001f7d-1e9b-44ae-8f5a-831bda42d47a"
      },
      "source": [
        "df.dtypes"
      ],
      "execution_count": 0,
      "outputs": [
        {
          "output_type": "execute_result",
          "data": {
            "text/plain": [
              "State                     object\n",
              "Location                  object\n",
              "Date Posted       datetime64[ns]\n",
              "Date Collected    datetime64[ns]\n",
              "Sample Type               object\n",
              "Unit                      object\n",
              "Ba-140                   float64\n",
              "Co-60                    float64\n",
              "Cs-134                   float64\n",
              "Cs-136                   float64\n",
              "Cs-137                   float64\n",
              "I-131                    float64\n",
              "I-132                    float64\n",
              "I-133                    float64\n",
              "Te-129                   float64\n",
              "Te-129m                  float64\n",
              "Te-132                   float64\n",
              "dtype: object"
            ]
          },
          "metadata": {
            "tags": []
          },
          "execution_count": 25
        }
      ]
    },
    {
      "cell_type": "code",
      "metadata": {
        "id": "-e_cDJkORMRy",
        "colab_type": "code",
        "colab": {}
      },
      "source": [
        "df['State'] = df['State'].astype('category')\n",
        "df['Location'] = df['Location'].astype('category')\n",
        "df['Unit'] = df['Unit'].astype('category')\n",
        "df['Sample Type'] = df['Sample Type'].astype('category')\n"
      ],
      "execution_count": 0,
      "outputs": []
    },
    {
      "cell_type": "code",
      "metadata": {
        "id": "gkYp3ToRRMR0",
        "colab_type": "code",
        "colab": {},
        "outputId": "c0066f2f-eb95-4b9c-a489-06f026c039cb"
      },
      "source": [
        "df.dtypes"
      ],
      "execution_count": 0,
      "outputs": [
        {
          "output_type": "execute_result",
          "data": {
            "text/plain": [
              "State                   category\n",
              "Location                category\n",
              "Date Posted       datetime64[ns]\n",
              "Date Collected    datetime64[ns]\n",
              "Sample Type             category\n",
              "Unit                    category\n",
              "Ba-140                   float64\n",
              "Co-60                    float64\n",
              "Cs-134                   float64\n",
              "Cs-136                   float64\n",
              "Cs-137                   float64\n",
              "I-131                    float64\n",
              "I-132                    float64\n",
              "I-133                    float64\n",
              "Te-129                   float64\n",
              "Te-129m                  float64\n",
              "Te-132                   float64\n",
              "dtype: object"
            ]
          },
          "metadata": {
            "tags": []
          },
          "execution_count": 27
        }
      ]
    },
    {
      "cell_type": "markdown",
      "metadata": {
        "id": "91Hnzen5RMR3",
        "colab_type": "text"
      },
      "source": [
        "Exercise 7"
      ]
    },
    {
      "cell_type": "code",
      "metadata": {
        "id": "0KmhK0E5RMR3",
        "colab_type": "code",
        "colab": {}
      },
      "source": [
        "import numpy as np\n",
        "import pandas as pd\n",
        "\n",
        "url = \"https://raw.githubusercontent.com/TrainingByPackt/Big-Data-Analysis-with-Python/master/Lesson01/RadNet_Laboratory_Analysis.csv\"\n",
        "df = pd.read_csv(url)\n"
      ],
      "execution_count": 0,
      "outputs": []
    },
    {
      "cell_type": "code",
      "metadata": {
        "id": "vaeEhPCqRMR5",
        "colab_type": "code",
        "colab": {},
        "outputId": "9108bab1-a71e-4e5e-cee3-cf03cc324f21"
      },
      "source": [
        "columns = df.columns\n",
        "id_cols = ['State', 'Location', \"Date Posted\", 'Date Collected', 'Sample Type', 'Unit']\n",
        "columns = list(set(columns) - set(id_cols))\n",
        "columns\n"
      ],
      "execution_count": 0,
      "outputs": [
        {
          "output_type": "execute_result",
          "data": {
            "text/plain": [
              "['I-132',\n",
              " 'Cs-136',\n",
              " 'Cs-137',\n",
              " 'Te-129',\n",
              " 'Co-60',\n",
              " 'Cs-134',\n",
              " 'Ba-140',\n",
              " 'Te-129m',\n",
              " 'I-133',\n",
              " 'I-131',\n",
              " 'Te-132']"
            ]
          },
          "metadata": {
            "tags": []
          },
          "execution_count": 29
        }
      ]
    },
    {
      "cell_type": "code",
      "metadata": {
        "id": "kH7ZErfdRMR8",
        "colab_type": "code",
        "colab": {}
      },
      "source": [
        "df['Cs-134'] = df['Cs-134'].apply(lambda x: np.nan if x == \"Non-detect\" else x)\n",
        "df.loc[:, columns] = df.loc[:, columns].applymap(lambda x: np.nan if x == 'Non-detect' else x)\n",
        "df.loc[:, columns] = df.loc[:, columns].applymap(lambda x: np.nan if x == 'ND' else x)\n"
      ],
      "execution_count": 0,
      "outputs": []
    },
    {
      "cell_type": "code",
      "metadata": {
        "id": "TsbCqXxkRMR-",
        "colab_type": "code",
        "colab": {}
      },
      "source": [
        "df.loc[:, ['State', 'Location', 'Sample Type', 'Unit']] = df.loc[:, ['State', 'Location', 'Sample Type', 'Unit']].applymap(lambda x: x.strip())"
      ],
      "execution_count": 0,
      "outputs": []
    },
    {
      "cell_type": "code",
      "metadata": {
        "id": "lXIbJcdHRMSA",
        "colab_type": "code",
        "colab": {}
      },
      "source": [
        "df['Date Posted'] = pd.to_datetime(df['Date Posted'])\n",
        "df['Date Collected'] = pd.to_datetime(df['Date Collected'])\n"
      ],
      "execution_count": 0,
      "outputs": []
    },
    {
      "cell_type": "code",
      "metadata": {
        "id": "JC6LoR3cRMSD",
        "colab_type": "code",
        "colab": {}
      },
      "source": [
        "for col in columns:\n",
        "    df[col] = pd.to_numeric(df[col])\n"
      ],
      "execution_count": 0,
      "outputs": []
    },
    {
      "cell_type": "code",
      "metadata": {
        "id": "H96VH2tgRMSF",
        "colab_type": "code",
        "colab": {}
      },
      "source": [
        "df['State'] = df['State'].astype('category')\n",
        "df['Location'] = df['Location'].astype('category')\n",
        "df['Unit'] = df['Unit'].astype('category')\n",
        "df['Sample Type'] = df['Sample Type'].astype('category')\n"
      ],
      "execution_count": 0,
      "outputs": []
    },
    {
      "cell_type": "code",
      "metadata": {
        "id": "sWIh6zJyRMSJ",
        "colab_type": "code",
        "colab": {}
      },
      "source": [
        "df.to_csv('radiation_clean.csv', index=False, sep=';', encoding='utf-8')"
      ],
      "execution_count": 0,
      "outputs": []
    },
    {
      "cell_type": "code",
      "metadata": {
        "id": "gX586ohNRMSM",
        "colab_type": "code",
        "colab": {}
      },
      "source": [
        "df.to_parquet('radiation_clean.prq', index=False)"
      ],
      "execution_count": 0,
      "outputs": []
    },
    {
      "cell_type": "code",
      "metadata": {
        "id": "nwI0JUU0RMSP",
        "colab_type": "code",
        "colab": {}
      },
      "source": [
        ""
      ],
      "execution_count": 0,
      "outputs": []
    }
  ]
}