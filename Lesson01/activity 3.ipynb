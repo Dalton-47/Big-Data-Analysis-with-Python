{
  "nbformat": 4,
  "nbformat_minor": 0,
  "metadata": {
    "colab": {
      "name": "activity 3.ipynb",
      "version": "0.3.2",
      "provenance": []
    },
    "language_info": {
      "codemirror_mode": {
        "name": "ipython",
        "version": 3
      },
      "file_extension": ".py",
      "mimetype": "text/x-python",
      "name": "python",
      "nbconvert_exporter": "python",
      "pygments_lexer": "ipython3",
      "version": "3.7.0"
    },
    "kernelspec": {
      "display_name": "Python 3",
      "language": "python",
      "name": "python3"
    }
  },
  "cells": [
    {
      "cell_type": "code",
      "metadata": {
        "id": "8d55Q1sQmUCc",
        "colab_type": "code",
        "colab": {}
      },
      "source": [
        "import numpy as np\n",
        "import pandas as pd\n",
        "import matplotlib.pyplot as plt\n",
        "import seaborn as sns\n"
      ],
      "execution_count": 0,
      "outputs": []
    },
    {
      "cell_type": "code",
      "metadata": {
        "id": "aj-n0iSzmUCh",
        "colab_type": "code",
        "colab": {}
      },
      "source": [
        "url = \"https://raw.githubusercontent.com/TrainingByPackt/Big-Data-Analysis-with-Python/master/Lesson01/RadNet_Laboratory_Analysis.csv\"\n",
        "df = pd.read_csv(url)\n"
      ],
      "execution_count": 0,
      "outputs": []
    },
    {
      "cell_type": "code",
      "metadata": {
        "id": "A5LVUUVOmUCk",
        "colab_type": "code",
        "colab": {
          "base_uri": "https://localhost:8080/",
          "height": 3247
        },
        "outputId": "b4c9feb4-ae30-4185-9fb9-8f286710947c"
      },
      "source": [
        "df.groupby('State')\n",
        "df.head"
      ],
      "execution_count": 3,
      "outputs": [
        {
          "output_type": "execute_result",
          "data": {
            "text/plain": [
              "<bound method NDFrame.head of     State          Location Date Posted Date Collected     Sample Type  \\\n",
              "0      ID             Boise  03/30/2011     03/23/2011      Air Filter   \n",
              "1      ID             Boise  03/30/2011     03/23/2011      Air Filter   \n",
              "2      AK            Juneau  03/30/2011     03/23/2011      Air Filter   \n",
              "3      AK              Nome  03/30/2011     03/22/2011      Air Filter   \n",
              "4      AK              Nome  03/30/2011     03/23/2011      Air Filter   \n",
              "5      AK              Nome  03/30/2011     03/23/2011      Air Filter   \n",
              "6      AK              Nome  04-04-2011     03/24/2011      Air Filter   \n",
              "7      AK              Nome  04-04-2011     03/24/2011      Air Filter   \n",
              "8      HI              Oahu  03/30/2011     03/20/2011      Air Filter   \n",
              "9      HI              Oahu  03/30/2011     03/20/2011      Air Filter   \n",
              "10     HI              Oahu  03/30/2011     03/21/2011      Air Filter   \n",
              "11     HI              Oahu  04-04-2011     03/21/2011      Air Filter   \n",
              "12     HI              Oahu  03/30/2011     03/23/2011      Air Filter   \n",
              "13     CA           Anaheim  03/30/2011     03/20/2011   Air Cartridge   \n",
              "14     CA           Anaheim  03/30/2011     03/21/2011   Air Cartridge   \n",
              "15     HI              Oahu  03/30/2011     03/23/2011      Air Filter   \n",
              "16     CA           Anaheim  04-04-2011     03/25/2011      Air Filter   \n",
              "17     CA           Anaheim  03/30/2011     03/22/2011   Air Cartridge   \n",
              "18     AK              Nome  03/30/2011     03/22/2011   Air Cartridge   \n",
              "19     AK              Nome  03/30/2011     03/23/2011   Air Cartridge   \n",
              "20     HI              Oahu  03/30/2011     03/20/2011   Air Cartridge   \n",
              "21     HI              Oahu  03/30/2011     03/21/2011   Air Cartridge   \n",
              "22     HI              Oahu  03/30/2011     03/23/2011   Air Cartridge   \n",
              "23     CA    San Bernardino  03/30/2011     03/23/2011   Air Cartridge   \n",
              "24     CA           Anaheim  03/30/2011     03-11-2011      Air Filter   \n",
              "25     CA           Anaheim  03/30/2011     03/15/2011      Air Filter   \n",
              "26     CA           Anaheim  03/30/2011     03/18/2011      Air Filter   \n",
              "27     CA           Anaheim  03/30/2011     03/20/2011      Air Filter   \n",
              "28     CA           Anaheim  03/30/2011     03/20/2011      Air Filter   \n",
              "29     CA           Anaheim  03/30/2011     03/21/2011      Air Filter   \n",
              "..    ...               ...         ...            ...             ...   \n",
              "576    CO            Denver  05/24/2011     04/25/2011  Precipitation    \n",
              "577    PA        Harrisburg  05/24/2011     04/30/2011  Precipitation    \n",
              "578    CT          Hartford  04/26/2011     04/15/2011  Precipitation    \n",
              "579    CT          Hartford  04/26/2011     04/18/2011  Precipitation    \n",
              "580    HI          Honolulu  05/24/2011     04-04-2011  Precipitation    \n",
              "581    KS      Kansas City   04/25/2011     04/15/2011  Precipitation    \n",
              "582    TN         Knoxville  04/26/2011     04/19/2011  Precipitation    \n",
              "583    TN         Knoxville  05/24/2011     04/26/2011  Precipitation    \n",
              "584    TN         Knoxville  05/24/2011     04/29/2011  Precipitation    \n",
              "585    MI          Lansing   04/25/2011     04-11-2011  Precipitation    \n",
              "586    AR       Little Rock  05/24/2011     04/28/2011  Precipitation    \n",
              "587    AL    Montgomery/408  04/26/2011     04/18/2011  Precipitation    \n",
              "588    TN        Nashville   04/25/2011     04/14/2011  Precipitation    \n",
              "589    TN     Oak Ridge/K25  04/26/2011     04/18/2011  Precipitation    \n",
              "590    TN     Oak Ridge/K25  05/24/2011     04/28/2011  Precipitation    \n",
              "591    TN    Oak Ridge/K-25  04/25/2011     04/14/2011  Precipitation    \n",
              "592    TN  Oak Ridge/Melton  04/25/2011     04/14/2011  Precipitation    \n",
              "593    TN  Oak Ridge/Melton  04/26/2011     04/18/2011  Precipitation    \n",
              "594    TN  Oak Ridge/Melton  05/24/2011     04/28/2011  Precipitation    \n",
              "595    TN    Oak Ridge/Y12E  04/26/2011     04/18/2011  Precipitation    \n",
              "596    TN    Oak Ridge/Y12E  05/24/2011     04/28/2011  Precipitation    \n",
              "597    TN   Oak Ridge/Y-12E  04/25/2011     04/14/2011  Precipitation    \n",
              "598    WA           Olympia  04/25/2011     04/14/2011  Precipitation    \n",
              "599    OH       Painesville  05/24/2011     04/29/2011  Precipitation    \n",
              "600    OR          Portland  05/24/2011     04/20/2011  Precipitation    \n",
              "601    CA          Richmond  04/25/2011     04/14/2011  Precipitation    \n",
              "602    CA          Richmond  05/24/2011     04/28/2011  Precipitation    \n",
              "603    UT    Salt Lake City  05/24/2011     04/14/2011  Precipitation    \n",
              "604    UT    Salt Lake City  05/24/2011     04/28/2011  Precipitation    \n",
              "605    NY           Yaphank  05/24/2011     04/28/2011  Precipitation    \n",
              "\n",
              "       Unit  Ba-140  Co-60  Cs-134  Cs-136  Cs-137  I-131  I-132  I-133  \\\n",
              "0    pCi/m3     0.0    0.0       0     NaN       0      0      0    0.0   \n",
              "1    pCi/m3     0.0    0.0       0     NaN       0      0      0    0.0   \n",
              "2    pCi/m3     0.0    0.0       0     NaN       0      0      0    0.0   \n",
              "3    pCi/m3     0.0    0.0       0     NaN       0      0      0    0.0   \n",
              "4    pCi/m3     0.0    0.0       0     NaN       0      0      0    0.0   \n",
              "5    pCi/m3     0.0    0.0       0     NaN       0      0      0    0.0   \n",
              "6    pCi/m3     0.0    0.0       0     0.0       0      0      0    0.0   \n",
              "7    pCi/m3     0.0    0.0       0     0.0       0      0      0    0.0   \n",
              "8    pCi/m3     0.0    0.0       0     NaN       0      0      0    0.0   \n",
              "9    pCi/m3     0.0    0.0       0     NaN       0      0      0    0.0   \n",
              "10   pCi/m3     0.0    0.0       0     NaN       0      1      0    0.0   \n",
              "11   pCi/m3     0.0    0.0       0     0.0       0      1      0    0.0   \n",
              "12   pCi/m3     0.0    0.0       1     NaN       0      0      0    0.0   \n",
              "13   pCi/m3     0.0    0.0       0     NaN       0      1      0    0.0   \n",
              "14   pCi/m3     0.0    0.0       0     NaN       0      2      0    0.0   \n",
              "15   pCi/m3     0.0    0.0       0     NaN       0      0      0    0.0   \n",
              "16   pCi/m3     NaN    NaN       0     NaN       0      0      0    NaN   \n",
              "17   pCi/m3     0.0    0.0       0     NaN       0      1      0    0.0   \n",
              "18   pCi/m3     0.0    0.0       0     NaN       0      0      0    0.0   \n",
              "19   pCi/m3     0.0    0.0       0     NaN       0      1      0    0.0   \n",
              "20   pCi/m3     0.0    0.0       0     NaN       0      1      0    0.0   \n",
              "21   pCi/m3     0.0    0.0       0     NaN       0      1      0    0.0   \n",
              "22   pCi/m3     0.0    0.0       0     NaN       0      0      0    0.0   \n",
              "23   pCi/m3     0.0    0.0       0     NaN       0      0      0    0.0   \n",
              "24   pCi/m3     0.0    0.0       0     NaN       0      0      0    0.0   \n",
              "25   pCi/m3     0.0    0.0       0     NaN       0      0      0    0.0   \n",
              "26   pCi/m3     0.0    0.0       0     NaN       0      0      0    0.0   \n",
              "27   pCi/m3     0.0    0.0       0     NaN       0      0      0    0.0   \n",
              "28   pCi/m3     0.0    0.0       0     NaN       0      0      0    0.0   \n",
              "29   pCi/m3     0.0    0.0       0     NaN       0      0      0    0.0   \n",
              "..      ...     ...    ...     ...     ...     ...    ...    ...    ...   \n",
              "576   pCi/l     0.0    0.0       0     0.0       0      0      0    0.0   \n",
              "577   pCi/l     0.0    0.0       0     0.0       0      0      0    0.0   \n",
              "578   pCi/l     0.0    0.0       0     0.0       0      0      0    0.0   \n",
              "579   pCi/l     0.0    0.0       0     0.0       0      3      0    0.0   \n",
              "580   pCi/l     0.0    0.0       0     0.0       0      0      0    0.0   \n",
              "581   pCi/l     0.0    0.0       0     0.0       0      2      0    0.0   \n",
              "582   pCi/l     0.0    0.0       0     0.0       0      0      0    0.0   \n",
              "583   pCi/l     0.0    0.0       0     0.0       0      0      0    0.0   \n",
              "584   pCi/l     0.0    0.0       0     0.0       0      0      0    0.0   \n",
              "585   pCi/l     0.0    0.0       0     0.0       0      4      0    0.0   \n",
              "586   pCi/l     0.0    0.0       0     0.0       0      0      0    0.0   \n",
              "587   pCi/l     0.0    0.0       0     0.0       0      0      0    0.0   \n",
              "588   pCi/l     0.0    0.0       0     0.0       0      0      0    0.0   \n",
              "589   pCi/l     0.0    0.0       0     0.0       0      0      0    0.0   \n",
              "590   pCi/l     0.0    0.0       0     0.0       0      0      0    0.0   \n",
              "591   pCi/l     0.0    0.0       0     0.0       0      0      0    0.0   \n",
              "592   pCi/l     0.0    0.0       0     0.0       0      0      0    0.0   \n",
              "593   pCi/l     0.0    0.0       0     0.0       0      0      0    0.0   \n",
              "594   pCi/l     0.0    0.0       0     0.0       0      0      0    0.0   \n",
              "595   pCi/l     0.0    0.0       0     0.0       0      0      0    0.0   \n",
              "596   pCi/l     0.0    0.0       0     0.0       0      0      0    0.0   \n",
              "597   pCi/l     0.0    0.0       0     0.0       0      0      0    0.0   \n",
              "598   pCi/l     0.0    0.0       0     0.0       0      6      0    0.0   \n",
              "599   pCi/l     0.0    0.0       0     0.0       0      0      0    0.0   \n",
              "600   pCi/l     0.0    0.0       0     0.0       0      0      0    0.0   \n",
              "601   pCi/l     0.0    0.0       9     0.0       8      6      0    0.0   \n",
              "602   pCi/l     0.0    0.0       7     0.0       6      0      0    0.0   \n",
              "603   pCi/l     0.0    0.0       0     0.0       0      0      0    0.0   \n",
              "604   pCi/l     0.0    0.0       0     0.0       0      0      0    0.0   \n",
              "605   pCi/l     0.0    0.0       0     0.0       0      0      0    0.0   \n",
              "\n",
              "     Te-129  Te-129m  Te-132  Ba-140.1  \n",
              "0       NaN      NaN       0       NaN  \n",
              "1       NaN      NaN       0       NaN  \n",
              "2       NaN      NaN       0       NaN  \n",
              "3       NaN      NaN       0       NaN  \n",
              "4       NaN      NaN       0       NaN  \n",
              "5       NaN      NaN       0       NaN  \n",
              "6       0.0      0.0       0       NaN  \n",
              "7       0.0      0.0       0       NaN  \n",
              "8       NaN      NaN       0       NaN  \n",
              "9       NaN      NaN       0       NaN  \n",
              "10      NaN      NaN       0       NaN  \n",
              "11      0.0      0.0       0       NaN  \n",
              "12      NaN      NaN       0       NaN  \n",
              "13      NaN      NaN       0       NaN  \n",
              "14      NaN      NaN       0       NaN  \n",
              "15      NaN      NaN       0       NaN  \n",
              "16      NaN      NaN       0       NaN  \n",
              "17      NaN      NaN       0       NaN  \n",
              "18      NaN      NaN       0       NaN  \n",
              "19      NaN      NaN       0       NaN  \n",
              "20      NaN      NaN       0       NaN  \n",
              "21      NaN      NaN       0       NaN  \n",
              "22      NaN      NaN       0       NaN  \n",
              "23      NaN      NaN       0       NaN  \n",
              "24      NaN      NaN       0       NaN  \n",
              "25      NaN      NaN       0       NaN  \n",
              "26      NaN      NaN       0       NaN  \n",
              "27      NaN      NaN       0       NaN  \n",
              "28      NaN      NaN       0       NaN  \n",
              "29      NaN      NaN       0       NaN  \n",
              "..      ...      ...     ...       ...  \n",
              "576     0.0      0.0       0       NaN  \n",
              "577     0.0      0.0       0       NaN  \n",
              "578     0.0      0.0       0       NaN  \n",
              "579     0.0      0.0       0       NaN  \n",
              "580     0.0      0.0       0       NaN  \n",
              "581     0.0      0.0       0       NaN  \n",
              "582     0.0      0.0       0       NaN  \n",
              "583     0.0      0.0       0       NaN  \n",
              "584     0.0      0.0       0       NaN  \n",
              "585     0.0      0.0       0       NaN  \n",
              "586     0.0      0.0       0       NaN  \n",
              "587     0.0      0.0       0       NaN  \n",
              "588     0.0      0.0       0       NaN  \n",
              "589     0.0      0.0       0       NaN  \n",
              "590     0.0      0.0       0       NaN  \n",
              "591     0.0      0.0       0       NaN  \n",
              "592     0.0      0.0       0       NaN  \n",
              "593     0.0      0.0       0       NaN  \n",
              "594     0.0      0.0       0       NaN  \n",
              "595     0.0      0.0       0       NaN  \n",
              "596     0.0      0.0       0       NaN  \n",
              "597     0.0      0.0       0       NaN  \n",
              "598     0.0      0.0       0       NaN  \n",
              "599     0.0      0.0       0       NaN  \n",
              "600     0.0      0.0       0       NaN  \n",
              "601     0.0      0.0       0       NaN  \n",
              "602     0.0      0.0       0       NaN  \n",
              "603     0.0      0.0       0       NaN  \n",
              "604     0.0      0.0       0       NaN  \n",
              "605     0.0      0.0       0       NaN  \n",
              "\n",
              "[606 rows x 18 columns]>"
            ]
          },
          "metadata": {
            "tags": []
          },
          "execution_count": 3
        }
      ]
    },
    {
      "cell_type": "code",
      "metadata": {
        "scrolled": true,
        "id": "yGAFQp6rmUCn",
        "colab_type": "code",
        "colab": {
          "base_uri": "https://localhost:8080/",
          "height": 1071
        },
        "outputId": "52321edb-100a-4e8d-d340-c9830c9d1b0c"
      },
      "source": [
        "df.groupby('State')['Cs-134'].head()"
      ],
      "execution_count": 4,
      "outputs": [
        {
          "output_type": "execute_result",
          "data": {
            "text/plain": [
              "0      0\n",
              "1      0\n",
              "2      0\n",
              "3      0\n",
              "4      0\n",
              "5      0\n",
              "6      0\n",
              "8      0\n",
              "9      0\n",
              "10     0\n",
              "11     0\n",
              "12     1\n",
              "13     0\n",
              "14     0\n",
              "16     0\n",
              "17     0\n",
              "23     0\n",
              "33     0\n",
              "34     0\n",
              "35     0\n",
              "69     0\n",
              "71     0\n",
              "72     0\n",
              "73     0\n",
              "74     0\n",
              "84     0\n",
              "85     0\n",
              "86     0\n",
              "102    0\n",
              "117    0\n",
              "      ..\n",
              "424    0\n",
              "425    0\n",
              "430    0\n",
              "431    0\n",
              "435    0\n",
              "438    0\n",
              "445    0\n",
              "446    0\n",
              "447    0\n",
              "448    0\n",
              "449    0\n",
              "455    0\n",
              "460    0\n",
              "461    0\n",
              "462    0\n",
              "463    0\n",
              "464    0\n",
              "467    0\n",
              "468    0\n",
              "475    0\n",
              "481    0\n",
              "491    0\n",
              "500    0\n",
              "542    0\n",
              "550    0\n",
              "551    1\n",
              "552    0\n",
              "555    0\n",
              "574    0\n",
              "575    0\n",
              "Name: Cs-134, Length: 206, dtype: int64"
            ]
          },
          "metadata": {
            "tags": []
          },
          "execution_count": 4
        }
      ]
    },
    {
      "cell_type": "code",
      "metadata": {
        "id": "wy-_zzcNmUCp",
        "colab_type": "code",
        "colab": {
          "base_uri": "https://localhost:8080/",
          "height": 340
        },
        "outputId": "feb71e1a-5010-40a4-a30d-4ccac2cdd2df"
      },
      "source": [
        "df.groupby('State')\n",
        "df[df.apply(lambda x: x.isnumeric())]\n",
        "df.mean().head()"
      ],
      "execution_count": 5,
      "outputs": [
        {
          "output_type": "error",
          "ename": "AttributeError",
          "evalue": "ignored",
          "traceback": [
            "\u001b[0;31m---------------------------------------------------------------------------\u001b[0m",
            "\u001b[0;31mAttributeError\u001b[0m                            Traceback (most recent call last)",
            "\u001b[0;32m<ipython-input-5-bc408d519e41>\u001b[0m in \u001b[0;36m<module>\u001b[0;34m()\u001b[0m\n\u001b[1;32m      1\u001b[0m \u001b[0mdf\u001b[0m\u001b[0;34m.\u001b[0m\u001b[0mgroupby\u001b[0m\u001b[0;34m(\u001b[0m\u001b[0;34m'State'\u001b[0m\u001b[0;34m)\u001b[0m\u001b[0;34m\u001b[0m\u001b[0;34m\u001b[0m\u001b[0m\n\u001b[0;32m----> 2\u001b[0;31m \u001b[0mdf\u001b[0m\u001b[0;34m[\u001b[0m\u001b[0mdf\u001b[0m\u001b[0;34m.\u001b[0m\u001b[0mapply\u001b[0m\u001b[0;34m(\u001b[0m\u001b[0;32mlambda\u001b[0m \u001b[0mx\u001b[0m\u001b[0;34m:\u001b[0m \u001b[0mx\u001b[0m\u001b[0;34m.\u001b[0m\u001b[0misnumeric\u001b[0m\u001b[0;34m(\u001b[0m\u001b[0;34m)\u001b[0m\u001b[0;34m)\u001b[0m\u001b[0;34m]\u001b[0m\u001b[0;34m\u001b[0m\u001b[0;34m\u001b[0m\u001b[0m\n\u001b[0m\u001b[1;32m      3\u001b[0m \u001b[0mdf\u001b[0m\u001b[0;34m.\u001b[0m\u001b[0mmean\u001b[0m\u001b[0;34m(\u001b[0m\u001b[0;34m)\u001b[0m\u001b[0;34m.\u001b[0m\u001b[0mhead\u001b[0m\u001b[0;34m(\u001b[0m\u001b[0;34m)\u001b[0m\u001b[0;34m\u001b[0m\u001b[0;34m\u001b[0m\u001b[0m\n",
            "\u001b[0;32m/usr/local/lib/python3.6/dist-packages/pandas/core/frame.py\u001b[0m in \u001b[0;36mapply\u001b[0;34m(self, func, axis, broadcast, raw, reduce, result_type, args, **kwds)\u001b[0m\n\u001b[1;32m   6485\u001b[0m                          \u001b[0margs\u001b[0m\u001b[0;34m=\u001b[0m\u001b[0margs\u001b[0m\u001b[0;34m,\u001b[0m\u001b[0;34m\u001b[0m\u001b[0;34m\u001b[0m\u001b[0m\n\u001b[1;32m   6486\u001b[0m                          kwds=kwds)\n\u001b[0;32m-> 6487\u001b[0;31m         \u001b[0;32mreturn\u001b[0m \u001b[0mop\u001b[0m\u001b[0;34m.\u001b[0m\u001b[0mget_result\u001b[0m\u001b[0;34m(\u001b[0m\u001b[0;34m)\u001b[0m\u001b[0;34m\u001b[0m\u001b[0;34m\u001b[0m\u001b[0m\n\u001b[0m\u001b[1;32m   6488\u001b[0m \u001b[0;34m\u001b[0m\u001b[0m\n\u001b[1;32m   6489\u001b[0m     \u001b[0;32mdef\u001b[0m \u001b[0mapplymap\u001b[0m\u001b[0;34m(\u001b[0m\u001b[0mself\u001b[0m\u001b[0;34m,\u001b[0m \u001b[0mfunc\u001b[0m\u001b[0;34m)\u001b[0m\u001b[0;34m:\u001b[0m\u001b[0;34m\u001b[0m\u001b[0;34m\u001b[0m\u001b[0m\n",
            "\u001b[0;32m/usr/local/lib/python3.6/dist-packages/pandas/core/apply.py\u001b[0m in \u001b[0;36mget_result\u001b[0;34m(self)\u001b[0m\n\u001b[1;32m    149\u001b[0m             \u001b[0;32mreturn\u001b[0m \u001b[0mself\u001b[0m\u001b[0;34m.\u001b[0m\u001b[0mapply_raw\u001b[0m\u001b[0;34m(\u001b[0m\u001b[0;34m)\u001b[0m\u001b[0;34m\u001b[0m\u001b[0;34m\u001b[0m\u001b[0m\n\u001b[1;32m    150\u001b[0m \u001b[0;34m\u001b[0m\u001b[0m\n\u001b[0;32m--> 151\u001b[0;31m         \u001b[0;32mreturn\u001b[0m \u001b[0mself\u001b[0m\u001b[0;34m.\u001b[0m\u001b[0mapply_standard\u001b[0m\u001b[0;34m(\u001b[0m\u001b[0;34m)\u001b[0m\u001b[0;34m\u001b[0m\u001b[0;34m\u001b[0m\u001b[0m\n\u001b[0m\u001b[1;32m    152\u001b[0m \u001b[0;34m\u001b[0m\u001b[0m\n\u001b[1;32m    153\u001b[0m     \u001b[0;32mdef\u001b[0m \u001b[0mapply_empty_result\u001b[0m\u001b[0;34m(\u001b[0m\u001b[0mself\u001b[0m\u001b[0;34m)\u001b[0m\u001b[0;34m:\u001b[0m\u001b[0;34m\u001b[0m\u001b[0;34m\u001b[0m\u001b[0m\n",
            "\u001b[0;32m/usr/local/lib/python3.6/dist-packages/pandas/core/apply.py\u001b[0m in \u001b[0;36mapply_standard\u001b[0;34m(self)\u001b[0m\n\u001b[1;32m    255\u001b[0m \u001b[0;34m\u001b[0m\u001b[0m\n\u001b[1;32m    256\u001b[0m         \u001b[0;31m# compute the result using the series generator\u001b[0m\u001b[0;34m\u001b[0m\u001b[0;34m\u001b[0m\u001b[0;34m\u001b[0m\u001b[0m\n\u001b[0;32m--> 257\u001b[0;31m         \u001b[0mself\u001b[0m\u001b[0;34m.\u001b[0m\u001b[0mapply_series_generator\u001b[0m\u001b[0;34m(\u001b[0m\u001b[0;34m)\u001b[0m\u001b[0;34m\u001b[0m\u001b[0;34m\u001b[0m\u001b[0m\n\u001b[0m\u001b[1;32m    258\u001b[0m \u001b[0;34m\u001b[0m\u001b[0m\n\u001b[1;32m    259\u001b[0m         \u001b[0;31m# wrap results\u001b[0m\u001b[0;34m\u001b[0m\u001b[0;34m\u001b[0m\u001b[0;34m\u001b[0m\u001b[0m\n",
            "\u001b[0;32m/usr/local/lib/python3.6/dist-packages/pandas/core/apply.py\u001b[0m in \u001b[0;36mapply_series_generator\u001b[0;34m(self)\u001b[0m\n\u001b[1;32m    284\u001b[0m             \u001b[0;32mtry\u001b[0m\u001b[0;34m:\u001b[0m\u001b[0;34m\u001b[0m\u001b[0;34m\u001b[0m\u001b[0m\n\u001b[1;32m    285\u001b[0m                 \u001b[0;32mfor\u001b[0m \u001b[0mi\u001b[0m\u001b[0;34m,\u001b[0m \u001b[0mv\u001b[0m \u001b[0;32min\u001b[0m \u001b[0menumerate\u001b[0m\u001b[0;34m(\u001b[0m\u001b[0mseries_gen\u001b[0m\u001b[0;34m)\u001b[0m\u001b[0;34m:\u001b[0m\u001b[0;34m\u001b[0m\u001b[0;34m\u001b[0m\u001b[0m\n\u001b[0;32m--> 286\u001b[0;31m                     \u001b[0mresults\u001b[0m\u001b[0;34m[\u001b[0m\u001b[0mi\u001b[0m\u001b[0;34m]\u001b[0m \u001b[0;34m=\u001b[0m \u001b[0mself\u001b[0m\u001b[0;34m.\u001b[0m\u001b[0mf\u001b[0m\u001b[0;34m(\u001b[0m\u001b[0mv\u001b[0m\u001b[0;34m)\u001b[0m\u001b[0;34m\u001b[0m\u001b[0;34m\u001b[0m\u001b[0m\n\u001b[0m\u001b[1;32m    287\u001b[0m                     \u001b[0mkeys\u001b[0m\u001b[0;34m.\u001b[0m\u001b[0mappend\u001b[0m\u001b[0;34m(\u001b[0m\u001b[0mv\u001b[0m\u001b[0;34m.\u001b[0m\u001b[0mname\u001b[0m\u001b[0;34m)\u001b[0m\u001b[0;34m\u001b[0m\u001b[0;34m\u001b[0m\u001b[0m\n\u001b[1;32m    288\u001b[0m             \u001b[0;32mexcept\u001b[0m \u001b[0mException\u001b[0m \u001b[0;32mas\u001b[0m \u001b[0me\u001b[0m\u001b[0;34m:\u001b[0m\u001b[0;34m\u001b[0m\u001b[0;34m\u001b[0m\u001b[0m\n",
            "\u001b[0;32m<ipython-input-5-bc408d519e41>\u001b[0m in \u001b[0;36m<lambda>\u001b[0;34m(x)\u001b[0m\n\u001b[1;32m      1\u001b[0m \u001b[0mdf\u001b[0m\u001b[0;34m.\u001b[0m\u001b[0mgroupby\u001b[0m\u001b[0;34m(\u001b[0m\u001b[0;34m'State'\u001b[0m\u001b[0;34m)\u001b[0m\u001b[0;34m\u001b[0m\u001b[0;34m\u001b[0m\u001b[0m\n\u001b[0;32m----> 2\u001b[0;31m \u001b[0mdf\u001b[0m\u001b[0;34m[\u001b[0m\u001b[0mdf\u001b[0m\u001b[0;34m.\u001b[0m\u001b[0mapply\u001b[0m\u001b[0;34m(\u001b[0m\u001b[0;32mlambda\u001b[0m \u001b[0mx\u001b[0m\u001b[0;34m:\u001b[0m \u001b[0mx\u001b[0m\u001b[0;34m.\u001b[0m\u001b[0misnumeric\u001b[0m\u001b[0;34m(\u001b[0m\u001b[0;34m)\u001b[0m\u001b[0;34m)\u001b[0m\u001b[0;34m]\u001b[0m\u001b[0;34m\u001b[0m\u001b[0;34m\u001b[0m\u001b[0m\n\u001b[0m\u001b[1;32m      3\u001b[0m \u001b[0mdf\u001b[0m\u001b[0;34m.\u001b[0m\u001b[0mmean\u001b[0m\u001b[0;34m(\u001b[0m\u001b[0;34m)\u001b[0m\u001b[0;34m.\u001b[0m\u001b[0mhead\u001b[0m\u001b[0;34m(\u001b[0m\u001b[0;34m)\u001b[0m\u001b[0;34m\u001b[0m\u001b[0;34m\u001b[0m\u001b[0m\n",
            "\u001b[0;32m/usr/local/lib/python3.6/dist-packages/pandas/core/generic.py\u001b[0m in \u001b[0;36m__getattr__\u001b[0;34m(self, name)\u001b[0m\n\u001b[1;32m   5065\u001b[0m             \u001b[0;32mif\u001b[0m \u001b[0mself\u001b[0m\u001b[0;34m.\u001b[0m\u001b[0m_info_axis\u001b[0m\u001b[0;34m.\u001b[0m\u001b[0m_can_hold_identifiers_and_holds_name\u001b[0m\u001b[0;34m(\u001b[0m\u001b[0mname\u001b[0m\u001b[0;34m)\u001b[0m\u001b[0;34m:\u001b[0m\u001b[0;34m\u001b[0m\u001b[0;34m\u001b[0m\u001b[0m\n\u001b[1;32m   5066\u001b[0m                 \u001b[0;32mreturn\u001b[0m \u001b[0mself\u001b[0m\u001b[0;34m[\u001b[0m\u001b[0mname\u001b[0m\u001b[0;34m]\u001b[0m\u001b[0;34m\u001b[0m\u001b[0;34m\u001b[0m\u001b[0m\n\u001b[0;32m-> 5067\u001b[0;31m             \u001b[0;32mreturn\u001b[0m \u001b[0mobject\u001b[0m\u001b[0;34m.\u001b[0m\u001b[0m__getattribute__\u001b[0m\u001b[0;34m(\u001b[0m\u001b[0mself\u001b[0m\u001b[0;34m,\u001b[0m \u001b[0mname\u001b[0m\u001b[0;34m)\u001b[0m\u001b[0;34m\u001b[0m\u001b[0;34m\u001b[0m\u001b[0m\n\u001b[0m\u001b[1;32m   5068\u001b[0m \u001b[0;34m\u001b[0m\u001b[0m\n\u001b[1;32m   5069\u001b[0m     \u001b[0;32mdef\u001b[0m \u001b[0m__setattr__\u001b[0m\u001b[0;34m(\u001b[0m\u001b[0mself\u001b[0m\u001b[0;34m,\u001b[0m \u001b[0mname\u001b[0m\u001b[0;34m,\u001b[0m \u001b[0mvalue\u001b[0m\u001b[0;34m)\u001b[0m\u001b[0;34m:\u001b[0m\u001b[0;34m\u001b[0m\u001b[0;34m\u001b[0m\u001b[0m\n",
            "\u001b[0;31mAttributeError\u001b[0m: (\"'Series' object has no attribute 'isnumeric'\", 'occurred at index State')"
          ]
        }
      ]
    },
    {
      "cell_type": "code",
      "metadata": {
        "id": "-p9DDoIzmUCs",
        "colab_type": "code",
        "colab": {}
      },
      "source": [
        "df.groupby(['State', 'Location']).agg({'Cs-134':['mean', 'std'], 'Te-129':['min', 'max']})"
      ],
      "execution_count": 0,
      "outputs": []
    },
    {
      "cell_type": "code",
      "metadata": {
        "id": "5UGXlGilmUCv",
        "colab_type": "code",
        "colab": {}
      },
      "source": [
        ""
      ],
      "execution_count": 0,
      "outputs": []
    },
    {
      "cell_type": "code",
      "metadata": {
        "id": "KPwPTroNmUCx",
        "colab_type": "code",
        "colab": {}
      },
      "source": [
        "df('State').mean()"
      ],
      "execution_count": 0,
      "outputs": []
    },
    {
      "cell_type": "code",
      "metadata": {
        "id": "1WMTgbfTmUC0",
        "colab_type": "code",
        "colab": {}
      },
      "source": [
        "df_num = df.groupby(['State']).mean()\n",
        "df_num.head()"
      ],
      "execution_count": 0,
      "outputs": []
    },
    {
      "cell_type": "code",
      "metadata": {
        "id": "bp2lE-L_mUC2",
        "colab_type": "code",
        "colab": {}
      },
      "source": [
        ""
      ],
      "execution_count": 0,
      "outputs": []
    }
  ]
}