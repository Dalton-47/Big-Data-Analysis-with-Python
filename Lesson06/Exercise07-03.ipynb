{
 "cells": [
  {
   "cell_type": "code",
   "execution_count": 5,
   "metadata": {},
   "outputs": [],
   "source": [
    "# Exercise 03: Carry out mapping to gaussian distribution of numeric variables from the given data\n",
    "\n",
    "# import required libraries\n",
    "import numpy as np\n",
    "import pandas as pd\n",
    "import seaborn as sns\n",
    "import time\n",
    "import re\n",
    "import os\n",
    "import matplotlib.pyplot as plt\n",
    "sns.set(style=\"ticks\")\n",
    "\n",
    "# import libraries required for preprocessing\n",
    "import sklearn as sk\n",
    "from scipy import stats\n",
    "from sklearn import preprocessing\n",
    "\n",
    "# set the working directory # in the example, the folder 'packt_exercises' is in the desktop\n",
    "os.chdir(\"/Users/svk/Desktop/packt_exercises\")\n",
    "\n",
    "# read the downloaded input data (marketing data)\n",
    "df = pd.read_csv('bank.csv', sep=';')\n",
    "# df = pd.read_csv('auto_loan.csv')"
   ]
  },
  {
   "cell_type": "code",
   "execution_count": 6,
   "metadata": {},
   "outputs": [
    {
     "data": {
      "text/html": [
       "<div>\n",
       "<style scoped>\n",
       "    .dataframe tbody tr th:only-of-type {\n",
       "        vertical-align: middle;\n",
       "    }\n",
       "\n",
       "    .dataframe tbody tr th {\n",
       "        vertical-align: top;\n",
       "    }\n",
       "\n",
       "    .dataframe thead th {\n",
       "        text-align: right;\n",
       "    }\n",
       "</style>\n",
       "<table border=\"1\" class=\"dataframe\">\n",
       "  <thead>\n",
       "    <tr style=\"text-align: right;\">\n",
       "      <th></th>\n",
       "      <th>age</th>\n",
       "      <th>balance</th>\n",
       "      <th>day</th>\n",
       "      <th>duration</th>\n",
       "      <th>campaign</th>\n",
       "      <th>pdays</th>\n",
       "      <th>previous</th>\n",
       "    </tr>\n",
       "  </thead>\n",
       "  <tbody>\n",
       "    <tr>\n",
       "      <th>0</th>\n",
       "      <td>30</td>\n",
       "      <td>1787</td>\n",
       "      <td>19</td>\n",
       "      <td>79</td>\n",
       "      <td>1</td>\n",
       "      <td>-1</td>\n",
       "      <td>0</td>\n",
       "    </tr>\n",
       "    <tr>\n",
       "      <th>1</th>\n",
       "      <td>33</td>\n",
       "      <td>4789</td>\n",
       "      <td>11</td>\n",
       "      <td>220</td>\n",
       "      <td>1</td>\n",
       "      <td>339</td>\n",
       "      <td>4</td>\n",
       "    </tr>\n",
       "    <tr>\n",
       "      <th>2</th>\n",
       "      <td>35</td>\n",
       "      <td>1350</td>\n",
       "      <td>16</td>\n",
       "      <td>185</td>\n",
       "      <td>1</td>\n",
       "      <td>330</td>\n",
       "      <td>1</td>\n",
       "    </tr>\n",
       "    <tr>\n",
       "      <th>3</th>\n",
       "      <td>30</td>\n",
       "      <td>1476</td>\n",
       "      <td>3</td>\n",
       "      <td>199</td>\n",
       "      <td>4</td>\n",
       "      <td>-1</td>\n",
       "      <td>0</td>\n",
       "    </tr>\n",
       "    <tr>\n",
       "      <th>4</th>\n",
       "      <td>59</td>\n",
       "      <td>0</td>\n",
       "      <td>5</td>\n",
       "      <td>226</td>\n",
       "      <td>1</td>\n",
       "      <td>-1</td>\n",
       "      <td>0</td>\n",
       "    </tr>\n",
       "  </tbody>\n",
       "</table>\n",
       "</div>"
      ],
      "text/plain": [
       "   age  balance  day  duration  campaign  pdays  previous\n",
       "0   30     1787   19        79         1     -1         0\n",
       "1   33     4789   11       220         1    339         4\n",
       "2   35     1350   16       185         1    330         1\n",
       "3   30     1476    3       199         4     -1         0\n",
       "4   59        0    5       226         1     -1         0"
      ]
     },
     "execution_count": 6,
     "metadata": {},
     "output_type": "execute_result"
    }
   ],
   "source": [
    "# lets segment the data to numeric and categorical and carry out distribution transformation on the numeric data\n",
    "\n",
    "# for getting numerical data from the raw data\n",
    "numeric_df = df._get_numeric_data()\n",
    "numeric_df.head()"
   ]
  },
  {
   "cell_type": "code",
   "execution_count": 7,
   "metadata": {},
   "outputs": [
    {
     "name": "stdout",
     "output_type": "stream",
     "text": [
      "p = 1.98749e-70\n",
      "The null hypothesis can be rejected: non-normal distribution\n",
      "p = 0\n",
      "The null hypothesis can be rejected: non-normal distribution\n",
      "p = 3.08647e-278\n",
      "The null hypothesis can be rejected: non-normal distribution\n",
      "p = 0\n",
      "The null hypothesis can be rejected: non-normal distribution\n",
      "p = 0\n",
      "The null hypothesis can be rejected: non-normal distribution\n",
      "p = 0\n",
      "The null hypothesis can be rejected: non-normal distribution\n",
      "p = 0\n",
      "The null hypothesis can be rejected: non-normal distribution\n"
     ]
    }
   ],
   "source": [
    "# loop for identifying the columns with non-normal distribution \n",
    "numeric_df_array = np.array(numeric_df) # converting to numpy arrays for more efficient computation\n",
    "\n",
    "loop_c = -1\n",
    "col_for_normalization = list()\n",
    "\n",
    "for column in numeric_df_array.T:\n",
    "    loop_c+=1\n",
    "    x = column\n",
    "    k2, p = stats.normaltest(x) \n",
    "    alpha = 0.001\n",
    "    print(\"p = {:g}\".format(p))\n",
    "        \n",
    "    # rules for printing the normality output\n",
    "    if p < alpha:\n",
    "        test_result = \"non_normal_distr\"\n",
    "        col_for_normalization.append((loop_c)) # applicable if yeo-johnson is used\n",
    "        \n",
    "        #if min(x) > 0: # applicable if box-cox is used\n",
    "            #col_for_normalization.append((loop_c)) # applicable if box-cox is used\n",
    "        print(\"The null hypothesis can be rejected: non-normal distribution\")\n",
    "        \n",
    "    else:\n",
    "        test_result = \"normal_distr\"\n",
    "        print(\"The null hypothesis cannot be rejected: normal distribution\")"
   ]
  },
  {
   "cell_type": "code",
   "execution_count": 9,
   "metadata": {},
   "outputs": [],
   "source": [
    "# create a PowerTransformer based transformation (box-cox) (note: box-cox can handle only positive values)\n",
    "#pt = preprocessing.PowerTransformer(method='box-cox', standardize=False) # applicable if box-cox is used\n",
    "pt = preprocessing.PowerTransformer(method='yeo-johnson', standardize=True, copy=True) # applicable if yeo-johnson is used"
   ]
  },
  {
   "cell_type": "code",
   "execution_count": 10,
   "metadata": {},
   "outputs": [
    {
     "data": {
      "text/plain": [
       "<matplotlib.axes._subplots.AxesSubplot at 0x1a17ab26d8>"
      ]
     },
     "execution_count": 10,
     "metadata": {},
     "output_type": "execute_result"
    },
    {
     "data": {
      "image/png": "[encoded data removed]",
      "text/plain": [
       "<Figure size 432x288 with 1 Axes>"
      ]
     },
     "metadata": {},
     "output_type": "display_data"
    }
   ],
   "source": [
    "# select columns to  normalize\n",
    "columns_to_normalize = numeric_df[numeric_df.columns[col_for_normalization]]\n",
    "names_col = list(columns_to_normalize)\n",
    "\n",
    "# density plots of the features to check the normality\n",
    "columns_to_normalize.plot.kde(bw_method=3)"
   ]
  },
  {
   "cell_type": "code",
   "execution_count": 11,
   "metadata": {},
   "outputs": [
    {
     "data": {
      "text/plain": [
       "<matplotlib.axes._subplots.AxesSubplot at 0x1a16722208>"
      ]
     },
     "execution_count": 11,
     "metadata": {},
     "output_type": "execute_result"
    },
    {
     "data": {
      "image/png": "[encoded data removed]",
      "text/plain": [
       "<Figure size 432x288 with 1 Axes>"
      ]
     },
     "metadata": {},
     "output_type": "display_data"
    }
   ],
   "source": [
    "# transforming to normal distribution\n",
    "normalized_columns = pt.fit_transform(columns_to_normalize)\n",
    "normalized_columns = pd.DataFrame(normalized_columns, columns=names_col)\n",
    "\n",
    "# density plots of the features to check the normality\n",
    "normalized_columns.plot.kde(bw_method=3)"
   ]
  },
  {
   "cell_type": "code",
   "execution_count": 12,
   "metadata": {},
   "outputs": [
    {
     "name": "stdout",
     "output_type": "stream",
     "text": [
      "p = 5.41642e-23\n",
      "The null hypothesis can be rejected: non-normal distribution\n",
      "p = 0\n",
      "The null hypothesis can be rejected: non-normal distribution\n",
      "p = 1.64649e-201\n",
      "The null hypothesis can be rejected: non-normal distribution\n",
      "p = 0.00189662\n",
      "The null hypothesis cannot be rejected: normal distribution\n",
      "p = 0\n",
      "The null hypothesis can be rejected: non-normal distribution\n",
      "p = 3.97301e-248\n",
      "The null hypothesis can be rejected: non-normal distribution\n",
      "p = 4.44408e-248\n",
      "The null hypothesis can be rejected: non-normal distribution\n"
     ]
    }
   ],
   "source": [
    "# loop for identifying the columns with non-normal distribution on the transformed data\n",
    "numeric_df_array = np.array(normalized_columns) # converting to numpy arrays for more efficient computation\n",
    "\n",
    "loop_c = -1\n",
    "\n",
    "for column in numeric_df_array.T:\n",
    "    loop_c+=1\n",
    "    x = column\n",
    "    k2, p = stats.normaltest(x) \n",
    "    alpha = 0.001\n",
    "    print(\"p = {:g}\".format(p))\n",
    "        \n",
    "    # rules for printing the normality output\n",
    "    if p < alpha:\n",
    "        test_result = \"non_normal_distr\"\n",
    "        print(\"The null hypothesis can be rejected: non-normal distribution\")\n",
    "        \n",
    "    else:\n",
    "        test_result = \"normal_distr\"\n",
    "        print(\"The null hypothesis cannot be rejected: normal distribution\")"
   ]
  },
  {
   "cell_type": "code",
   "execution_count": 13,
   "metadata": {},
   "outputs": [
    {
     "data": {
      "text/html": [
       "<div>\n",
       "<style scoped>\n",
       "    .dataframe tbody tr th:only-of-type {\n",
       "        vertical-align: middle;\n",
       "    }\n",
       "\n",
       "    .dataframe tbody tr th {\n",
       "        vertical-align: top;\n",
       "    }\n",
       "\n",
       "    .dataframe thead th {\n",
       "        text-align: right;\n",
       "    }\n",
       "</style>\n",
       "<table border=\"1\" class=\"dataframe\">\n",
       "  <thead>\n",
       "    <tr style=\"text-align: right;\">\n",
       "      <th></th>\n",
       "      <th>age</th>\n",
       "      <th>balance</th>\n",
       "      <th>day</th>\n",
       "      <th>duration</th>\n",
       "      <th>campaign</th>\n",
       "      <th>pdays</th>\n",
       "      <th>previous</th>\n",
       "    </tr>\n",
       "  </thead>\n",
       "  <tbody>\n",
       "    <tr>\n",
       "      <th>0</th>\n",
       "      <td>-1.140684</td>\n",
       "      <td>0.282211</td>\n",
       "      <td>0.432746</td>\n",
       "      <td>-0.888110</td>\n",
       "      <td>-1.114491</td>\n",
       "      <td>-0.469086</td>\n",
       "      <td>-0.469131</td>\n",
       "    </tr>\n",
       "    <tr>\n",
       "      <th>1</th>\n",
       "      <td>-0.743809</td>\n",
       "      <td>1.209846</td>\n",
       "      <td>-0.525308</td>\n",
       "      <td>0.166967</td>\n",
       "      <td>-1.114491</td>\n",
       "      <td>2.154063</td>\n",
       "      <td>2.184828</td>\n",
       "    </tr>\n",
       "    <tr>\n",
       "      <th>2</th>\n",
       "      <td>-0.502259</td>\n",
       "      <td>0.130429</td>\n",
       "      <td>0.090102</td>\n",
       "      <td>-0.023029</td>\n",
       "      <td>-1.114491</td>\n",
       "      <td>2.153496</td>\n",
       "      <td>2.044698</td>\n",
       "    </tr>\n",
       "    <tr>\n",
       "      <th>3</th>\n",
       "      <td>-1.140684</td>\n",
       "      <td>0.174936</td>\n",
       "      <td>-1.721685</td>\n",
       "      <td>0.056370</td>\n",
       "      <td>1.077851</td>\n",
       "      <td>-0.469086</td>\n",
       "      <td>-0.469131</td>\n",
       "    </tr>\n",
       "    <tr>\n",
       "      <th>4</th>\n",
       "      <td>1.526244</td>\n",
       "      <td>-0.445382</td>\n",
       "      <td>-1.382422</td>\n",
       "      <td>0.196908</td>\n",
       "      <td>-1.114491</td>\n",
       "      <td>-0.469086</td>\n",
       "      <td>-0.469131</td>\n",
       "    </tr>\n",
       "  </tbody>\n",
       "</table>\n",
       "</div>"
      ],
      "text/plain": [
       "        age   balance       day  duration  campaign     pdays  previous\n",
       "0 -1.140684  0.282211  0.432746 -0.888110 -1.114491 -0.469086 -0.469131\n",
       "1 -0.743809  1.209846 -0.525308  0.166967 -1.114491  2.154063  2.184828\n",
       "2 -0.502259  0.130429  0.090102 -0.023029 -1.114491  2.153496  2.044698\n",
       "3 -1.140684  0.174936 -1.721685  0.056370  1.077851 -0.469086 -0.469131\n",
       "4  1.526244 -0.445382 -1.382422  0.196908 -1.114491 -0.469086 -0.469131"
      ]
     },
     "execution_count": 13,
     "metadata": {},
     "output_type": "execute_result"
    }
   ],
   "source": [
    "# select columns to not normalize\n",
    "columns_to_notnormalize = numeric_df\n",
    "columns_to_notnormalize.drop(columns_to_notnormalize.columns[col_for_normalization], axis=1, inplace=True)\n",
    "\n",
    "# binding both the non-normalized and normalized columns\n",
    "numeric_df_normalized = pd.concat([columns_to_notnormalize.reset_index(drop=True), normalized_columns], axis=1)\n",
    "\n",
    "numeric_df_normalized.head()"
   ]
  },
  {
   "cell_type": "code",
   "execution_count": 16,
   "metadata": {},
   "outputs": [
    {
     "data": {
      "text/plain": [
       "age         9.501726e-16\n",
       "balance     3.868038e-17\n",
       "day        -1.256828e-16\n",
       "duration    5.538345e-16\n",
       "campaign   -3.887500e-16\n",
       "pdays      -1.443953e-16\n",
       "previous   -2.857455e-16\n",
       "dtype: float64"
      ]
     },
     "execution_count": 16,
     "metadata": {},
     "output_type": "execute_result"
    }
   ],
   "source": [
    "numeric_df_normalized.mean()"
   ]
  },
  {
   "cell_type": "code",
   "execution_count": 9,
   "metadata": {},
   "outputs": [
    {
     "data": {
      "text/html": [
       "<div>\n",
       "<style scoped>\n",
       "    .dataframe tbody tr th:only-of-type {\n",
       "        vertical-align: middle;\n",
       "    }\n",
       "\n",
       "    .dataframe tbody tr th {\n",
       "        vertical-align: top;\n",
       "    }\n",
       "\n",
       "    .dataframe thead th {\n",
       "        text-align: right;\n",
       "    }\n",
       "</style>\n",
       "<table border=\"1\" class=\"dataframe\">\n",
       "  <thead>\n",
       "    <tr style=\"text-align: right;\">\n",
       "      <th></th>\n",
       "      <th>age</th>\n",
       "      <th>day</th>\n",
       "      <th>duration</th>\n",
       "      <th>campaign</th>\n",
       "    </tr>\n",
       "  </thead>\n",
       "  <tbody>\n",
       "    <tr>\n",
       "      <th>0</th>\n",
       "      <td>2.496086</td>\n",
       "      <td>9.878963</td>\n",
       "      <td>6.217047</td>\n",
       "      <td>0.000000</td>\n",
       "    </tr>\n",
       "    <tr>\n",
       "      <th>1</th>\n",
       "      <td>2.545174</td>\n",
       "      <td>6.268177</td>\n",
       "      <td>8.379996</td>\n",
       "      <td>0.000000</td>\n",
       "    </tr>\n",
       "    <tr>\n",
       "      <th>2</th>\n",
       "      <td>2.575033</td>\n",
       "      <td>8.590610</td>\n",
       "      <td>7.989852</td>\n",
       "      <td>0.000000</td>\n",
       "    </tr>\n",
       "    <tr>\n",
       "      <th>3</th>\n",
       "      <td>2.496086</td>\n",
       "      <td>1.658451</td>\n",
       "      <td>8.152847</td>\n",
       "      <td>0.956134</td>\n",
       "    </tr>\n",
       "    <tr>\n",
       "      <th>4</th>\n",
       "      <td>2.825718</td>\n",
       "      <td>2.991681</td>\n",
       "      <td>8.441514</td>\n",
       "      <td>0.000000</td>\n",
       "    </tr>\n",
       "  </tbody>\n",
       "</table>\n",
       "</div>"
      ],
      "text/plain": [
       "        age       day  duration  campaign\n",
       "0  2.496086  9.878963  6.217047  0.000000\n",
       "1  2.545174  6.268177  8.379996  0.000000\n",
       "2  2.575033  8.590610  7.989852  0.000000\n",
       "3  2.496086  1.658451  8.152847  0.956134\n",
       "4  2.825718  2.991681  8.441514  0.000000"
      ]
     },
     "execution_count": 9,
     "metadata": {},
     "output_type": "execute_result"
    }
   ],
   "source": [
    "# apply on a new dataset (evaluation data)\n",
    "\n",
    "# read data\n",
    "df = pd.read_csv('bank.csv', sep=';')\n",
    "\n",
    "# for getting numerical data from the raw data\n",
    "numeric_df = df._get_numeric_data()\n",
    "numeric_df_eval = numeric_df.head(10)\n",
    "\n",
    "columns_to_normalize_eval = numeric_df_eval[numeric_df_eval.columns[col_for_normalization]]\n",
    "columns_to_normalize_eval.head()\n",
    "columns_to_normalize_eval = pt.transform(columns_to_normalize_eval)\n",
    "columns_to_normalize_eval = pd.DataFrame(columns_to_normalize_eval, columns=names_col)\n",
    "\n",
    "columns_to_normalize_eval.head()"
   ]
  },
  {
   "cell_type": "code",
   "execution_count": null,
   "metadata": {},
   "outputs": [],
   "source": []
  },
  {
   "cell_type": "code",
   "execution_count": null,
   "metadata": {},
   "outputs": [],
   "source": []
  },
  {
   "cell_type": "code",
   "execution_count": null,
   "metadata": {},
   "outputs": [],
   "source": []
  },
  {
   "cell_type": "code",
   "execution_count": null,
   "metadata": {},
   "outputs": [],
   "source": []
  },
  {
   "cell_type": "code",
   "execution_count": null,
   "metadata": {},
   "outputs": [],
   "source": []
  },
  {
   "cell_type": "code",
   "execution_count": null,
   "metadata": {},
   "outputs": [],
   "source": []
  }
 ],
 "metadata": {
  "kernelspec": {
   "display_name": "Python 3",
   "language": "python",
   "name": "python3"
  },
  "language_info": {
   "codemirror_mode": {
    "name": "ipython",
    "version": 3
   },
   "file_extension": ".py",
   "mimetype": "text/x-python",
   "name": "python",
   "nbconvert_exporter": "python",
   "pygments_lexer": "ipython3",
   "version": "3.6.5"
  }
 },
 "nbformat": 4,
 "nbformat_minor": 2
}
